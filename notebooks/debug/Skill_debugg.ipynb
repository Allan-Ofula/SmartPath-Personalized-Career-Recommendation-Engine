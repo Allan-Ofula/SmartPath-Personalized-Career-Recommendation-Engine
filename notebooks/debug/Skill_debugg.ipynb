{
 "cells": [
  {
   "cell_type": "code",
   "execution_count": 2,
   "id": "cc643ea0-bb14-4f09-aa44-dc2c115cb839",
   "metadata": {},
   "outputs": [
    {
     "name": "stdout",
     "output_type": "stream",
     "text": [
      "['Active Learning', 'Active Listening', 'Complex Problem Solving', 'Coordination', 'Critical Thinking']\n"
     ]
    }
   ],
   "source": [
    "import sys\n",
    "sys.path.append('./app')  # Add the 'app' directory to the module search path\n",
    "\n",
    "from engine import get_encoded_skill_columns\n",
    "\n",
    "skills = get_encoded_skill_columns()\n",
    "print(skills[:5])\n"
   ]
  },
  {
   "cell_type": "code",
   "execution_count": 3,
   "id": "6e05ef29-739f-4d19-ad45-e6da4762cde2",
   "metadata": {},
   "outputs": [
    {
     "name": "stdout",
     "output_type": "stream",
     "text": [
      "True\n"
     ]
    }
   ],
   "source": [
    "from pathlib import Path\n",
    "\n",
    "# Use current working directory since __file__ isn't available in notebooks\n",
    "print((Path.cwd() / \"data\" / \"Skills.xlsx\").exists())\n"
   ]
  },
  {
   "cell_type": "code",
   "execution_count": 4,
   "id": "c8d33fdc-a59f-41e1-82fd-a8020be75ee4",
   "metadata": {},
   "outputs": [
    {
     "name": "stdout",
     "output_type": "stream",
     "text": [
      "['Active Learning', 'Active Listening', 'Complex Problem Solving', 'Coordination', 'Critical Thinking']\n"
     ]
    }
   ],
   "source": [
    "import pandas as pd\n",
    "from pathlib import Path\n",
    "\n",
    "def get_encoded_skill_columns():\n",
    "    # Load the Excel file\n",
    "    skills_path = Path.cwd() / \"data\" / \"Skills.xlsx\"\n",
    "    skills_df = pd.read_excel(skills_path)\n",
    "\n",
    "    # Filter for skills where Scale ID is 'IM' (Importance)\n",
    "    important_skills_df = skills_df[skills_df[\"Scale ID\"] == \"IM\"]\n",
    "\n",
    "    # Get unique skill names from 'Element Name' column\n",
    "    encoded_columns = sorted(important_skills_df[\"Element Name\"].unique().tolist())\n",
    "\n",
    "    return encoded_columns\n",
    "\n",
    "# Now call the function separately\n",
    "skills = get_encoded_skill_columns()\n",
    "\n",
    "# Preview first 5 skills\n",
    "print(skills[:5])\n"
   ]
  },
  {
   "cell_type": "code",
   "execution_count": 5,
   "id": "2d84f0e6-c83c-45a1-9c00-bbcb5d26c444",
   "metadata": {},
   "outputs": [
    {
     "name": "stdout",
     "output_type": "stream",
     "text": [
      "['Active Learning', 'Active Listening', 'Complex Problem Solving', 'Coordination', 'Critical Thinking']\n"
     ]
    }
   ],
   "source": [
    "import sys\n",
    "sys.path.append('./app')  # Add the 'app' directory to the module search path\n",
    "\n",
    "from engine import get_encoded_skill_columns\n",
    "\n",
    "skills = get_encoded_skill_columns()\n",
    "print(skills[:5])"
   ]
  },
  {
   "cell_type": "code",
   "execution_count": 6,
   "id": "33f1553d-9a9d-4092-ac97-122b13b95b63",
   "metadata": {},
   "outputs": [],
   "source": [
    "%load_ext autoreload\n",
    "%autoreload 2\n"
   ]
  },
  {
   "cell_type": "code",
   "execution_count": 7,
   "id": "c0353db0-83ac-42b2-b06c-ea5cc39d73c4",
   "metadata": {},
   "outputs": [
    {
     "name": "stdout",
     "output_type": "stream",
     "text": [
      "Found at: .\\app\\engine.py\n"
     ]
    }
   ],
   "source": [
    "import os\n",
    "\n",
    "for root, dirs, files in os.walk(\".\", topdown=True):\n",
    "    if \"engine.py\" in files:\n",
    "        print(\"Found at:\", os.path.join(root, \"engine.py\"))\n"
   ]
  },
  {
   "cell_type": "code",
   "execution_count": 12,
   "id": "d830c140-473c-4a30-b048-37105ae9ecd3",
   "metadata": {},
   "outputs": [
    {
     "name": "stdout",
     "output_type": "stream",
     "text": [
      "                                                 Title  \\\n",
      "369                                       Radiologists   \n",
      "384                                 Histotechnologists   \n",
      "175         Medical Scientists, Except Epidemiologists   \n",
      "385        Medical and Clinical Laboratory Technicians   \n",
      "207  Environmental Science and Protection Technicia...   \n",
      "205                             Biological Technicians   \n",
      "90                   Computer User Support Specialists   \n",
      "111                         Bioinformatics Technicians   \n",
      "152    Civil Engineering Technologists and Technicians   \n",
      "360                                  Anesthesiologists   \n",
      "\n",
      "     Hybrid Recommendation Score  User RIASEC Similarity  \\\n",
      "369                     0.454521                0.980053   \n",
      "384                     0.448669                0.965423   \n",
      "175                     0.448440                0.964850   \n",
      "385                     0.443949                0.953622   \n",
      "207                     0.442979                0.951197   \n",
      "205                     0.442620                0.950301   \n",
      "90                      0.440851                0.945878   \n",
      "111                     0.440782                0.945705   \n",
      "152                     0.440334                0.944584   \n",
      "360                     0.440209                0.944272   \n",
      "\n",
      "     User Skill Similarity  Normalized Education Score  \n",
      "369                    0.0                       0.625  \n",
      "384                    0.0                       0.625  \n",
      "175                    0.0                       0.625  \n",
      "385                    0.0                       0.625  \n",
      "207                    0.0                       0.625  \n",
      "205                    0.0                       0.625  \n",
      "90                     0.0                       0.625  \n",
      "111                    0.0                       0.625  \n",
      "152                    0.0                       0.625  \n",
      "360                    0.0                       0.625  \n"
     ]
    }
   ],
   "source": [
    "import importlib\n",
    "import engine\n",
    "importlib.reload(engine)\n",
    "\n",
    "from engine import job_profiles_clean, hybrid_similarity_recommender, merge_skills_into_profiles\n",
    "\n",
    "# Load Skills.xlsx manually\n",
    "skills_df = pd.read_excel(\"data/Skills.xlsx\")\n",
    "\n",
    "# Merge them\n",
    "jobs_df = merge_skills_into_profiles(job_profiles_clean, skills_df)\n",
    "\n",
    "user_profile = {\n",
    "    \"R\": 0.5,\n",
    "    \"I\": 0.7,\n",
    "    \"A\": 0.2,\n",
    "    \"S\": 0.4,\n",
    "    \"E\": 0.1,\n",
    "    \"C\": 0.6,\n",
    "    \"education_level\": \"Bachelor's Degree\",\n",
    "    \"skills\": [\"Active Listening\", \"Critical Thinking\"],\n",
    "    \"user_name\": \"Allan\"\n",
    "}\n",
    "# Then run recommender\n",
    "recommendations, debug_info = hybrid_similarity_recommender(user_profile)"
   ]
  },
  {
   "cell_type": "code",
   "execution_count": 16,
   "id": "b1157cda-9845-4483-8bdb-87d3f4da6dec",
   "metadata": {},
   "outputs": [
    {
     "data": {
      "text/plain": [
       "['Skill List_Apprenticeship',\n",
       " 'Skill List_Job-Related Professional Certification',\n",
       " 'Skill List_On-Site or In-Plant Training',\n",
       " 'Skill List_On-the-Job Training',\n",
       " 'Skill List_Related Work Experience',\n",
       " 'Skill List_Required Level of Education',\n",
       " 'Skill List_Active Learning_x',\n",
       " 'Skill List_Active Listening_x',\n",
       " 'Skill List_Complex Problem Solving_x',\n",
       " 'Skill List_Coordination_x',\n",
       " 'Skill List_Critical Thinking_x',\n",
       " 'Skill List_Equipment Maintenance_x',\n",
       " 'Skill List_Equipment Selection_x',\n",
       " 'Skill List_Installation_x',\n",
       " 'Skill List_Instructing_x',\n",
       " 'Skill List_Judgment and Decision Making_x',\n",
       " 'Skill List_Learning Strategies_x',\n",
       " 'Skill List_Management of Financial Resources_x',\n",
       " 'Skill List_Management of Material Resources_x',\n",
       " 'Skill List_Management of Personnel Resources_x',\n",
       " 'Skill List_Mathematics_x',\n",
       " 'Skill List_Monitoring_x',\n",
       " 'Skill List_Negotiation_x',\n",
       " 'Skill List_Operation and Control_x',\n",
       " 'Skill List_Operations Analysis_x',\n",
       " 'Skill List_Operations Monitoring_x',\n",
       " 'Skill List_Persuasion_x',\n",
       " 'Skill List_Programming_x',\n",
       " 'Skill List_Quality Control Analysis_x',\n",
       " 'Skill List_Reading Comprehension_x',\n",
       " 'Skill List_Repairing_x',\n",
       " 'Skill List_Science_x',\n",
       " 'Skill List_Service Orientation_x',\n",
       " 'Skill List_Social Perceptiveness_x',\n",
       " 'Skill List_Speaking_x',\n",
       " 'Skill List_Systems Analysis_x',\n",
       " 'Skill List_Systems Evaluation_x',\n",
       " 'Skill List_Technology Design_x',\n",
       " 'Skill List_Time Management_x',\n",
       " 'Skill List_Troubleshooting_x',\n",
       " 'Skill List_Writing_x',\n",
       " 'Skill List_Active Learning_y',\n",
       " 'Skill List_Active Listening_y',\n",
       " 'Skill List_Complex Problem Solving_y',\n",
       " 'Skill List_Coordination_y',\n",
       " 'Skill List_Critical Thinking_y',\n",
       " 'Skill List_Equipment Maintenance_y',\n",
       " 'Skill List_Equipment Selection_y',\n",
       " 'Skill List_Installation_y',\n",
       " 'Skill List_Instructing_y',\n",
       " 'Skill List_Judgment and Decision Making_y',\n",
       " 'Skill List_Learning Strategies_y',\n",
       " 'Skill List_Management of Financial Resources_y',\n",
       " 'Skill List_Management of Material Resources_y',\n",
       " 'Skill List_Management of Personnel Resources_y',\n",
       " 'Skill List_Mathematics_y',\n",
       " 'Skill List_Monitoring_y',\n",
       " 'Skill List_Negotiation_y',\n",
       " 'Skill List_Operation and Control_y',\n",
       " 'Skill List_Operations Analysis_y',\n",
       " 'Skill List_Operations Monitoring_y',\n",
       " 'Skill List_Persuasion_y',\n",
       " 'Skill List_Programming_y',\n",
       " 'Skill List_Quality Control Analysis_y',\n",
       " 'Skill List_Reading Comprehension_y',\n",
       " 'Skill List_Repairing_y',\n",
       " 'Skill List_Science_y',\n",
       " 'Skill List_Service Orientation_y',\n",
       " 'Skill List_Social Perceptiveness_y',\n",
       " 'Skill List_Speaking_y',\n",
       " 'Skill List_Systems Analysis_y',\n",
       " 'Skill List_Systems Evaluation_y',\n",
       " 'Skill List_Technology Design_y',\n",
       " 'Skill List_Time Management_y',\n",
       " 'Skill List_Troubleshooting_y',\n",
       " 'Skill List_Writing_y',\n",
       " 'Skill List_Active Learning',\n",
       " 'Skill List_Active Listening',\n",
       " 'Skill List_Complex Problem Solving',\n",
       " 'Skill List_Coordination',\n",
       " 'Skill List_Critical Thinking',\n",
       " 'Skill List_Equipment Maintenance',\n",
       " 'Skill List_Equipment Selection',\n",
       " 'Skill List_Installation',\n",
       " 'Skill List_Instructing',\n",
       " 'Skill List_Judgment and Decision Making',\n",
       " 'Skill List_Learning Strategies',\n",
       " 'Skill List_Management of Financial Resources',\n",
       " 'Skill List_Management of Material Resources',\n",
       " 'Skill List_Management of Personnel Resources',\n",
       " 'Skill List_Mathematics',\n",
       " 'Skill List_Monitoring',\n",
       " 'Skill List_Negotiation',\n",
       " 'Skill List_Operation and Control',\n",
       " 'Skill List_Operations Analysis',\n",
       " 'Skill List_Operations Monitoring',\n",
       " 'Skill List_Persuasion',\n",
       " 'Skill List_Programming',\n",
       " 'Skill List_Quality Control Analysis',\n",
       " 'Skill List_Reading Comprehension',\n",
       " 'Skill List_Repairing',\n",
       " 'Skill List_Science',\n",
       " 'Skill List_Service Orientation',\n",
       " 'Skill List_Social Perceptiveness',\n",
       " 'Skill List_Speaking',\n",
       " 'Skill List_Systems Analysis',\n",
       " 'Skill List_Systems Evaluation',\n",
       " 'Skill List_Technology Design',\n",
       " 'Skill List_Time Management',\n",
       " 'Skill List_Troubleshooting',\n",
       " 'Skill List_Writing']"
      ]
     },
     "execution_count": 16,
     "metadata": {},
     "output_type": "execute_result"
    }
   ],
   "source": [
    "[col for col in jobs_df.columns if col.startswith(\"Skill List_\")]"
   ]
  },
  {
   "cell_type": "code",
   "execution_count": 18,
   "id": "2cbf6ee3-b3f9-44f4-acb5-561102d978fa",
   "metadata": {},
   "outputs": [
    {
     "name": "stdout",
     "output_type": "stream",
     "text": [
      "User Skills: ['active listening', 'critical thinking']\n",
      "Job Profile Skills: ['apprenticeship', 'job-related professional certification', 'on-site or in-plant training', 'on-the-job training', 'related work experience', 'required level of education', 'active learning_x', 'active listening_x', 'complex problem solving_x', 'coordination_x', 'critical thinking_x', 'equipment maintenance_x', 'equipment selection_x', 'installation_x', 'instructing_x', 'judgment and decision making_x', 'learning strategies_x', 'management of financial resources_x', 'management of material resources_x', 'management of personnel resources_x', 'mathematics_x', 'monitoring_x', 'negotiation_x', 'operation and control_x', 'operations analysis_x', 'operations monitoring_x', 'persuasion_x', 'programming_x', 'quality control analysis_x', 'reading comprehension_x', 'repairing_x', 'science_x', 'service orientation_x', 'social perceptiveness_x', 'speaking_x', 'systems analysis_x', 'systems evaluation_x', 'technology design_x', 'time management_x', 'troubleshooting_x', 'writing_x', 'active learning_y', 'active listening_y', 'complex problem solving_y', 'coordination_y', 'critical thinking_y', 'equipment maintenance_y', 'equipment selection_y', 'installation_y', 'instructing_y', 'judgment and decision making_y', 'learning strategies_y', 'management of financial resources_y', 'management of material resources_y', 'management of personnel resources_y', 'mathematics_y', 'monitoring_y', 'negotiation_y', 'operation and control_y', 'operations analysis_y', 'operations monitoring_y', 'persuasion_y', 'programming_y', 'quality control analysis_y', 'reading comprehension_y', 'repairing_y', 'science_y', 'service orientation_y', 'social perceptiveness_y', 'speaking_y', 'systems analysis_y', 'systems evaluation_y', 'technology design_y', 'time management_y', 'troubleshooting_y', 'writing_y', 'active learning', 'active listening', 'complex problem solving', 'coordination', 'critical thinking', 'equipment maintenance', 'equipment selection', 'installation', 'instructing', 'judgment and decision making', 'learning strategies', 'management of financial resources', 'management of material resources', 'management of personnel resources', 'mathematics', 'monitoring', 'negotiation', 'operation and control', 'operations analysis', 'operations monitoring', 'persuasion', 'programming', 'quality control analysis', 'reading comprehension', 'repairing', 'science', 'service orientation', 'social perceptiveness', 'speaking', 'systems analysis', 'systems evaluation', 'technology design', 'time management', 'troubleshooting', 'writing']\n"
     ]
    }
   ],
   "source": [
    "user_skills = [skill.lower().strip() for skill in user_profile[\"skills\"]]\n",
    "\n",
    "job_profile_skills = [col.replace(\"Skill List_\", \"\").lower().strip() \n",
    "                      for col in jobs_df.columns if col.startswith(\"Skill List_\")]\n",
    "\n",
    "print(\"User Skills:\", user_skills)\n",
    "print(\"Job Profile Skills:\", job_profile_skills)"
   ]
  },
  {
   "cell_type": "code",
   "execution_count": 20,
   "id": "04e8499c-31bd-4c7e-92dd-f769832fe549",
   "metadata": {},
   "outputs": [
    {
     "name": "stdout",
     "output_type": "stream",
     "text": [
      "Matched Skills: {'active listening', 'critical thinking'}\n"
     ]
    }
   ],
   "source": [
    "matched_skills = set(user_skills).intersection(set(job_profile_skills))\n",
    "print(\"Matched Skills:\", matched_skills)"
   ]
  },
  {
   "cell_type": "code",
   "execution_count": 24,
   "id": "26ffa13f-684e-4489-b9d6-91573e289e2c",
   "metadata": {},
   "outputs": [],
   "source": [
    "job_profiles_clean = job_profiles_clean.merge(skills_df, on=\"Title\", how=\"left\")"
   ]
  },
  {
   "cell_type": "code",
   "execution_count": 26,
   "id": "ca0b0af1-d930-435c-86b9-dd2946846b86",
   "metadata": {},
   "outputs": [
    {
     "name": "stdout",
     "output_type": "stream",
     "text": [
      "Index(['ONET_Code', 'Title', 'Description', 'A', 'C', 'E',\n",
      "       'First Interest High-Point', 'I', 'R', 'Second Interest High-Point',\n",
      "       ...\n",
      "       'Scale Name', 'Data Value_y', 'N', 'Standard Error', 'Lower CI Bound',\n",
      "       'Upper CI Bound', 'Recommend Suppress', 'Not Relevant', 'Date',\n",
      "       'Domain Source'],\n",
      "      dtype='object', length=116)\n",
      "Index(['O*NET-SOC Code', 'Title', 'Element ID', 'Element Name', 'Scale ID',\n",
      "       'Scale Name', 'Data Value', 'N', 'Standard Error', 'Lower CI Bound',\n",
      "       'Upper CI Bound', 'Recommend Suppress', 'Not Relevant', 'Date',\n",
      "       'Domain Source'],\n",
      "      dtype='object')\n"
     ]
    }
   ],
   "source": [
    "print(job_profiles_clean.columns)\n",
    "print(skills_df.columns)"
   ]
  },
  {
   "cell_type": "code",
   "execution_count": 30,
   "id": "682a7316-c26c-47ab-acff-2de40a070cc0",
   "metadata": {},
   "outputs": [
    {
     "name": "stdout",
     "output_type": "stream",
     "text": [
      "Sample Titles in job_profiles_clean:\n",
      " ['Chief Executives' 'Chief Sustainability Officers'\n",
      " 'General and Operations Managers' 'Advertising and Promotions Managers'\n",
      " 'Marketing Managers']\n",
      "\n",
      "Sample Titles in skills_df:\n",
      " ['Chief Executives' 'Chief Sustainability Officers'\n",
      " 'General and Operations Managers' 'Advertising and Promotions Managers'\n",
      " 'Marketing Managers']\n"
     ]
    }
   ],
   "source": [
    "print(\"Sample Titles in job_profiles_clean:\\n\", job_profiles_clean['Title'].unique()[:5])\n",
    "print(\"\\nSample Titles in skills_df:\\n\", skills_df['Title'].unique()[:5])\n"
   ]
  },
  {
   "cell_type": "code",
   "execution_count": 32,
   "id": "6cf4a48f-dfee-4dac-b459-1a39f76fd2dc",
   "metadata": {},
   "outputs": [],
   "source": [
    "skills_df.rename(columns={\"O*NET-SOC Code\": \"ONET_Code\"}, inplace=True)"
   ]
  },
  {
   "cell_type": "code",
   "execution_count": 34,
   "id": "59c9560a-8e0e-4400-a1d3-a0a7b917642e",
   "metadata": {},
   "outputs": [
    {
     "name": "stdout",
     "output_type": "stream",
     "text": [
      "Index(['ONET_Code', 'Title', 'Description', 'A', 'C', 'E',\n",
      "       'First Interest High-Point', 'I', 'R', 'Second Interest High-Point',\n",
      "       ...\n",
      "       'Scale Name', 'Data Value_y', 'N', 'Standard Error', 'Lower CI Bound',\n",
      "       'Upper CI Bound', 'Recommend Suppress', 'Not Relevant', 'Date',\n",
      "       'Domain Source'],\n",
      "      dtype='object', length=116)\n",
      "Index(['ONET_Code', 'Title', 'Element ID', 'Element Name', 'Scale ID',\n",
      "       'Scale Name', 'Data Value', 'N', 'Standard Error', 'Lower CI Bound',\n",
      "       'Upper CI Bound', 'Recommend Suppress', 'Not Relevant', 'Date',\n",
      "       'Domain Source'],\n",
      "      dtype='object')\n"
     ]
    }
   ],
   "source": [
    "print(job_profiles_clean.columns)\n",
    "print(skills_df.columns)"
   ]
  },
  {
   "cell_type": "code",
   "execution_count": 36,
   "id": "486bb195-1aa8-4047-8fe7-1cf30e034835",
   "metadata": {},
   "outputs": [],
   "source": [
    "# Standardize job titles before merging\n",
    "job_profiles_clean['Title'] = job_profiles_clean['Title'].str.strip().str.lower()\n",
    "skills_df['Title'] = skills_df['Title'].str.strip().str.lower()\n",
    "\n",
    "# Merge on standardized title\n",
    "job_profiles_clean = job_profiles_clean.merge(skills_df, on=\"Title\", how=\"left\")"
   ]
  },
  {
   "cell_type": "code",
   "execution_count": 40,
   "id": "27bad158-88d0-462b-b3a3-a290ad8006f9",
   "metadata": {},
   "outputs": [
    {
     "name": "stdout",
     "output_type": "stream",
     "text": [
      "Index(['ONET_Code_x', 'Title', 'Description', 'A', 'C', 'E',\n",
      "       'First Interest High-Point', 'I', 'R', 'Second Interest High-Point',\n",
      "       ...\n",
      "       'Scale Name_y', 'Data Value', 'N_y', 'Standard Error_y',\n",
      "       'Lower CI Bound_y', 'Upper CI Bound_y', 'Recommend Suppress_y',\n",
      "       'Not Relevant_y', 'Date_y', 'Domain Source_y'],\n",
      "      dtype='object', length=130)\n"
     ]
    }
   ],
   "source": [
    "print(job_profiles_clean.columns)\n"
   ]
  },
  {
   "cell_type": "code",
   "execution_count": 50,
   "id": "9a299e80-6484-4ec0-b559-338598ce35fb",
   "metadata": {},
   "outputs": [],
   "source": [
    "skills_df = skills_df[skills_df['Element Name'].str.contains(\"skill\", case=False, na=False)]"
   ]
  },
  {
   "cell_type": "code",
   "execution_count": 52,
   "id": "700ed225-6d30-451d-a8aa-afd824cf77d0",
   "metadata": {},
   "outputs": [],
   "source": [
    "# Keep only necessary columns\n",
    "skills_df = skills_df[[\n",
    "    \"ONET_Code\", \"Title\", \"Element ID\", \"Element Name\", \"Scale ID\", \"Scale Name\", \"Data Value\"\n",
    "]]\n",
    "\n",
    "# (Optional) Remove duplicates\n",
    "skills_df = skills_df.drop_duplicates(subset=[\"ONET_Code\", \"Title\", \"Element ID\"])\n"
   ]
  },
  {
   "cell_type": "code",
   "execution_count": 54,
   "id": "bf6b1f9a-2c38-4621-9951-612a3e270eb4",
   "metadata": {},
   "outputs": [],
   "source": [
    "skills_summary = skills_df.groupby([\"ONET_Code\", \"Title\"])[\"Data Value\"].mean().reset_index()\n",
    "skills_summary.rename(columns={\"Data Value\": \"Avg Skill Value\"}, inplace=True)\n",
    "\n",
    "# Then merge with compressed data\n",
    "job_profiles_clean = job_profiles_clean.merge(\n",
    "    skills_summary,\n",
    "    on=[\"ONET_Code\", \"Title\"],\n",
    "    how=\"left\"\n",
    ")"
   ]
  },
  {
   "cell_type": "code",
   "execution_count": 56,
   "id": "a0924917-31ae-491e-9784-e9cf6e3a4f54",
   "metadata": {},
   "outputs": [
    {
     "name": "stdout",
     "output_type": "stream",
     "text": [
      "job_profiles_clean rows: 4101300\n",
      "skills_df rows: 0\n",
      "Unique job titles in skills_df: 0\n"
     ]
    }
   ],
   "source": [
    "print(\"job_profiles_clean rows:\", len(job_profiles_clean))\n",
    "print(\"skills_df rows:\", len(skills_df))\n",
    "print(\"Unique job titles in skills_df:\", skills_df[['Title', 'ONET_Code']].drop_duplicates().shape[0])"
   ]
  },
  {
   "cell_type": "code",
   "execution_count": 64,
   "id": "22c60786-d1c0-4a88-9618-583f443598a9",
   "metadata": {},
   "outputs": [
    {
     "name": "stdout",
     "output_type": "stream",
     "text": [
      "Shape after loading: (61530, 15)\n",
      "First 5 rows:\n",
      "   O*NET-SOC Code             Title Element ID           Element Name Scale ID  \\\n",
      "0     11-1011.00  Chief Executives    2.A.1.a  Reading Comprehension       IM   \n",
      "1     11-1011.00  Chief Executives    2.A.1.a  Reading Comprehension       LV   \n",
      "2     11-1011.00  Chief Executives    2.A.1.b       Active Listening       IM   \n",
      "3     11-1011.00  Chief Executives    2.A.1.b       Active Listening       LV   \n",
      "4     11-1011.00  Chief Executives    2.A.1.c                Writing       IM   \n",
      "\n",
      "   Scale Name  Data Value  N  Standard Error  Lower CI Bound  Upper CI Bound  \\\n",
      "0  Importance        4.12  8          0.1250          3.8800          4.3700   \n",
      "1       Level        4.62  8          0.1830          4.2664          4.9836   \n",
      "2  Importance        4.00  8          0.0000          4.0000          4.0000   \n",
      "3       Level        4.75  8          0.1637          4.4292          5.0708   \n",
      "4  Importance        4.12  8          0.1250          3.8800          4.3700   \n",
      "\n",
      "  Recommend Suppress Not Relevant     Date Domain Source  \n",
      "0                  N          NaN  08/2023       Analyst  \n",
      "1                  N            N  08/2023       Analyst  \n",
      "2                  N          NaN  08/2023       Analyst  \n",
      "3                  N            N  08/2023       Analyst  \n",
      "4                  N          NaN  08/2023       Analyst  \n"
     ]
    }
   ],
   "source": [
    "skills_df = pd.read_excel(\"data/Skills.xlsx\")  # adjust path if needed\n",
    "print(\"Shape after loading:\", skills_df.shape)\n",
    "print(\"First 5 rows:\\n\", skills_df.head())"
   ]
  },
  {
   "cell_type": "code",
   "execution_count": 66,
   "id": "9a85e97b-1304-43fd-8f97-d2c8453ece46",
   "metadata": {},
   "outputs": [
    {
     "name": "stdout",
     "output_type": "stream",
     "text": [
      "Shape after pivoting: (879, 36)\n",
      "Sample rows:\n",
      " Element Name O*NET-SOC Code  Active Learning  Active Listening  \\\n",
      "0                11-1011.00             3.75              4.00   \n",
      "1                11-1011.03             3.75              4.00   \n",
      "2                11-1021.00             3.62              4.00   \n",
      "3                11-2011.00             3.25              4.12   \n",
      "4                11-2021.00             3.88              3.88   \n",
      "\n",
      "Element Name  Complex Problem Solving  Coordination  Critical Thinking  \\\n",
      "0                                4.38          4.25               4.38   \n",
      "1                                4.00          3.75               4.12   \n",
      "2                                3.62          3.88               3.88   \n",
      "3                                3.50          3.50               4.00   \n",
      "4                                3.62          3.50               3.88   \n",
      "\n",
      "Element Name  Equipment Maintenance  Equipment Selection  Installation  \\\n",
      "0                               1.0                 1.12           1.0   \n",
      "1                               1.0                 1.12           1.0   \n",
      "2                               1.0                 1.00           1.0   \n",
      "3                               1.0                 1.12           1.0   \n",
      "4                               1.0                 1.00           1.0   \n",
      "\n",
      "Element Name  Instructing  ...  Science  Service Orientation  \\\n",
      "0                    3.38  ...     1.62                 3.12   \n",
      "1                    3.25  ...     2.12                 3.25   \n",
      "2                    3.00  ...     1.50                 3.25   \n",
      "3                    2.88  ...     1.62                 3.12   \n",
      "4                    3.00  ...     1.75                 3.12   \n",
      "\n",
      "Element Name  Social Perceptiveness  Speaking  Systems Analysis  \\\n",
      "0                              4.12      4.25              4.12   \n",
      "1                              3.88      4.00              3.88   \n",
      "2                              3.75      4.00              3.12   \n",
      "3                              4.00      4.00              3.12   \n",
      "4                              3.88      3.88              3.25   \n",
      "\n",
      "Element Name  Systems Evaluation  Technology Design  Time Management  \\\n",
      "0                           4.25               1.75             4.00   \n",
      "1                           3.88               1.88             3.38   \n",
      "2                           3.12               1.50             3.62   \n",
      "3                           3.12               1.75             3.50   \n",
      "4                           3.50               1.75             3.50   \n",
      "\n",
      "Element Name  Troubleshooting  Writing  \n",
      "0                        1.50     4.12  \n",
      "1                        1.00     4.12  \n",
      "2                        1.75     3.50  \n",
      "3                        1.00     3.75  \n",
      "4                        1.00     3.25  \n",
      "\n",
      "[5 rows x 36 columns]\n"
     ]
    }
   ],
   "source": [
    "# Step 1: Filter only \"Importance\" scale rows\n",
    "important_skills_df = skills_df[skills_df['Scale Name'] == 'Importance']\n",
    "\n",
    "# Step 2: Pivot so each skill is a column\n",
    "pivoted_skills = important_skills_df.pivot_table(\n",
    "    index='O*NET-SOC Code',\n",
    "    columns='Element Name',\n",
    "    values='Data Value'\n",
    ")\n",
    "\n",
    "# Step 3: Reset index and inspect\n",
    "pivoted_skills.reset_index(inplace=True)\n",
    "print(\"Shape after pivoting:\", pivoted_skills.shape)\n",
    "print(\"Sample rows:\\n\", pivoted_skills.head())"
   ]
  },
  {
   "cell_type": "code",
   "execution_count": 68,
   "id": "f25a34ab-bc81-4f08-8865-fe18145ac5ce",
   "metadata": {},
   "outputs": [],
   "source": [
    "pivoted_skills.rename(columns={'O*NET-SOC Code': 'ONET_Code'}, inplace=True)"
   ]
  },
  {
   "cell_type": "code",
   "execution_count": 70,
   "id": "1ed62498-8b2c-42cf-8425-4bb82fafabb6",
   "metadata": {},
   "outputs": [],
   "source": [
    "job_profiles_with_skills = pd.merge(job_profiles_clean, pivoted_skills, on='ONET_Code', how='left')"
   ]
  },
  {
   "cell_type": "code",
   "execution_count": 76,
   "id": "82e7d62a-07ac-4b04-a137-c8e339d9cd3b",
   "metadata": {},
   "outputs": [],
   "source": [
    "import numpy as np\n",
    "\n",
    "# Sample user input (you can customize this)\n",
    "user_input = {\n",
    "    'Critical Thinking': 4.5,\n",
    "    'Speaking': 4.0,\n",
    "    'Coordination': 3.5,\n",
    "    'Time Management': 4.0,\n",
    "    'Judgment and Decision Making': 4.2,\n",
    "    'Reading Comprehension': 4.3,\n",
    "    'Monitoring': 3.9,\n",
    "    'Systems Analysis': 4.1,\n",
    "    'Writing': 3.8,\n",
    "    'Active Listening': 4.0\n",
    "}\n",
    "\n",
    "skill_columns = pivoted_skills.columns.tolist()[1:]  # drop 'ONET_Code'\n",
    "\n",
    "# Create the user skill vector with zeros for missing inputs\n",
    "user_skills_vector = np.array([user_input.get(skill, 0.0) for skill in skill_columns])"
   ]
  },
  {
   "cell_type": "code",
   "execution_count": 78,
   "id": "f981c9f0-2284-4a9e-8fcc-6fc08ec0bfb1",
   "metadata": {},
   "outputs": [
    {
     "name": "stdout",
     "output_type": "stream",
     "text": [
      "User vector length: 35\n",
      "Job vector length: 35\n"
     ]
    }
   ],
   "source": [
    "print(\"User vector length:\", len(user_skills_vector))\n",
    "print(\"Job vector length:\", len(job_profiles_with_skills[skill_columns].iloc[0].values))\n"
   ]
  },
  {
   "cell_type": "code",
   "execution_count": 80,
   "id": "626a239b-63c5-4357-96bd-1a0b0a5752bc",
   "metadata": {},
   "outputs": [],
   "source": [
    "from sklearn.metrics.pairwise import cosine_similarity\n",
    "\n",
    "job_vectors = job_profiles_with_skills[skill_columns].fillna(0).values\n",
    "similarities = cosine_similarity([user_skills_vector], job_vectors)[0]\n",
    "\n",
    "job_profiles_with_skills['User Skill Similarity'] = similarities"
   ]
  },
  {
   "cell_type": "code",
   "execution_count": 82,
   "id": "78bfaa33-b922-4d5f-bf2d-346587eaf834",
   "metadata": {},
   "outputs": [
    {
     "data": {
      "text/html": [
       "<div>\n",
       "<style scoped>\n",
       "    .dataframe tbody tr th:only-of-type {\n",
       "        vertical-align: middle;\n",
       "    }\n",
       "\n",
       "    .dataframe tbody tr th {\n",
       "        vertical-align: top;\n",
       "    }\n",
       "\n",
       "    .dataframe thead th {\n",
       "        text-align: right;\n",
       "    }\n",
       "</style>\n",
       "<table border=\"1\" class=\"dataframe\">\n",
       "  <thead>\n",
       "    <tr style=\"text-align: right;\">\n",
       "      <th></th>\n",
       "      <th>Title</th>\n",
       "      <th>User Skill Similarity</th>\n",
       "    </tr>\n",
       "  </thead>\n",
       "  <tbody>\n",
       "    <tr>\n",
       "      <th>2773411</th>\n",
       "      <td>proofreaders and copy markers</td>\n",
       "      <td>0.751481</td>\n",
       "    </tr>\n",
       "    <tr>\n",
       "      <th>2775040</th>\n",
       "      <td>proofreaders and copy markers</td>\n",
       "      <td>0.751481</td>\n",
       "    </tr>\n",
       "    <tr>\n",
       "      <th>2775033</th>\n",
       "      <td>proofreaders and copy markers</td>\n",
       "      <td>0.751481</td>\n",
       "    </tr>\n",
       "    <tr>\n",
       "      <th>2775034</th>\n",
       "      <td>proofreaders and copy markers</td>\n",
       "      <td>0.751481</td>\n",
       "    </tr>\n",
       "    <tr>\n",
       "      <th>2775035</th>\n",
       "      <td>proofreaders and copy markers</td>\n",
       "      <td>0.751481</td>\n",
       "    </tr>\n",
       "    <tr>\n",
       "      <th>2775036</th>\n",
       "      <td>proofreaders and copy markers</td>\n",
       "      <td>0.751481</td>\n",
       "    </tr>\n",
       "    <tr>\n",
       "      <th>2775037</th>\n",
       "      <td>proofreaders and copy markers</td>\n",
       "      <td>0.751481</td>\n",
       "    </tr>\n",
       "    <tr>\n",
       "      <th>2775038</th>\n",
       "      <td>proofreaders and copy markers</td>\n",
       "      <td>0.751481</td>\n",
       "    </tr>\n",
       "    <tr>\n",
       "      <th>2775039</th>\n",
       "      <td>proofreaders and copy markers</td>\n",
       "      <td>0.751481</td>\n",
       "    </tr>\n",
       "    <tr>\n",
       "      <th>2775041</th>\n",
       "      <td>proofreaders and copy markers</td>\n",
       "      <td>0.751481</td>\n",
       "    </tr>\n",
       "  </tbody>\n",
       "</table>\n",
       "</div>"
      ],
      "text/plain": [
       "                                 Title  User Skill Similarity\n",
       "2773411  proofreaders and copy markers               0.751481\n",
       "2775040  proofreaders and copy markers               0.751481\n",
       "2775033  proofreaders and copy markers               0.751481\n",
       "2775034  proofreaders and copy markers               0.751481\n",
       "2775035  proofreaders and copy markers               0.751481\n",
       "2775036  proofreaders and copy markers               0.751481\n",
       "2775037  proofreaders and copy markers               0.751481\n",
       "2775038  proofreaders and copy markers               0.751481\n",
       "2775039  proofreaders and copy markers               0.751481\n",
       "2775041  proofreaders and copy markers               0.751481"
      ]
     },
     "metadata": {},
     "output_type": "display_data"
    }
   ],
   "source": [
    "top_matches = job_profiles_with_skills.sort_values(by='User Skill Similarity', ascending=False).head(10)\n",
    "display(top_matches[['Title', 'User Skill Similarity']])"
   ]
  },
  {
   "cell_type": "code",
   "execution_count": 84,
   "id": "ceae50ad-beaf-4f64-8959-9b753a813b44",
   "metadata": {},
   "outputs": [
    {
     "data": {
      "text/html": [
       "<div>\n",
       "<style scoped>\n",
       "    .dataframe tbody tr th:only-of-type {\n",
       "        vertical-align: middle;\n",
       "    }\n",
       "\n",
       "    .dataframe tbody tr th {\n",
       "        vertical-align: top;\n",
       "    }\n",
       "\n",
       "    .dataframe thead th {\n",
       "        text-align: right;\n",
       "    }\n",
       "</style>\n",
       "<table border=\"1\" class=\"dataframe\">\n",
       "  <thead>\n",
       "    <tr style=\"text-align: right;\">\n",
       "      <th></th>\n",
       "      <th>Title</th>\n",
       "      <th>User Skill Similarity</th>\n",
       "    </tr>\n",
       "  </thead>\n",
       "  <tbody>\n",
       "    <tr>\n",
       "      <th>2773411</th>\n",
       "      <td>proofreaders and copy markers</td>\n",
       "      <td>0.751481</td>\n",
       "    </tr>\n",
       "    <tr>\n",
       "      <th>2064529</th>\n",
       "      <td>medical transcriptionists</td>\n",
       "      <td>0.746481</td>\n",
       "    </tr>\n",
       "    <tr>\n",
       "      <th>1567994</th>\n",
       "      <td>technical writers</td>\n",
       "      <td>0.733998</td>\n",
       "    </tr>\n",
       "    <tr>\n",
       "      <th>2735429</th>\n",
       "      <td>legal secretaries and administrative assistants</td>\n",
       "      <td>0.726979</td>\n",
       "    </tr>\n",
       "    <tr>\n",
       "      <th>1153137</th>\n",
       "      <td>title examiners, abstractors, and searchers</td>\n",
       "      <td>0.724880</td>\n",
       "    </tr>\n",
       "    <tr>\n",
       "      <th>1143337</th>\n",
       "      <td>judges, magistrate judges, and magistrates</td>\n",
       "      <td>0.724047</td>\n",
       "    </tr>\n",
       "    <tr>\n",
       "      <th>1569632</th>\n",
       "      <td>writers and authors</td>\n",
       "      <td>0.723544</td>\n",
       "    </tr>\n",
       "    <tr>\n",
       "      <th>1146602</th>\n",
       "      <td>paralegals and legal assistants</td>\n",
       "      <td>0.720114</td>\n",
       "    </tr>\n",
       "    <tr>\n",
       "      <th>1582703</th>\n",
       "      <td>court reporters and simultaneous captioners</td>\n",
       "      <td>0.719529</td>\n",
       "    </tr>\n",
       "    <tr>\n",
       "      <th>1574536</th>\n",
       "      <td>poets, lyricists and creative writers</td>\n",
       "      <td>0.717836</td>\n",
       "    </tr>\n",
       "  </tbody>\n",
       "</table>\n",
       "</div>"
      ],
      "text/plain": [
       "                                                   Title  \\\n",
       "2773411                    proofreaders and copy markers   \n",
       "2064529                        medical transcriptionists   \n",
       "1567994                                technical writers   \n",
       "2735429  legal secretaries and administrative assistants   \n",
       "1153137      title examiners, abstractors, and searchers   \n",
       "1143337       judges, magistrate judges, and magistrates   \n",
       "1569632                              writers and authors   \n",
       "1146602                  paralegals and legal assistants   \n",
       "1582703      court reporters and simultaneous captioners   \n",
       "1574536            poets, lyricists and creative writers   \n",
       "\n",
       "         User Skill Similarity  \n",
       "2773411               0.751481  \n",
       "2064529               0.746481  \n",
       "1567994               0.733998  \n",
       "2735429               0.726979  \n",
       "1153137               0.724880  \n",
       "1143337               0.724047  \n",
       "1569632               0.723544  \n",
       "1146602               0.720114  \n",
       "1582703               0.719529  \n",
       "1574536               0.717836  "
      ]
     },
     "metadata": {},
     "output_type": "display_data"
    }
   ],
   "source": [
    "top_matches_unique = job_profiles_with_skills.sort_values(\n",
    "    by='User Skill Similarity', ascending=False\n",
    ").drop_duplicates(subset='Title').head(10)\n",
    "\n",
    "display(top_matches_unique[['Title', 'User Skill Similarity']])"
   ]
  },
  {
   "cell_type": "code",
   "execution_count": null,
   "id": "8c282027-8569-4233-af36-fe81175659ce",
   "metadata": {},
   "outputs": [],
   "source": []
  }
 ],
 "metadata": {
  "kernelspec": {
   "display_name": "Python [conda env:base] *",
   "language": "python",
   "name": "conda-base-py"
  },
  "language_info": {
   "codemirror_mode": {
    "name": "ipython",
    "version": 3
   },
   "file_extension": ".py",
   "mimetype": "text/x-python",
   "name": "python",
   "nbconvert_exporter": "python",
   "pygments_lexer": "ipython3",
   "version": "3.12.3"
  }
 },
 "nbformat": 4,
 "nbformat_minor": 5
}
