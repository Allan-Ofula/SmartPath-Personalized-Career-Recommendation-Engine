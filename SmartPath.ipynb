{
 "cells": [
  {
   "cell_type": "markdown",
   "id": "f85d713d-b1e2-4974-a39d-e0ccec46dbff",
   "metadata": {},
   "source": [
    "# SmartPath Career Recommendation System\n",
    "\n",
    "<img src = images\\smart_path.png alt = 'Smart Path' width= 300>"
   ]
  },
  {
   "cell_type": "markdown",
   "id": "9ea38bbb-c734-4a59-9ef6-e3ac02b421af",
   "metadata": {},
   "source": [
    "## Problem Statement\n",
    "In today’s global economy, the job market is evolving rapidly due to technology, automation, and changing skill demands. Meanwhile, students and job seekers, especially youth in underserved areas, struggle to make informed career decisions due to limited access to personalized, up-to-date guidance. Traditional career counseling services are often generic, inaccessible, or disconnected from real-world occupational data. As a result, many individuals pursue careers misaligned with their potential, leading to underemployment, poor job satisfaction, and wasted educational resources. SmartPath aims to address this gap by leveraging data from the O*NET occupational database to offer intelligent, personalized career recommendations based on a user's skills, interests, and education level.\n",
    "\n",
    "## Project Goal \n",
    "SmartPath aims to build a personalized, data-driven career recommendation system that:\n",
    "\n",
    "- Aligns individual users with career paths based on their unique skills, interests, and educational background.\n",
    "- Recommends alternative or adjacent careers that fit their profile.\n",
    "- Provides insights into job requirements, skill gaps, and occupational attributes.\n",
    "- Empowers users to make confident, informed career decisions using structured occupational data.\n",
    "\n",
    "## Scope of the Project\n",
    "The project will: \n",
    "- Use structured occupational data to model job profiles.\n",
    "- Accept user input related to skills, interests (RIASEC), and education level.\n",
    "- Compute similarity between the user’s profile and job profiles to generate career recommendations.\n",
    "- Display top matches, skill requirements, job descriptions, and related occupations.\n",
    "- Provide a simple user interface to interact with the recommendation engine."
   ]
  },
  {
   "cell_type": "markdown",
   "id": "369bdbf5",
   "metadata": {},
   "source": [
    "## 1. DATA UNDERSTANDING"
   ]
  },
  {
   "cell_type": "markdown",
   "id": "4db4a7a1-683c-45c1-878b-5d9d474cd057",
   "metadata": {},
   "source": [
    "### 1.1. Importing Libraries"
   ]
  },
  {
   "cell_type": "code",
   "execution_count": 1,
   "id": "4db73fd1-1c60-41c6-8219-5e317ec96b6f",
   "metadata": {},
   "outputs": [],
   "source": [
    "# Importing libraries\n",
    "import pandas as pd\n",
    "import os\n",
    "import seaborn as sns\n",
    "import matplotlib.pyplot as plt"
   ]
  },
  {
   "cell_type": "markdown",
   "id": "dfc1384d-999a-4c75-adfb-02fa61fdaad0",
   "metadata": {},
   "source": [
    "### 1.2. Loading the Dataset"
   ]
  },
  {
   "cell_type": "code",
   "execution_count": 2,
   "id": "502182b5-1f04-4689-9f7b-a93c1e35a2cf",
   "metadata": {},
   "outputs": [],
   "source": [
    "# Defining path to the dataset folder\n",
    "data_path = 'data'\n",
    "\n",
    "# Loading core datasets \n",
    "occupation_df = pd.read_excel(f'{data_path}/Occupation Data.xlsx')\n",
    "interests_df = pd.read_excel(f'{data_path}/Interests.xlsx')\n",
    "skills_df = pd.read_excel(f'{data_path}/Skills.xlsx')\n",
    "education_df = pd.read_excel(f'{data_path}/Education, Training, and Experience.xlsx')\n",
    "related_df = pd.read_excel(f'{data_path}/Related Occupations.xlsx')\n",
    "abilities_df = pd.read_excel(f'{data_path}/Abilities.xlsx')\n",
    "emerging_tasks_df = pd.read_excel(f'{data_path}/Emerging Tasks.xlsx')\n",
    "edu_categories_df = pd.read_excel(f'{data_path}/Education, Training, and Experience Categories.xlsx')"
   ]
  },
  {
   "cell_type": "markdown",
   "id": "a1c4f6bd-bd45-4f77-9355-e03b2a0fb451",
   "metadata": {},
   "source": [
    "### 1.3. Quick Peek at Data"
   ]
  },
  {
   "cell_type": "code",
   "execution_count": 3,
   "id": "bd49c571-0e03-4ea5-a062-5fd59cbc81a9",
   "metadata": {},
   "outputs": [
    {
     "name": "stdout",
     "output_type": "stream",
     "text": [
      "Occupations: (1016, 3)\n",
      "Interests: (8307, 9)\n",
      "Skills: (61530, 15)\n",
      "Education: (36209, 15)\n",
      "Related Jobs: (18460, 6)\n",
      "Abilities: (91416, 15)\n",
      "Emerging Tasks: (295, 8)\n",
      "Education Categories: (41, 6)\n"
     ]
    },
    {
     "data": {
      "text/html": [
       "<div>\n",
       "<style scoped>\n",
       "    .dataframe tbody tr th:only-of-type {\n",
       "        vertical-align: middle;\n",
       "    }\n",
       "\n",
       "    .dataframe tbody tr th {\n",
       "        vertical-align: top;\n",
       "    }\n",
       "\n",
       "    .dataframe thead th {\n",
       "        text-align: right;\n",
       "    }\n",
       "</style>\n",
       "<table border=\"1\" class=\"dataframe\">\n",
       "  <thead>\n",
       "    <tr style=\"text-align: right;\">\n",
       "      <th></th>\n",
       "      <th>O*NET-SOC Code</th>\n",
       "      <th>Title</th>\n",
       "      <th>Description</th>\n",
       "    </tr>\n",
       "  </thead>\n",
       "  <tbody>\n",
       "    <tr>\n",
       "      <th>0</th>\n",
       "      <td>11-1011.00</td>\n",
       "      <td>Chief Executives</td>\n",
       "      <td>Determine and formulate policies and provide o...</td>\n",
       "    </tr>\n",
       "    <tr>\n",
       "      <th>1</th>\n",
       "      <td>11-1011.03</td>\n",
       "      <td>Chief Sustainability Officers</td>\n",
       "      <td>Communicate and coordinate with management, sh...</td>\n",
       "    </tr>\n",
       "    <tr>\n",
       "      <th>2</th>\n",
       "      <td>11-1021.00</td>\n",
       "      <td>General and Operations Managers</td>\n",
       "      <td>Plan, direct, or coordinate the operations of ...</td>\n",
       "    </tr>\n",
       "  </tbody>\n",
       "</table>\n",
       "</div>"
      ],
      "text/plain": [
       "  O*NET-SOC Code                            Title  \\\n",
       "0     11-1011.00                 Chief Executives   \n",
       "1     11-1011.03    Chief Sustainability Officers   \n",
       "2     11-1021.00  General and Operations Managers   \n",
       "\n",
       "                                         Description  \n",
       "0  Determine and formulate policies and provide o...  \n",
       "1  Communicate and coordinate with management, sh...  \n",
       "2  Plan, direct, or coordinate the operations of ...  "
      ]
     },
     "execution_count": 3,
     "metadata": {},
     "output_type": "execute_result"
    }
   ],
   "source": [
    "# View structure of each DataFrame\n",
    "print(\"Occupations:\", occupation_df.shape)\n",
    "print(\"Interests:\", interests_df.shape)\n",
    "print(\"Skills:\", skills_df.shape)\n",
    "print(\"Education:\", education_df.shape)\n",
    "print(\"Related Jobs:\", related_df.shape)\n",
    "print(\"Abilities:\", abilities_df.shape)\n",
    "print(\"Emerging Tasks:\", emerging_tasks_df.shape)\n",
    "print(\"Education Categories:\", edu_categories_df.shape)\n",
    "\n",
    "# Display sample rows\n",
    "occupation_df.head(3)"
   ]
  },
  {
   "cell_type": "code",
   "execution_count": 4,
   "id": "82b4a889-283c-4e48-a0c4-14f04dcfc972",
   "metadata": {},
   "outputs": [
    {
     "data": {
      "text/html": [
       "<div>\n",
       "<style scoped>\n",
       "    .dataframe tbody tr th:only-of-type {\n",
       "        vertical-align: middle;\n",
       "    }\n",
       "\n",
       "    .dataframe tbody tr th {\n",
       "        vertical-align: top;\n",
       "    }\n",
       "\n",
       "    .dataframe thead th {\n",
       "        text-align: right;\n",
       "    }\n",
       "</style>\n",
       "<table border=\"1\" class=\"dataframe\">\n",
       "  <thead>\n",
       "    <tr style=\"text-align: right;\">\n",
       "      <th></th>\n",
       "      <th>O*NET-SOC Code</th>\n",
       "      <th>Title</th>\n",
       "      <th>Element ID</th>\n",
       "      <th>Element Name</th>\n",
       "      <th>Scale ID</th>\n",
       "      <th>Scale Name</th>\n",
       "      <th>Data Value</th>\n",
       "      <th>N</th>\n",
       "      <th>Standard Error</th>\n",
       "      <th>Lower CI Bound</th>\n",
       "      <th>Upper CI Bound</th>\n",
       "      <th>Recommend Suppress</th>\n",
       "      <th>Not Relevant</th>\n",
       "      <th>Date</th>\n",
       "      <th>Domain Source</th>\n",
       "    </tr>\n",
       "  </thead>\n",
       "  <tbody>\n",
       "    <tr>\n",
       "      <th>0</th>\n",
       "      <td>11-1011.00</td>\n",
       "      <td>Chief Executives</td>\n",
       "      <td>1.A.1.a.1</td>\n",
       "      <td>Oral Comprehension</td>\n",
       "      <td>IM</td>\n",
       "      <td>Importance</td>\n",
       "      <td>4.62</td>\n",
       "      <td>8</td>\n",
       "      <td>0.1830</td>\n",
       "      <td>4.2664</td>\n",
       "      <td>4.9836</td>\n",
       "      <td>N</td>\n",
       "      <td>NaN</td>\n",
       "      <td>08/2023</td>\n",
       "      <td>Analyst</td>\n",
       "    </tr>\n",
       "    <tr>\n",
       "      <th>1</th>\n",
       "      <td>11-1011.00</td>\n",
       "      <td>Chief Executives</td>\n",
       "      <td>1.A.1.a.1</td>\n",
       "      <td>Oral Comprehension</td>\n",
       "      <td>LV</td>\n",
       "      <td>Level</td>\n",
       "      <td>4.88</td>\n",
       "      <td>8</td>\n",
       "      <td>0.1250</td>\n",
       "      <td>4.6300</td>\n",
       "      <td>5.1200</td>\n",
       "      <td>N</td>\n",
       "      <td>N</td>\n",
       "      <td>08/2023</td>\n",
       "      <td>Analyst</td>\n",
       "    </tr>\n",
       "    <tr>\n",
       "      <th>2</th>\n",
       "      <td>11-1011.00</td>\n",
       "      <td>Chief Executives</td>\n",
       "      <td>1.A.1.a.2</td>\n",
       "      <td>Written Comprehension</td>\n",
       "      <td>IM</td>\n",
       "      <td>Importance</td>\n",
       "      <td>4.25</td>\n",
       "      <td>8</td>\n",
       "      <td>0.1637</td>\n",
       "      <td>3.9292</td>\n",
       "      <td>4.5708</td>\n",
       "      <td>N</td>\n",
       "      <td>NaN</td>\n",
       "      <td>08/2023</td>\n",
       "      <td>Analyst</td>\n",
       "    </tr>\n",
       "    <tr>\n",
       "      <th>3</th>\n",
       "      <td>11-1011.00</td>\n",
       "      <td>Chief Executives</td>\n",
       "      <td>1.A.1.a.2</td>\n",
       "      <td>Written Comprehension</td>\n",
       "      <td>LV</td>\n",
       "      <td>Level</td>\n",
       "      <td>4.88</td>\n",
       "      <td>8</td>\n",
       "      <td>0.1250</td>\n",
       "      <td>4.6300</td>\n",
       "      <td>5.1200</td>\n",
       "      <td>N</td>\n",
       "      <td>N</td>\n",
       "      <td>08/2023</td>\n",
       "      <td>Analyst</td>\n",
       "    </tr>\n",
       "    <tr>\n",
       "      <th>4</th>\n",
       "      <td>11-1011.00</td>\n",
       "      <td>Chief Executives</td>\n",
       "      <td>1.A.1.a.3</td>\n",
       "      <td>Oral Expression</td>\n",
       "      <td>IM</td>\n",
       "      <td>Importance</td>\n",
       "      <td>4.50</td>\n",
       "      <td>8</td>\n",
       "      <td>0.1890</td>\n",
       "      <td>4.1296</td>\n",
       "      <td>4.8704</td>\n",
       "      <td>N</td>\n",
       "      <td>NaN</td>\n",
       "      <td>08/2023</td>\n",
       "      <td>Analyst</td>\n",
       "    </tr>\n",
       "  </tbody>\n",
       "</table>\n",
       "</div>"
      ],
      "text/plain": [
       "  O*NET-SOC Code             Title Element ID           Element Name Scale ID  \\\n",
       "0     11-1011.00  Chief Executives  1.A.1.a.1     Oral Comprehension       IM   \n",
       "1     11-1011.00  Chief Executives  1.A.1.a.1     Oral Comprehension       LV   \n",
       "2     11-1011.00  Chief Executives  1.A.1.a.2  Written Comprehension       IM   \n",
       "3     11-1011.00  Chief Executives  1.A.1.a.2  Written Comprehension       LV   \n",
       "4     11-1011.00  Chief Executives  1.A.1.a.3        Oral Expression       IM   \n",
       "\n",
       "   Scale Name  Data Value  N  Standard Error  Lower CI Bound  Upper CI Bound  \\\n",
       "0  Importance        4.62  8          0.1830          4.2664          4.9836   \n",
       "1       Level        4.88  8          0.1250          4.6300          5.1200   \n",
       "2  Importance        4.25  8          0.1637          3.9292          4.5708   \n",
       "3       Level        4.88  8          0.1250          4.6300          5.1200   \n",
       "4  Importance        4.50  8          0.1890          4.1296          4.8704   \n",
       "\n",
       "  Recommend Suppress Not Relevant     Date Domain Source  \n",
       "0                  N          NaN  08/2023       Analyst  \n",
       "1                  N            N  08/2023       Analyst  \n",
       "2                  N          NaN  08/2023       Analyst  \n",
       "3                  N            N  08/2023       Analyst  \n",
       "4                  N          NaN  08/2023       Analyst  "
      ]
     },
     "execution_count": 4,
     "metadata": {},
     "output_type": "execute_result"
    }
   ],
   "source": [
    "occupation_df.head()\n",
    "interests_df.head()\n",
    "skills_df.head()\n",
    "education_df.head()\n",
    "related_df.head()\n",
    "abilities_df.head()"
   ]
  },
  {
   "cell_type": "markdown",
   "id": "4d08bcfb-48d0-4a97-a638-0f02ebded1fd",
   "metadata": {},
   "source": [
    "### 1.4. Data Structure"
   ]
  },
  {
   "cell_type": "code",
   "execution_count": 5,
   "id": "53635d7d-7577-4dce-93a9-4a352b60b11a",
   "metadata": {},
   "outputs": [
    {
     "data": {
      "text/plain": [
       "Index(['O*NET-SOC Code', 'Title', 'Related O*NET-SOC Code', 'Related Title',\n",
       "       'Relatedness Tier', 'Index'],\n",
       "      dtype='object')"
      ]
     },
     "execution_count": 5,
     "metadata": {},
     "output_type": "execute_result"
    }
   ],
   "source": [
    "occupation_df.columns  # See column names\n",
    "interests_df.columns\n",
    "skills_df.columns\n",
    "education_df.columns\n",
    "related_df.columns"
   ]
  },
  {
   "cell_type": "markdown",
   "id": "a2a94ec1-b758-4771-a73b-08992535aa43",
   "metadata": {},
   "source": [
    "### 1.5. Basic Cleanup & Rename \n",
    "* We’re renaming columns in the datasets for consistency and readability:\n",
    "     - Shorter column names (e.g., ONET_Code instead of 'O*NET-SOC Code')\n",
    "     - Standard naming across datasets\n",
    "     - Prepping for merging- Having it renamed uniformly avoids bugs and errors."
   ]
  },
  {
   "cell_type": "code",
   "execution_count": 6,
   "id": "c878bd84-854c-4ffc-af2f-fe82bca5ec75",
   "metadata": {},
   "outputs": [],
   "source": [
    "# Renaming for clarity\n",
    "occupation_df.rename(columns={'O*NET-SOC Code': 'ONET_Code'}, inplace=True)\n",
    "interests_df.rename(columns={'O*NET-SOC Code': 'ONET_Code'}, inplace=True)\n",
    "skills_df.rename(columns={'O*NET-SOC Code': 'ONET_Code'}, inplace=True)\n",
    "education_df.rename(columns={'O*NET-SOC Code': 'ONET_Code'}, inplace=True)\n",
    "related_df.rename(columns={'O*NET-SOC Code': 'ONET_Code'}, inplace=True)\n",
    "\n",
    "# Standardize abilities columns\n",
    "abilities_df = abilities_df[['O*NET-SOC Code', 'Element Name', 'Scale ID', 'Data Value']]\n",
    "abilities_df.rename(columns={'O*NET-SOC Code': 'ONET_Code', 'Element Name': 'Ability'}, inplace=True)\n",
    "abilities_df = abilities_df[abilities_df['Scale ID'] == 'IM']  # Keep only 'Importance'\n",
    "abilities_df.drop(columns='Scale ID', inplace=True)\n",
    "\n",
    "# Standardize emerging tasks and education categories\n",
    "emerging_tasks_df.rename(columns={'O*NET-SOC Code': 'ONET_Code'}, inplace=True)\n",
    "edu_categories_df.rename(columns={'O*NET-SOC Code': 'ONET_Code'}, inplace=True)"
   ]
  },
  {
   "cell_type": "code",
   "execution_count": 7,
   "id": "b96d9f55-5a37-4d2d-b546-8399930d49be",
   "metadata": {},
   "outputs": [
    {
     "data": {
      "text/html": [
       "<div>\n",
       "<style scoped>\n",
       "    .dataframe tbody tr th:only-of-type {\n",
       "        vertical-align: middle;\n",
       "    }\n",
       "\n",
       "    .dataframe tbody tr th {\n",
       "        vertical-align: top;\n",
       "    }\n",
       "\n",
       "    .dataframe thead th {\n",
       "        text-align: right;\n",
       "    }\n",
       "</style>\n",
       "<table border=\"1\" class=\"dataframe\">\n",
       "  <thead>\n",
       "    <tr style=\"text-align: right;\">\n",
       "      <th></th>\n",
       "      <th>ONET_Code</th>\n",
       "      <th>Prep Component</th>\n",
       "      <th>Preparation Type</th>\n",
       "      <th>Preparation Level</th>\n",
       "    </tr>\n",
       "  </thead>\n",
       "  <tbody>\n",
       "    <tr>\n",
       "      <th>0</th>\n",
       "      <td>11-1011.00</td>\n",
       "      <td>Required Level of Education</td>\n",
       "      <td>1.0</td>\n",
       "      <td>Less than a High School Diploma</td>\n",
       "    </tr>\n",
       "    <tr>\n",
       "      <th>1</th>\n",
       "      <td>11-1011.00</td>\n",
       "      <td>Required Level of Education</td>\n",
       "      <td>2.0</td>\n",
       "      <td>High School Diploma - or the equivalent (for e...</td>\n",
       "    </tr>\n",
       "    <tr>\n",
       "      <th>2</th>\n",
       "      <td>11-1011.00</td>\n",
       "      <td>Required Level of Education</td>\n",
       "      <td>3.0</td>\n",
       "      <td>Post-Secondary Certificate - awarded for train...</td>\n",
       "    </tr>\n",
       "    <tr>\n",
       "      <th>3</th>\n",
       "      <td>11-1011.00</td>\n",
       "      <td>Required Level of Education</td>\n",
       "      <td>4.0</td>\n",
       "      <td>Some College Courses</td>\n",
       "    </tr>\n",
       "    <tr>\n",
       "      <th>4</th>\n",
       "      <td>11-1011.00</td>\n",
       "      <td>Required Level of Education</td>\n",
       "      <td>5.0</td>\n",
       "      <td>Associate's Degree (or other 2-year degree)</td>\n",
       "    </tr>\n",
       "  </tbody>\n",
       "</table>\n",
       "</div>"
      ],
      "text/plain": [
       "    ONET_Code               Prep Component  Preparation Type  \\\n",
       "0  11-1011.00  Required Level of Education               1.0   \n",
       "1  11-1011.00  Required Level of Education               2.0   \n",
       "2  11-1011.00  Required Level of Education               3.0   \n",
       "3  11-1011.00  Required Level of Education               4.0   \n",
       "4  11-1011.00  Required Level of Education               5.0   \n",
       "\n",
       "                                   Preparation Level  \n",
       "0                    Less than a High School Diploma  \n",
       "1  High School Diploma - or the equivalent (for e...  \n",
       "2  Post-Secondary Certificate - awarded for train...  \n",
       "3                               Some College Courses  \n",
       "4        Associate's Degree (or other 2-year degree)  "
      ]
     },
     "execution_count": 7,
     "metadata": {},
     "output_type": "execute_result"
    }
   ],
   "source": [
    "# Merging education data with categories\n",
    "education_df_with_cat = education_df.merge(\n",
    "    edu_categories_df[['Element ID', 'Category', 'Category Description']],\n",
    "    on='Element ID',\n",
    "    how='left'\n",
    ")\n",
    "\n",
    "# Renaming columns for clarity\n",
    "education_df_with_cat.rename(columns={\n",
    "    'Element Name': 'Prep Component',\n",
    "    'Category_y': 'Preparation Type',  # <- Add this line\n",
    "    'Category Description': 'Preparation Level'\n",
    "}, inplace=True)\n",
    "\n",
    "# preview\n",
    "education_df_with_cat[['ONET_Code', 'Prep Component', 'Preparation Type', 'Preparation Level']].head()"
   ]
  },
  {
   "cell_type": "markdown",
   "id": "7bd775f3-108b-4067-8ab0-121953e29112",
   "metadata": {},
   "source": [
    "## 2.DATA PREPARATION\n",
    "We'll now:\n",
    "- Extract RIASEC profiles per occupation\n",
    "- Aggregate skills by occupation\n",
    "- Get education level for each occupation\n",
    "- Merge all into one clean job profile DataFrame"
   ]
  },
  {
   "cell_type": "markdown",
   "id": "ee2551a7-0a19-4c1b-b22d-8271b2ea598b",
   "metadata": {},
   "source": [
    "### 2.1 Transforming Interests and Creating RIASEC Vectors\n",
    "RIASEC Vectors refer to a structured way of representing a person’s career interests using the RIASEC model, developed by psychologist John L. Holland.\n",
    "| Code | Interest Type | Description                                     |\n",
    "| ---- | ------------- | ----------------------------------------------- |\n",
    "| R    | Realistic     | Practical, hands-on, physical activities        |\n",
    "| I    | Investigative | Analytical, intellectual, scientific tasks      |\n",
    "| A    | Artistic      | Creative, unstructured, expressive work         |\n",
    "| S    | Social        | Helping, teaching, interacting with people      |\n",
    "| E    | Enterprising  | Persuasive, leadership, business-oriented       |\n",
    "| C    | Conventional  | Detail-oriented, organizational, administrative |\n",
    "\n",
    "Each person has a RIASEC profile (a combination (vector) of these six interests)."
   ]
  },
  {
   "cell_type": "markdown",
   "id": "17dd039b-edb7-40bb-8802-b537fac59a00",
   "metadata": {},
   "source": [
    "Each occupation appears multiple times in interests_df — once for each of the 6 RIASEC types.\n",
    "\n",
    "We want to pivot this From:\n",
    "| ONET\\_Code | Element Name  | Data Value |\n",
    "| ---------- | ------------- | ---------- |\n",
    "| 11-1011.00 | Realistic     | 1.38       |\n",
    "| 11-1011.00 | Investigative | 2.25       |\n",
    "| 11-1011.00 | Enterprising  | 4.63       |\n",
    "| ...        | ...           | ...        |\n",
    "\n",
    "To:\n",
    "| ONET\\_Code | Realistic | Investigative | Artistic | Social | Enterprising | Conventional |\n",
    "| ---------- | --------- | ------------- | -------- | ------ | ------------ | ------------ |\n",
    "| 11-1011.00 | 1.38      | 2.25          | 0.75     | 1.12   | 4.63         | 2.50         |"
   ]
  },
  {
   "cell_type": "markdown",
   "id": "a05703da-2bce-4d46-89bb-eea278b1b46a",
   "metadata": {},
   "source": [
    "### 2.1.1 Pivot RIASEC scores"
   ]
  },
  {
   "cell_type": "code",
   "execution_count": 8,
   "id": "6fe7fca5-f9b9-4781-b8a7-c055434288c0",
   "metadata": {},
   "outputs": [
    {
     "data": {
      "text/html": [
       "<div>\n",
       "<style scoped>\n",
       "    .dataframe tbody tr th:only-of-type {\n",
       "        vertical-align: middle;\n",
       "    }\n",
       "\n",
       "    .dataframe tbody tr th {\n",
       "        vertical-align: top;\n",
       "    }\n",
       "\n",
       "    .dataframe thead th {\n",
       "        text-align: right;\n",
       "    }\n",
       "</style>\n",
       "<table border=\"1\" class=\"dataframe\">\n",
       "  <thead>\n",
       "    <tr style=\"text-align: right;\">\n",
       "      <th></th>\n",
       "      <th>ONET_Code</th>\n",
       "      <th>A</th>\n",
       "      <th>C</th>\n",
       "      <th>E</th>\n",
       "      <th>First Interest High-Point</th>\n",
       "      <th>I</th>\n",
       "      <th>R</th>\n",
       "      <th>Second Interest High-Point</th>\n",
       "      <th>S</th>\n",
       "      <th>Third Interest High-Point</th>\n",
       "    </tr>\n",
       "  </thead>\n",
       "  <tbody>\n",
       "    <tr>\n",
       "      <th>0</th>\n",
       "      <td>11-1011.00</td>\n",
       "      <td>2.08</td>\n",
       "      <td>5.00</td>\n",
       "      <td>6.88</td>\n",
       "      <td>5.0</td>\n",
       "      <td>3.24</td>\n",
       "      <td>1.30</td>\n",
       "      <td>6.0</td>\n",
       "      <td>3.52</td>\n",
       "      <td>0.0</td>\n",
       "    </tr>\n",
       "    <tr>\n",
       "      <th>1</th>\n",
       "      <td>11-1011.03</td>\n",
       "      <td>2.48</td>\n",
       "      <td>4.49</td>\n",
       "      <td>6.68</td>\n",
       "      <td>5.0</td>\n",
       "      <td>4.78</td>\n",
       "      <td>2.04</td>\n",
       "      <td>2.0</td>\n",
       "      <td>3.55</td>\n",
       "      <td>6.0</td>\n",
       "    </tr>\n",
       "    <tr>\n",
       "      <th>2</th>\n",
       "      <td>11-1021.00</td>\n",
       "      <td>1.31</td>\n",
       "      <td>5.32</td>\n",
       "      <td>6.96</td>\n",
       "      <td>5.0</td>\n",
       "      <td>2.39</td>\n",
       "      <td>2.22</td>\n",
       "      <td>6.0</td>\n",
       "      <td>3.37</td>\n",
       "      <td>0.0</td>\n",
       "    </tr>\n",
       "    <tr>\n",
       "      <th>3</th>\n",
       "      <td>11-1031.00</td>\n",
       "      <td>2.70</td>\n",
       "      <td>3.62</td>\n",
       "      <td>5.52</td>\n",
       "      <td>5.0</td>\n",
       "      <td>3.35</td>\n",
       "      <td>1.54</td>\n",
       "      <td>4.0</td>\n",
       "      <td>3.69</td>\n",
       "      <td>6.0</td>\n",
       "    </tr>\n",
       "    <tr>\n",
       "      <th>4</th>\n",
       "      <td>11-2011.00</td>\n",
       "      <td>3.85</td>\n",
       "      <td>4.30</td>\n",
       "      <td>7.00</td>\n",
       "      <td>5.0</td>\n",
       "      <td>1.71</td>\n",
       "      <td>1.07</td>\n",
       "      <td>6.0</td>\n",
       "      <td>3.14</td>\n",
       "      <td>3.0</td>\n",
       "    </tr>\n",
       "  </tbody>\n",
       "</table>\n",
       "</div>"
      ],
      "text/plain": [
       "    ONET_Code     A     C     E  First Interest High-Point     I     R  \\\n",
       "0  11-1011.00  2.08  5.00  6.88                        5.0  3.24  1.30   \n",
       "1  11-1011.03  2.48  4.49  6.68                        5.0  4.78  2.04   \n",
       "2  11-1021.00  1.31  5.32  6.96                        5.0  2.39  2.22   \n",
       "3  11-1031.00  2.70  3.62  5.52                        5.0  3.35  1.54   \n",
       "4  11-2011.00  3.85  4.30  7.00                        5.0  1.71  1.07   \n",
       "\n",
       "   Second Interest High-Point     S  Third Interest High-Point  \n",
       "0                         6.0  3.52                        0.0  \n",
       "1                         2.0  3.55                        6.0  \n",
       "2                         6.0  3.37                        0.0  \n",
       "3                         4.0  3.69                        6.0  \n",
       "4                         6.0  3.14                        3.0  "
      ]
     },
     "execution_count": 8,
     "metadata": {},
     "output_type": "execute_result"
    }
   ],
   "source": [
    "# Pivoting the interests to get one row per job with RIASEC scores\n",
    "riasec_df = interests_df.pivot_table(index='ONET_Code',\n",
    "                                     columns='Element Name',\n",
    "                                     values='Data Value').reset_index()\n",
    "\n",
    "# Renaming columns for consistency\n",
    "riasec_df.columns.name = None  # To remove multiindex\n",
    "riasec_df.rename(columns={\n",
    "    'Realistic': 'R',\n",
    "    'Investigative': 'I',\n",
    "    'Artistic': 'A',\n",
    "    'Social': 'S',\n",
    "    'Enterprising': 'E',\n",
    "    'Conventional': 'C'\n",
    "}, inplace=True)\n",
    "\n",
    "# Preview RIASEC vectors\n",
    "riasec_df.head()"
   ]
  },
  {
   "cell_type": "markdown",
   "id": "41c8d830-ce03-455d-bf7e-732be69cfedb",
   "metadata": {},
   "source": [
    "We now have RIASEC personality scores per job."
   ]
  },
  {
   "cell_type": "markdown",
   "id": "d6fceccb-ec9e-4525-935e-b9561243a70d",
   "metadata": {},
   "source": [
    "### 2.2 Transform Skills (Aggregating Top Skills per Job)"
   ]
  },
  {
   "cell_type": "code",
   "execution_count": 9,
   "id": "f82d2b02-2aa3-4ebf-a97d-8feb251246b6",
   "metadata": {},
   "outputs": [
    {
     "data": {
      "text/plain": [
       "Scale ID\n",
       "IM    30765\n",
       "LV    30765\n",
       "Name: count, dtype: int64"
      ]
     },
     "execution_count": 9,
     "metadata": {},
     "output_type": "execute_result"
    }
   ],
   "source": [
    "# Exploring what's in skills_df\n",
    "skills_df['Scale ID'].value_counts()"
   ]
  },
  {
   "cell_type": "markdown",
   "id": "72f7d2ab-9c24-432e-838b-8e30e2a711b5",
   "metadata": {},
   "source": [
    "O*NET provides two types of metrics for each skill:\n",
    "| Scale ID | Meaning        | Description                                                          |\n",
    "| -------- | -------------- | -------------------------------------------------------------------- |\n",
    "| `IM`     | **Importance** | How critical the skill is to job performance                         |\n",
    "| `LV`     | **Level**      | The degree of complexity or expertise required to perform that skill |\n",
    "\n",
    "We'll keep only IM for now and pivot the top 10 skills:\n",
    "- We'll use IM to prioritize what matters most in each job for similarity and recommendation.\n",
    "- We may use LV later for skill gap analysis, upskilling paths, or to enrich the UI.\n",
    "\n",
    "This will keep our recommender fast and user-friendly, while allowing deeper features later."
   ]
  },
  {
   "cell_type": "markdown",
   "id": "5177a157-28d8-403f-baab-93a5f00298c0",
   "metadata": {},
   "source": [
    "### 2.2.1 Filtering top skills by importance\n",
    "We'll extract the top N important skills per occupation."
   ]
  },
  {
   "cell_type": "code",
   "execution_count": 10,
   "id": "ac7ec058-ceb6-43ad-a036-f95e3c3c413b",
   "metadata": {},
   "outputs": [
    {
     "name": "stderr",
     "output_type": "stream",
     "text": [
      "C:\\Users\\eugene.maina\\AppData\\Local\\Temp\\ipykernel_12860\\1294161005.py:5: DeprecationWarning: DataFrameGroupBy.apply operated on the grouping columns. This behavior is deprecated, and in a future version of pandas the grouping columns will be excluded from the operation. Either pass `include_groups=False` to exclude the groupings or explicitly select the grouping columns after groupby to silence this warning.\n",
      "  top_skills_df = important_skills_df.groupby('ONET_Code', group_keys=False).apply(\n"
     ]
    },
    {
     "data": {
      "text/html": [
       "<div>\n",
       "<style scoped>\n",
       "    .dataframe tbody tr th:only-of-type {\n",
       "        vertical-align: middle;\n",
       "    }\n",
       "\n",
       "    .dataframe tbody tr th {\n",
       "        vertical-align: top;\n",
       "    }\n",
       "\n",
       "    .dataframe thead th {\n",
       "        text-align: right;\n",
       "    }\n",
       "</style>\n",
       "<table border=\"1\" class=\"dataframe\">\n",
       "  <thead>\n",
       "    <tr style=\"text-align: right;\">\n",
       "      <th></th>\n",
       "      <th>ONET_Code</th>\n",
       "      <th>Title</th>\n",
       "      <th>Element ID</th>\n",
       "      <th>Element Name</th>\n",
       "      <th>Scale ID</th>\n",
       "      <th>Scale Name</th>\n",
       "      <th>Data Value</th>\n",
       "      <th>N</th>\n",
       "      <th>Standard Error</th>\n",
       "      <th>Lower CI Bound</th>\n",
       "      <th>Upper CI Bound</th>\n",
       "      <th>Recommend Suppress</th>\n",
       "      <th>Not Relevant</th>\n",
       "      <th>Date</th>\n",
       "      <th>Domain Source</th>\n",
       "    </tr>\n",
       "  </thead>\n",
       "  <tbody>\n",
       "    <tr>\n",
       "      <th>0</th>\n",
       "      <td>11-1011.00</td>\n",
       "      <td>Chief Executives</td>\n",
       "      <td>2.B.4.e</td>\n",
       "      <td>Judgment and Decision Making</td>\n",
       "      <td>IM</td>\n",
       "      <td>Importance</td>\n",
       "      <td>4.75</td>\n",
       "      <td>8</td>\n",
       "      <td>0.1637</td>\n",
       "      <td>4.4292</td>\n",
       "      <td>5.0000</td>\n",
       "      <td>N</td>\n",
       "      <td>NaN</td>\n",
       "      <td>08/2023</td>\n",
       "      <td>Analyst</td>\n",
       "    </tr>\n",
       "    <tr>\n",
       "      <th>1</th>\n",
       "      <td>11-1011.00</td>\n",
       "      <td>Chief Executives</td>\n",
       "      <td>2.A.2.a</td>\n",
       "      <td>Critical Thinking</td>\n",
       "      <td>IM</td>\n",
       "      <td>Importance</td>\n",
       "      <td>4.38</td>\n",
       "      <td>8</td>\n",
       "      <td>0.1830</td>\n",
       "      <td>4.0164</td>\n",
       "      <td>4.7336</td>\n",
       "      <td>N</td>\n",
       "      <td>NaN</td>\n",
       "      <td>08/2023</td>\n",
       "      <td>Analyst</td>\n",
       "    </tr>\n",
       "    <tr>\n",
       "      <th>2</th>\n",
       "      <td>11-1011.00</td>\n",
       "      <td>Chief Executives</td>\n",
       "      <td>2.B.2.i</td>\n",
       "      <td>Complex Problem Solving</td>\n",
       "      <td>IM</td>\n",
       "      <td>Importance</td>\n",
       "      <td>4.38</td>\n",
       "      <td>8</td>\n",
       "      <td>0.1830</td>\n",
       "      <td>4.0164</td>\n",
       "      <td>4.7336</td>\n",
       "      <td>N</td>\n",
       "      <td>NaN</td>\n",
       "      <td>08/2023</td>\n",
       "      <td>Analyst</td>\n",
       "    </tr>\n",
       "    <tr>\n",
       "      <th>3</th>\n",
       "      <td>11-1011.00</td>\n",
       "      <td>Chief Executives</td>\n",
       "      <td>2.B.5.d</td>\n",
       "      <td>Management of Personnel Resources</td>\n",
       "      <td>IM</td>\n",
       "      <td>Importance</td>\n",
       "      <td>4.25</td>\n",
       "      <td>8</td>\n",
       "      <td>0.1637</td>\n",
       "      <td>3.9292</td>\n",
       "      <td>4.5708</td>\n",
       "      <td>N</td>\n",
       "      <td>NaN</td>\n",
       "      <td>08/2023</td>\n",
       "      <td>Analyst</td>\n",
       "    </tr>\n",
       "    <tr>\n",
       "      <th>4</th>\n",
       "      <td>11-1011.00</td>\n",
       "      <td>Chief Executives</td>\n",
       "      <td>2.B.1.b</td>\n",
       "      <td>Coordination</td>\n",
       "      <td>IM</td>\n",
       "      <td>Importance</td>\n",
       "      <td>4.25</td>\n",
       "      <td>8</td>\n",
       "      <td>0.1637</td>\n",
       "      <td>3.9292</td>\n",
       "      <td>4.5708</td>\n",
       "      <td>N</td>\n",
       "      <td>NaN</td>\n",
       "      <td>08/2023</td>\n",
       "      <td>Analyst</td>\n",
       "    </tr>\n",
       "    <tr>\n",
       "      <th>5</th>\n",
       "      <td>11-1011.00</td>\n",
       "      <td>Chief Executives</td>\n",
       "      <td>2.B.5.b</td>\n",
       "      <td>Management of Financial Resources</td>\n",
       "      <td>IM</td>\n",
       "      <td>Importance</td>\n",
       "      <td>4.25</td>\n",
       "      <td>8</td>\n",
       "      <td>0.1637</td>\n",
       "      <td>3.9292</td>\n",
       "      <td>4.5708</td>\n",
       "      <td>N</td>\n",
       "      <td>NaN</td>\n",
       "      <td>08/2023</td>\n",
       "      <td>Analyst</td>\n",
       "    </tr>\n",
       "    <tr>\n",
       "      <th>6</th>\n",
       "      <td>11-1011.00</td>\n",
       "      <td>Chief Executives</td>\n",
       "      <td>2.A.1.d</td>\n",
       "      <td>Speaking</td>\n",
       "      <td>IM</td>\n",
       "      <td>Importance</td>\n",
       "      <td>4.25</td>\n",
       "      <td>8</td>\n",
       "      <td>0.1637</td>\n",
       "      <td>3.9292</td>\n",
       "      <td>4.5708</td>\n",
       "      <td>N</td>\n",
       "      <td>NaN</td>\n",
       "      <td>08/2023</td>\n",
       "      <td>Analyst</td>\n",
       "    </tr>\n",
       "    <tr>\n",
       "      <th>7</th>\n",
       "      <td>11-1011.00</td>\n",
       "      <td>Chief Executives</td>\n",
       "      <td>2.B.4.h</td>\n",
       "      <td>Systems Evaluation</td>\n",
       "      <td>IM</td>\n",
       "      <td>Importance</td>\n",
       "      <td>4.25</td>\n",
       "      <td>8</td>\n",
       "      <td>0.1637</td>\n",
       "      <td>3.9292</td>\n",
       "      <td>4.5708</td>\n",
       "      <td>N</td>\n",
       "      <td>NaN</td>\n",
       "      <td>08/2023</td>\n",
       "      <td>Analyst</td>\n",
       "    </tr>\n",
       "    <tr>\n",
       "      <th>8</th>\n",
       "      <td>11-1011.00</td>\n",
       "      <td>Chief Executives</td>\n",
       "      <td>2.B.4.g</td>\n",
       "      <td>Systems Analysis</td>\n",
       "      <td>IM</td>\n",
       "      <td>Importance</td>\n",
       "      <td>4.12</td>\n",
       "      <td>8</td>\n",
       "      <td>0.1250</td>\n",
       "      <td>3.8800</td>\n",
       "      <td>4.3700</td>\n",
       "      <td>N</td>\n",
       "      <td>NaN</td>\n",
       "      <td>08/2023</td>\n",
       "      <td>Analyst</td>\n",
       "    </tr>\n",
       "    <tr>\n",
       "      <th>9</th>\n",
       "      <td>11-1011.00</td>\n",
       "      <td>Chief Executives</td>\n",
       "      <td>2.B.1.d</td>\n",
       "      <td>Negotiation</td>\n",
       "      <td>IM</td>\n",
       "      <td>Importance</td>\n",
       "      <td>4.12</td>\n",
       "      <td>8</td>\n",
       "      <td>0.1250</td>\n",
       "      <td>3.8800</td>\n",
       "      <td>4.3700</td>\n",
       "      <td>N</td>\n",
       "      <td>NaN</td>\n",
       "      <td>08/2023</td>\n",
       "      <td>Analyst</td>\n",
       "    </tr>\n",
       "  </tbody>\n",
       "</table>\n",
       "</div>"
      ],
      "text/plain": [
       "    ONET_Code             Title Element ID                       Element Name  \\\n",
       "0  11-1011.00  Chief Executives    2.B.4.e       Judgment and Decision Making   \n",
       "1  11-1011.00  Chief Executives    2.A.2.a                  Critical Thinking   \n",
       "2  11-1011.00  Chief Executives    2.B.2.i            Complex Problem Solving   \n",
       "3  11-1011.00  Chief Executives    2.B.5.d  Management of Personnel Resources   \n",
       "4  11-1011.00  Chief Executives    2.B.1.b                       Coordination   \n",
       "5  11-1011.00  Chief Executives    2.B.5.b  Management of Financial Resources   \n",
       "6  11-1011.00  Chief Executives    2.A.1.d                           Speaking   \n",
       "7  11-1011.00  Chief Executives    2.B.4.h                 Systems Evaluation   \n",
       "8  11-1011.00  Chief Executives    2.B.4.g                   Systems Analysis   \n",
       "9  11-1011.00  Chief Executives    2.B.1.d                        Negotiation   \n",
       "\n",
       "  Scale ID  Scale Name  Data Value  N  Standard Error  Lower CI Bound  \\\n",
       "0       IM  Importance        4.75  8          0.1637          4.4292   \n",
       "1       IM  Importance        4.38  8          0.1830          4.0164   \n",
       "2       IM  Importance        4.38  8          0.1830          4.0164   \n",
       "3       IM  Importance        4.25  8          0.1637          3.9292   \n",
       "4       IM  Importance        4.25  8          0.1637          3.9292   \n",
       "5       IM  Importance        4.25  8          0.1637          3.9292   \n",
       "6       IM  Importance        4.25  8          0.1637          3.9292   \n",
       "7       IM  Importance        4.25  8          0.1637          3.9292   \n",
       "8       IM  Importance        4.12  8          0.1250          3.8800   \n",
       "9       IM  Importance        4.12  8          0.1250          3.8800   \n",
       "\n",
       "   Upper CI Bound Recommend Suppress Not Relevant     Date Domain Source  \n",
       "0          5.0000                  N          NaN  08/2023       Analyst  \n",
       "1          4.7336                  N          NaN  08/2023       Analyst  \n",
       "2          4.7336                  N          NaN  08/2023       Analyst  \n",
       "3          4.5708                  N          NaN  08/2023       Analyst  \n",
       "4          4.5708                  N          NaN  08/2023       Analyst  \n",
       "5          4.5708                  N          NaN  08/2023       Analyst  \n",
       "6          4.5708                  N          NaN  08/2023       Analyst  \n",
       "7          4.5708                  N          NaN  08/2023       Analyst  \n",
       "8          4.3700                  N          NaN  08/2023       Analyst  \n",
       "9          4.3700                  N          NaN  08/2023       Analyst  "
      ]
     },
     "execution_count": 10,
     "metadata": {},
     "output_type": "execute_result"
    }
   ],
   "source": [
    "# Filtering only 'Importance' scores\n",
    "important_skills_df = skills_df[skills_df['Scale ID'] == 'IM']\n",
    "\n",
    "# Keeping top 10 most important skills per job\n",
    "top_skills_df = important_skills_df.groupby('ONET_Code', group_keys=False).apply(\n",
    "    lambda x: x.sort_values(by='Data Value', ascending=False).head(10)\n",
    ").reset_index(drop=True)\n",
    "\n",
    "# Preview of top skills for one job\n",
    "top_skills_df[top_skills_df['ONET_Code'] == '11-1011.00']"
   ]
  },
  {
   "cell_type": "markdown",
   "id": "e6cd0a5d-01d7-4fae-ba66-1ec20841e0d3",
   "metadata": {},
   "source": [
    "This top_skills_df now gives us:\n",
    "- A ranked list of the most important skills per job useful for matching a user’s known skills to jobs where they matter most. These skills can later be vectorized for similarity in our recommender\n",
    "\n",
    "\n",
    "| Column                              | Meaning                                                   |\n",
    "| ----------------------------------- | --------------------------------------------------------- |\n",
    "| `ONET_Code`                         | The job (e.g., `11-1011.00` = Chief Executives)           |\n",
    "| `Element Name`                      | The skill being rated (e.g., Critical Thinking)           |\n",
    "| `Data Value`                        | **Importance score** from 0–5 (how critical the skill is) |\n",
    "| `N`                                 | Sample size (e.g., how many people/data points)           |\n",
    "| `Standard Error`                    | Confidence level of the rating                            |\n",
    "| `Lower CI Bound` & `Upper CI Bound` | Confidence intervals                                      |\n",
    "| `Domain Source`                     | Analyst = Provided by experts (vs incumbents or surveys)  |"
   ]
  },
  {
   "cell_type": "markdown",
   "id": "1f2c2ded-1d96-4479-91e4-a848b2a94c21",
   "metadata": {},
   "source": [
    "### 2.2.2 Top required skills across occupations\n",
    "To help make our recommendations more explainable."
   ]
  },
  {
   "cell_type": "code",
   "execution_count": 11,
   "id": "48ed2b17-a6c8-4622-b0ef-4c6cc0670199",
   "metadata": {},
   "outputs": [
    {
     "data": {
      "image/png": "[encoded data removed]",
      "text/plain": [
       "<Figure size 800x600 with 1 Axes>"
      ]
     },
     "metadata": {},
     "output_type": "display_data"
    }
   ],
   "source": [
    "# Top 10 Skills for a Sample Job\n",
    "onet_id = '11-1011.00'  \n",
    "job_skills = top_skills_df[top_skills_df['ONET_Code'] == onet_id]\n",
    "\n",
    "plt.figure(figsize=(8,6))\n",
    "sns.barplot(x='Data Value', y='Element Name', data=job_skills.sort_values('Data Value'))\n",
    "plt.title(\"Top 10 Important Skills: Chief Executives\")\n",
    "plt.xlabel(\"Importance Score\")\n",
    "plt.ylabel(\"Skill\")\n",
    "plt.tight_layout()\n",
    "plt.savefig('images/top_skills_chief_executives.png', dpi=300)\n",
    "plt.show()"
   ]
  },
  {
   "cell_type": "markdown",
   "id": "e485c5fe-e1bd-4e0d-be80-f3a947fd3e00",
   "metadata": {},
   "source": [
    "**Interpretation:**\n",
    "- This bar chart shows the top 10 most important skills required for the occupation Chief Executives, based on the O*NET skill importance ratings.\n",
    "\n",
    "**Key Insights:**\n",
    "- The most valued skills include Judgment and Decision Making, Complex Problem Solving, and Critical Thinking.\n",
    "- Soft leadership abilities like Coordination and Speaking are equally emphasized.\n",
    "- This visual helps users identify key competencies to develop if they’re aiming for executive roles."
   ]
  },
  {
   "cell_type": "markdown",
   "id": "d5bcf585-5e28-4a49-b985-e79d483e7705",
   "metadata": {},
   "source": [
    "### 2.3 Education Level Per Job\n",
    "Here we are extracting the most common minimum required education level per job."
   ]
  },
  {
   "cell_type": "code",
   "execution_count": 12,
   "id": "4880bda7-5629-439b-ab77-2ccf8a2a9b22",
   "metadata": {},
   "outputs": [
    {
     "name": "stdout",
     "output_type": "stream",
     "text": [
      "Index(['Element ID', 'Element Name', 'Scale ID', 'Scale Name', 'Category',\n",
      "       'Category Description'],\n",
      "      dtype='object')\n"
     ]
    }
   ],
   "source": [
    "print(edu_categories_df.columns)\n"
   ]
  },
  {
   "cell_type": "code",
   "execution_count": 13,
   "id": "c7841a07-4a2b-4fef-9d1b-96b2a8da71ac",
   "metadata": {},
   "outputs": [],
   "source": [
    "# Merging education_df with education categories using Element ID\n",
    "education_df_with_cat = education_df.merge(\n",
    "    edu_categories_df[['Element ID', 'Category']],\n",
    "    on='Element ID',\n",
    "    how='left'\n",
    ")"
   ]
  },
  {
   "cell_type": "code",
   "execution_count": 14,
   "id": "e93338da-5c9d-458e-b89f-053238834252",
   "metadata": {},
   "outputs": [
    {
     "name": "stdout",
     "output_type": "stream",
     "text": [
      "['ONET_Code', 'Title', 'Element ID', 'Element Name', 'Scale ID', 'Scale Name', 'Category_x', 'Data Value', 'N', 'Standard Error', 'Lower CI Bound', 'Upper CI Bound', 'Recommend Suppress', 'Date', 'Domain Source', 'Category_y']\n"
     ]
    }
   ],
   "source": [
    "print(education_df_with_cat.columns.tolist())"
   ]
  },
  {
   "cell_type": "code",
   "execution_count": 15,
   "id": "f8bb9cef-9c3e-409b-aada-0fa97b817133",
   "metadata": {},
   "outputs": [
    {
     "data": {
      "text/html": [
       "<div>\n",
       "<style scoped>\n",
       "    .dataframe tbody tr th:only-of-type {\n",
       "        vertical-align: middle;\n",
       "    }\n",
       "\n",
       "    .dataframe tbody tr th {\n",
       "        vertical-align: top;\n",
       "    }\n",
       "\n",
       "    .dataframe thead th {\n",
       "        text-align: right;\n",
       "    }\n",
       "</style>\n",
       "<table border=\"1\" class=\"dataframe\">\n",
       "  <thead>\n",
       "    <tr style=\"text-align: right;\">\n",
       "      <th></th>\n",
       "      <th>ONET_Code</th>\n",
       "      <th>Education Level</th>\n",
       "      <th>Data Value</th>\n",
       "      <th>Education Category</th>\n",
       "    </tr>\n",
       "  </thead>\n",
       "  <tbody>\n",
       "    <tr>\n",
       "      <th>5638</th>\n",
       "      <td>11-3051.01</td>\n",
       "      <td>Required Level of Education</td>\n",
       "      <td>100.00</td>\n",
       "      <td>12.0</td>\n",
       "    </tr>\n",
       "    <tr>\n",
       "      <th>178363</th>\n",
       "      <td>29-9092.00</td>\n",
       "      <td>Required Level of Education</td>\n",
       "      <td>100.00</td>\n",
       "      <td>5.0</td>\n",
       "    </tr>\n",
       "    <tr>\n",
       "      <th>230522</th>\n",
       "      <td>43-2021.00</td>\n",
       "      <td>Required Level of Education</td>\n",
       "      <td>97.83</td>\n",
       "      <td>6.0</td>\n",
       "    </tr>\n",
       "    <tr>\n",
       "      <th>334045</th>\n",
       "      <td>51-8093.00</td>\n",
       "      <td>Required Level of Education</td>\n",
       "      <td>97.02</td>\n",
       "      <td>9.0</td>\n",
       "    </tr>\n",
       "    <tr>\n",
       "      <th>281425</th>\n",
       "      <td>47-5081.00</td>\n",
       "      <td>Required Level of Education</td>\n",
       "      <td>96.59</td>\n",
       "      <td>8.0</td>\n",
       "    </tr>\n",
       "  </tbody>\n",
       "</table>\n",
       "</div>"
      ],
      "text/plain": [
       "         ONET_Code              Education Level  Data Value  \\\n",
       "5638    11-3051.01  Required Level of Education      100.00   \n",
       "178363  29-9092.00  Required Level of Education      100.00   \n",
       "230522  43-2021.00  Required Level of Education       97.83   \n",
       "334045  51-8093.00  Required Level of Education       97.02   \n",
       "281425  47-5081.00  Required Level of Education       96.59   \n",
       "\n",
       "        Education Category  \n",
       "5638                  12.0  \n",
       "178363                 5.0  \n",
       "230522                 6.0  \n",
       "334045                 9.0  \n",
       "281425                 8.0  "
      ]
     },
     "execution_count": 15,
     "metadata": {},
     "output_type": "execute_result"
    }
   ],
   "source": [
    "# Getting the most common (highest scoring) education level per job, now with category\n",
    "edu_df_with_cat = (\n",
    "    education_df_with_cat\n",
    "    .sort_values(by='Data Value', ascending=False)\n",
    "    .drop_duplicates(subset='ONET_Code')\n",
    "    [['ONET_Code', 'Element Name', 'Data Value', 'Category_y']]\n",
    "    .rename(columns={\n",
    "        'Element Name': 'Education Level',\n",
    "        'Category_y': 'Education Category'\n",
    "    })\n",
    ")\n",
    "\n",
    "# Preview the result\n",
    "edu_df_with_cat.head()"
   ]
  },
  {
   "cell_type": "markdown",
   "id": "20bf01d5-b7ce-41ec-8e22-3ed251eb4dcb",
   "metadata": {},
   "source": [
    "100.00 means 100% of surveyed job incumbents or analysts agreed that this is the most common education level required for that job.\n",
    "\n",
    "Right now, \"Education Level\" only says \"Required Level of Education\" which is too vague. We’ll improve this by joining it with Education, Training, and Experience Categories datasets which maps education Element IDs to actual levels like:\n",
    "- High school diploma\n",
    "- Associate's degree\n",
    "- Bachelor's degree\n",
    "- Master's degree"
   ]
  },
  {
   "cell_type": "markdown",
   "id": "54b685d2-a973-4438-b8e4-f230d6510b5c",
   "metadata": {},
   "source": [
    "### 2.4 Merging All into One Master Job Profile"
   ]
  },
  {
   "cell_type": "code",
   "execution_count": 16,
   "id": "a43bacba-982e-4927-a8ff-ed1683559d0b",
   "metadata": {},
   "outputs": [
    {
     "data": {
      "text/html": [
       "<div>\n",
       "<style scoped>\n",
       "    .dataframe tbody tr th:only-of-type {\n",
       "        vertical-align: middle;\n",
       "    }\n",
       "\n",
       "    .dataframe tbody tr th {\n",
       "        vertical-align: top;\n",
       "    }\n",
       "\n",
       "    .dataframe thead th {\n",
       "        text-align: right;\n",
       "    }\n",
       "</style>\n",
       "<table border=\"1\" class=\"dataframe\">\n",
       "  <thead>\n",
       "    <tr style=\"text-align: right;\">\n",
       "      <th></th>\n",
       "      <th>ONET_Code</th>\n",
       "      <th>Title</th>\n",
       "      <th>Description</th>\n",
       "      <th>A</th>\n",
       "      <th>C</th>\n",
       "      <th>E</th>\n",
       "      <th>First Interest High-Point</th>\n",
       "      <th>I</th>\n",
       "      <th>R</th>\n",
       "      <th>Second Interest High-Point</th>\n",
       "      <th>S</th>\n",
       "      <th>Third Interest High-Point</th>\n",
       "      <th>Education Level</th>\n",
       "      <th>Data Value</th>\n",
       "      <th>Education Category</th>\n",
       "    </tr>\n",
       "  </thead>\n",
       "  <tbody>\n",
       "    <tr>\n",
       "      <th>0</th>\n",
       "      <td>11-1011.00</td>\n",
       "      <td>Chief Executives</td>\n",
       "      <td>Determine and formulate policies and provide o...</td>\n",
       "      <td>2.08</td>\n",
       "      <td>5.00</td>\n",
       "      <td>6.88</td>\n",
       "      <td>5.0</td>\n",
       "      <td>3.24</td>\n",
       "      <td>1.30</td>\n",
       "      <td>6.0</td>\n",
       "      <td>3.52</td>\n",
       "      <td>0.0</td>\n",
       "      <td>Related Work Experience</td>\n",
       "      <td>68.24</td>\n",
       "      <td>7.0</td>\n",
       "    </tr>\n",
       "    <tr>\n",
       "      <th>1</th>\n",
       "      <td>11-1011.03</td>\n",
       "      <td>Chief Sustainability Officers</td>\n",
       "      <td>Communicate and coordinate with management, sh...</td>\n",
       "      <td>2.48</td>\n",
       "      <td>4.49</td>\n",
       "      <td>6.68</td>\n",
       "      <td>5.0</td>\n",
       "      <td>4.78</td>\n",
       "      <td>2.04</td>\n",
       "      <td>2.0</td>\n",
       "      <td>3.55</td>\n",
       "      <td>6.0</td>\n",
       "      <td>Required Level of Education</td>\n",
       "      <td>74.07</td>\n",
       "      <td>11.0</td>\n",
       "    </tr>\n",
       "    <tr>\n",
       "      <th>2</th>\n",
       "      <td>11-1021.00</td>\n",
       "      <td>General and Operations Managers</td>\n",
       "      <td>Plan, direct, or coordinate the operations of ...</td>\n",
       "      <td>1.31</td>\n",
       "      <td>5.32</td>\n",
       "      <td>6.96</td>\n",
       "      <td>5.0</td>\n",
       "      <td>2.39</td>\n",
       "      <td>2.22</td>\n",
       "      <td>6.0</td>\n",
       "      <td>3.37</td>\n",
       "      <td>0.0</td>\n",
       "      <td>Required Level of Education</td>\n",
       "      <td>28.76</td>\n",
       "      <td>10.0</td>\n",
       "    </tr>\n",
       "    <tr>\n",
       "      <th>3</th>\n",
       "      <td>11-1031.00</td>\n",
       "      <td>Legislators</td>\n",
       "      <td>Develop, introduce, or enact laws and statutes...</td>\n",
       "      <td>2.70</td>\n",
       "      <td>3.62</td>\n",
       "      <td>5.52</td>\n",
       "      <td>5.0</td>\n",
       "      <td>3.35</td>\n",
       "      <td>1.54</td>\n",
       "      <td>4.0</td>\n",
       "      <td>3.69</td>\n",
       "      <td>6.0</td>\n",
       "      <td>NaN</td>\n",
       "      <td>NaN</td>\n",
       "      <td>NaN</td>\n",
       "    </tr>\n",
       "    <tr>\n",
       "      <th>4</th>\n",
       "      <td>11-2011.00</td>\n",
       "      <td>Advertising and Promotions Managers</td>\n",
       "      <td>Plan, direct, or coordinate advertising polici...</td>\n",
       "      <td>3.85</td>\n",
       "      <td>4.30</td>\n",
       "      <td>7.00</td>\n",
       "      <td>5.0</td>\n",
       "      <td>1.71</td>\n",
       "      <td>1.07</td>\n",
       "      <td>6.0</td>\n",
       "      <td>3.14</td>\n",
       "      <td>3.0</td>\n",
       "      <td>Required Level of Education</td>\n",
       "      <td>60.02</td>\n",
       "      <td>1.0</td>\n",
       "    </tr>\n",
       "  </tbody>\n",
       "</table>\n",
       "</div>"
      ],
      "text/plain": [
       "    ONET_Code                                Title  \\\n",
       "0  11-1011.00                     Chief Executives   \n",
       "1  11-1011.03        Chief Sustainability Officers   \n",
       "2  11-1021.00      General and Operations Managers   \n",
       "3  11-1031.00                          Legislators   \n",
       "4  11-2011.00  Advertising and Promotions Managers   \n",
       "\n",
       "                                         Description     A     C     E  \\\n",
       "0  Determine and formulate policies and provide o...  2.08  5.00  6.88   \n",
       "1  Communicate and coordinate with management, sh...  2.48  4.49  6.68   \n",
       "2  Plan, direct, or coordinate the operations of ...  1.31  5.32  6.96   \n",
       "3  Develop, introduce, or enact laws and statutes...  2.70  3.62  5.52   \n",
       "4  Plan, direct, or coordinate advertising polici...  3.85  4.30  7.00   \n",
       "\n",
       "   First Interest High-Point     I     R  Second Interest High-Point     S  \\\n",
       "0                        5.0  3.24  1.30                         6.0  3.52   \n",
       "1                        5.0  4.78  2.04                         2.0  3.55   \n",
       "2                        5.0  2.39  2.22                         6.0  3.37   \n",
       "3                        5.0  3.35  1.54                         4.0  3.69   \n",
       "4                        5.0  1.71  1.07                         6.0  3.14   \n",
       "\n",
       "   Third Interest High-Point              Education Level  Data Value  \\\n",
       "0                        0.0      Related Work Experience       68.24   \n",
       "1                        6.0  Required Level of Education       74.07   \n",
       "2                        0.0  Required Level of Education       28.76   \n",
       "3                        6.0                          NaN         NaN   \n",
       "4                        3.0  Required Level of Education       60.02   \n",
       "\n",
       "   Education Category  \n",
       "0                 7.0  \n",
       "1                11.0  \n",
       "2                10.0  \n",
       "3                 NaN  \n",
       "4                 1.0  "
      ]
     },
     "execution_count": 16,
     "metadata": {},
     "output_type": "execute_result"
    }
   ],
   "source": [
    "# Merging occupation titles and descriptions\n",
    "job_profiles = occupation_df.merge(riasec_df, on='ONET_Code', how='left')\n",
    "job_profiles = job_profiles.merge(edu_df_with_cat, on='ONET_Code', how='left')\n",
    "\n",
    "# Preview\n",
    "job_profiles.head()"
   ]
  },
  {
   "cell_type": "markdown",
   "id": "71e2736e-d994-44f0-acf7-220c02399a4e",
   "metadata": {},
   "source": [
    "Some jobs show \"Required Level of Education\", \"Related Work Experience\", we will now standardize so we're only keeping \"Required Level of Education\" in the main recommendation logic.\n",
    "\n",
    "| Column                       | What It Represents                                                                           |\n",
    "| ---------------------------- | -------------------------------------------------------------------------------------------- |\n",
    "| `ONET_Code`                  | The unique occupation ID (used for joins & filtering)                                        |\n",
    "| `Title`                      | Job title (e.g., Chief Executives)                                                           |\n",
    "| `Description`                | Job description from O\\*NET                                                                  |\n",
    "| `R`, `I`, `A`, `S`, `E`, `C` | **RIASEC personality dimensions**                                                            |\n",
    "| `Education Level`            | Text describing the most common minimum education required                                   |\n",
    "| `Data Value`                 | Percentage of surveyed workers who agreed with the education level listed (confidence level) |\n"
   ]
  },
  {
   "cell_type": "code",
   "execution_count": 17,
   "id": "aa10ac3d-27b0-41fe-b264-ace8c3f234a2",
   "metadata": {},
   "outputs": [
    {
     "data": {
      "text/html": [
       "<div>\n",
       "<style scoped>\n",
       "    .dataframe tbody tr th:only-of-type {\n",
       "        vertical-align: middle;\n",
       "    }\n",
       "\n",
       "    .dataframe tbody tr th {\n",
       "        vertical-align: top;\n",
       "    }\n",
       "\n",
       "    .dataframe thead th {\n",
       "        text-align: right;\n",
       "    }\n",
       "</style>\n",
       "<table border=\"1\" class=\"dataframe\">\n",
       "  <thead>\n",
       "    <tr style=\"text-align: right;\">\n",
       "      <th></th>\n",
       "      <th>ONET_Code</th>\n",
       "      <th>Title</th>\n",
       "      <th>Description</th>\n",
       "      <th>A</th>\n",
       "      <th>C</th>\n",
       "      <th>E</th>\n",
       "      <th>First Interest High-Point</th>\n",
       "      <th>I</th>\n",
       "      <th>R</th>\n",
       "      <th>Second Interest High-Point</th>\n",
       "      <th>S</th>\n",
       "      <th>Third Interest High-Point</th>\n",
       "      <th>Education Level</th>\n",
       "      <th>Data Value</th>\n",
       "      <th>Education Category</th>\n",
       "    </tr>\n",
       "  </thead>\n",
       "  <tbody>\n",
       "    <tr>\n",
       "      <th>1</th>\n",
       "      <td>11-1011.03</td>\n",
       "      <td>Chief Sustainability Officers</td>\n",
       "      <td>Communicate and coordinate with management, sh...</td>\n",
       "      <td>2.48</td>\n",
       "      <td>4.49</td>\n",
       "      <td>6.68</td>\n",
       "      <td>5.0</td>\n",
       "      <td>4.78</td>\n",
       "      <td>2.04</td>\n",
       "      <td>2.0</td>\n",
       "      <td>3.55</td>\n",
       "      <td>6.0</td>\n",
       "      <td>Required Level of Education</td>\n",
       "      <td>74.07</td>\n",
       "      <td>11.0</td>\n",
       "    </tr>\n",
       "    <tr>\n",
       "      <th>2</th>\n",
       "      <td>11-1021.00</td>\n",
       "      <td>General and Operations Managers</td>\n",
       "      <td>Plan, direct, or coordinate the operations of ...</td>\n",
       "      <td>1.31</td>\n",
       "      <td>5.32</td>\n",
       "      <td>6.96</td>\n",
       "      <td>5.0</td>\n",
       "      <td>2.39</td>\n",
       "      <td>2.22</td>\n",
       "      <td>6.0</td>\n",
       "      <td>3.37</td>\n",
       "      <td>0.0</td>\n",
       "      <td>Required Level of Education</td>\n",
       "      <td>28.76</td>\n",
       "      <td>10.0</td>\n",
       "    </tr>\n",
       "    <tr>\n",
       "      <th>4</th>\n",
       "      <td>11-2011.00</td>\n",
       "      <td>Advertising and Promotions Managers</td>\n",
       "      <td>Plan, direct, or coordinate advertising polici...</td>\n",
       "      <td>3.85</td>\n",
       "      <td>4.30</td>\n",
       "      <td>7.00</td>\n",
       "      <td>5.0</td>\n",
       "      <td>1.71</td>\n",
       "      <td>1.07</td>\n",
       "      <td>6.0</td>\n",
       "      <td>3.14</td>\n",
       "      <td>3.0</td>\n",
       "      <td>Required Level of Education</td>\n",
       "      <td>60.02</td>\n",
       "      <td>1.0</td>\n",
       "    </tr>\n",
       "    <tr>\n",
       "      <th>5</th>\n",
       "      <td>11-2021.00</td>\n",
       "      <td>Marketing Managers</td>\n",
       "      <td>Plan, direct, or coordinate marketing policies...</td>\n",
       "      <td>2.45</td>\n",
       "      <td>4.70</td>\n",
       "      <td>7.00</td>\n",
       "      <td>5.0</td>\n",
       "      <td>2.90</td>\n",
       "      <td>1.00</td>\n",
       "      <td>6.0</td>\n",
       "      <td>2.82</td>\n",
       "      <td>0.0</td>\n",
       "      <td>Required Level of Education</td>\n",
       "      <td>55.76</td>\n",
       "      <td>7.0</td>\n",
       "    </tr>\n",
       "    <tr>\n",
       "      <th>6</th>\n",
       "      <td>11-2022.00</td>\n",
       "      <td>Sales Managers</td>\n",
       "      <td>Plan, direct, or coordinate the actual distrib...</td>\n",
       "      <td>1.31</td>\n",
       "      <td>5.58</td>\n",
       "      <td>7.00</td>\n",
       "      <td>5.0</td>\n",
       "      <td>1.66</td>\n",
       "      <td>1.49</td>\n",
       "      <td>6.0</td>\n",
       "      <td>3.29</td>\n",
       "      <td>0.0</td>\n",
       "      <td>Required Level of Education</td>\n",
       "      <td>65.22</td>\n",
       "      <td>11.0</td>\n",
       "    </tr>\n",
       "  </tbody>\n",
       "</table>\n",
       "</div>"
      ],
      "text/plain": [
       "    ONET_Code                                Title  \\\n",
       "1  11-1011.03        Chief Sustainability Officers   \n",
       "2  11-1021.00      General and Operations Managers   \n",
       "4  11-2011.00  Advertising and Promotions Managers   \n",
       "5  11-2021.00                   Marketing Managers   \n",
       "6  11-2022.00                       Sales Managers   \n",
       "\n",
       "                                         Description     A     C     E  \\\n",
       "1  Communicate and coordinate with management, sh...  2.48  4.49  6.68   \n",
       "2  Plan, direct, or coordinate the operations of ...  1.31  5.32  6.96   \n",
       "4  Plan, direct, or coordinate advertising polici...  3.85  4.30  7.00   \n",
       "5  Plan, direct, or coordinate marketing policies...  2.45  4.70  7.00   \n",
       "6  Plan, direct, or coordinate the actual distrib...  1.31  5.58  7.00   \n",
       "\n",
       "   First Interest High-Point     I     R  Second Interest High-Point     S  \\\n",
       "1                        5.0  4.78  2.04                         2.0  3.55   \n",
       "2                        5.0  2.39  2.22                         6.0  3.37   \n",
       "4                        5.0  1.71  1.07                         6.0  3.14   \n",
       "5                        5.0  2.90  1.00                         6.0  2.82   \n",
       "6                        5.0  1.66  1.49                         6.0  3.29   \n",
       "\n",
       "   Third Interest High-Point              Education Level  Data Value  \\\n",
       "1                        6.0  Required Level of Education       74.07   \n",
       "2                        0.0  Required Level of Education       28.76   \n",
       "4                        3.0  Required Level of Education       60.02   \n",
       "5                        0.0  Required Level of Education       55.76   \n",
       "6                        0.0  Required Level of Education       65.22   \n",
       "\n",
       "   Education Category  \n",
       "1                11.0  \n",
       "2                10.0  \n",
       "4                 1.0  \n",
       "5                 7.0  \n",
       "6                11.0  "
      ]
     },
     "execution_count": 17,
     "metadata": {},
     "output_type": "execute_result"
    }
   ],
   "source": [
    "job_profiles = job_profiles[job_profiles['Education Level'] == 'Required Level of Education']\n",
    "job_profiles.head()"
   ]
  },
  {
   "cell_type": "markdown",
   "id": "9cc53844-779e-4fc9-9930-2b088e1e479a",
   "metadata": {},
   "source": [
    "## 3. DATA CLEANING "
   ]
  },
  {
   "cell_type": "markdown",
   "id": "c1e466f0-0f1a-439f-9e4c-a2d664dff48f",
   "metadata": {},
   "source": [
    "### 3.1  Check for duplicates in the final job_profiles"
   ]
  },
  {
   "cell_type": "code",
   "execution_count": 18,
   "id": "db6403b7-a3e8-4c6b-bde6-5e2b6543cd67",
   "metadata": {},
   "outputs": [
    {
     "data": {
      "text/plain": [
       "0"
      ]
     },
     "execution_count": 18,
     "metadata": {},
     "output_type": "execute_result"
    }
   ],
   "source": [
    "# Checking for duplicates\n",
    "job_profiles.duplicated().sum()"
   ]
  },
  {
   "cell_type": "markdown",
   "id": "d43a4a95-6140-4a1a-8e67-e490bd51a361",
   "metadata": {},
   "source": [
    "### 3.2 Check for missing values"
   ]
  },
  {
   "cell_type": "code",
   "execution_count": 19,
   "id": "60c4d365-431f-4012-961c-92e6b80990db",
   "metadata": {},
   "outputs": [
    {
     "data": {
      "text/plain": [
       "ONET_Code                     0\n",
       "Title                         0\n",
       "Description                   0\n",
       "A                             0\n",
       "C                             0\n",
       "E                             0\n",
       "First Interest High-Point     0\n",
       "I                             0\n",
       "R                             0\n",
       "Second Interest High-Point    0\n",
       "S                             0\n",
       "Third Interest High-Point     0\n",
       "Education Level               0\n",
       "Data Value                    0\n",
       "Education Category            0\n",
       "dtype: int64"
      ]
     },
     "execution_count": 19,
     "metadata": {},
     "output_type": "execute_result"
    }
   ],
   "source": [
    "# Checking missing values across all columns\n",
    "job_profiles.isnull().sum()"
   ]
  },
  {
   "cell_type": "markdown",
   "id": "a6401b38-388b-4d5e-97b9-b788765aa94e",
   "metadata": {},
   "source": [
    "### 3.3 Normalize RIASEC scores \n",
    "If different RIASEC types have different ranges (e.g., one maxes at 7.0 and another at 5.0), we normalize them to 0–1 for fair similarity."
   ]
  },
  {
   "cell_type": "code",
   "execution_count": 20,
   "id": "23a33943-cfff-4d5f-80d8-512a2a3a27c6",
   "metadata": {},
   "outputs": [
    {
     "data": {
      "text/html": [
       "<div>\n",
       "<style scoped>\n",
       "    .dataframe tbody tr th:only-of-type {\n",
       "        vertical-align: middle;\n",
       "    }\n",
       "\n",
       "    .dataframe tbody tr th {\n",
       "        vertical-align: top;\n",
       "    }\n",
       "\n",
       "    .dataframe thead th {\n",
       "        text-align: right;\n",
       "    }\n",
       "</style>\n",
       "<table border=\"1\" class=\"dataframe\">\n",
       "  <thead>\n",
       "    <tr style=\"text-align: right;\">\n",
       "      <th></th>\n",
       "      <th>R</th>\n",
       "      <th>I</th>\n",
       "      <th>A</th>\n",
       "      <th>S</th>\n",
       "      <th>E</th>\n",
       "      <th>C</th>\n",
       "    </tr>\n",
       "  </thead>\n",
       "  <tbody>\n",
       "    <tr>\n",
       "      <th>1</th>\n",
       "      <td>0.173333</td>\n",
       "      <td>0.630000</td>\n",
       "      <td>0.246667</td>\n",
       "      <td>0.425000</td>\n",
       "      <td>0.946667</td>\n",
       "      <td>0.493952</td>\n",
       "    </tr>\n",
       "    <tr>\n",
       "      <th>2</th>\n",
       "      <td>0.203333</td>\n",
       "      <td>0.231667</td>\n",
       "      <td>0.051667</td>\n",
       "      <td>0.395000</td>\n",
       "      <td>0.993333</td>\n",
       "      <td>0.661290</td>\n",
       "    </tr>\n",
       "    <tr>\n",
       "      <th>4</th>\n",
       "      <td>0.011667</td>\n",
       "      <td>0.118333</td>\n",
       "      <td>0.475000</td>\n",
       "      <td>0.356667</td>\n",
       "      <td>1.000000</td>\n",
       "      <td>0.455645</td>\n",
       "    </tr>\n",
       "    <tr>\n",
       "      <th>5</th>\n",
       "      <td>0.000000</td>\n",
       "      <td>0.316667</td>\n",
       "      <td>0.241667</td>\n",
       "      <td>0.303333</td>\n",
       "      <td>1.000000</td>\n",
       "      <td>0.536290</td>\n",
       "    </tr>\n",
       "    <tr>\n",
       "      <th>6</th>\n",
       "      <td>0.081667</td>\n",
       "      <td>0.110000</td>\n",
       "      <td>0.051667</td>\n",
       "      <td>0.381667</td>\n",
       "      <td>1.000000</td>\n",
       "      <td>0.713710</td>\n",
       "    </tr>\n",
       "    <tr>\n",
       "      <th>...</th>\n",
       "      <td>...</td>\n",
       "      <td>...</td>\n",
       "      <td>...</td>\n",
       "      <td>...</td>\n",
       "      <td>...</td>\n",
       "      <td>...</td>\n",
       "    </tr>\n",
       "    <tr>\n",
       "      <th>991</th>\n",
       "      <td>0.856667</td>\n",
       "      <td>0.221667</td>\n",
       "      <td>0.000000</td>\n",
       "      <td>0.090000</td>\n",
       "      <td>0.086667</td>\n",
       "      <td>0.566532</td>\n",
       "    </tr>\n",
       "    <tr>\n",
       "      <th>992</th>\n",
       "      <td>0.945000</td>\n",
       "      <td>0.210000</td>\n",
       "      <td>0.000000</td>\n",
       "      <td>0.046667</td>\n",
       "      <td>0.076667</td>\n",
       "      <td>0.497984</td>\n",
       "    </tr>\n",
       "    <tr>\n",
       "      <th>993</th>\n",
       "      <td>0.961667</td>\n",
       "      <td>0.235000</td>\n",
       "      <td>0.000000</td>\n",
       "      <td>0.011667</td>\n",
       "      <td>0.145000</td>\n",
       "      <td>0.467742</td>\n",
       "    </tr>\n",
       "    <tr>\n",
       "      <th>994</th>\n",
       "      <td>1.000000</td>\n",
       "      <td>0.128333</td>\n",
       "      <td>0.000000</td>\n",
       "      <td>0.065000</td>\n",
       "      <td>0.091667</td>\n",
       "      <td>0.477823</td>\n",
       "    </tr>\n",
       "    <tr>\n",
       "      <th>995</th>\n",
       "      <td>0.976667</td>\n",
       "      <td>0.156667</td>\n",
       "      <td>0.000000</td>\n",
       "      <td>0.000000</td>\n",
       "      <td>0.051667</td>\n",
       "      <td>0.532258</td>\n",
       "    </tr>\n",
       "  </tbody>\n",
       "</table>\n",
       "<p>624 rows × 6 columns</p>\n",
       "</div>"
      ],
      "text/plain": [
       "            R         I         A         S         E         C\n",
       "1    0.173333  0.630000  0.246667  0.425000  0.946667  0.493952\n",
       "2    0.203333  0.231667  0.051667  0.395000  0.993333  0.661290\n",
       "4    0.011667  0.118333  0.475000  0.356667  1.000000  0.455645\n",
       "5    0.000000  0.316667  0.241667  0.303333  1.000000  0.536290\n",
       "6    0.081667  0.110000  0.051667  0.381667  1.000000  0.713710\n",
       "..        ...       ...       ...       ...       ...       ...\n",
       "991  0.856667  0.221667  0.000000  0.090000  0.086667  0.566532\n",
       "992  0.945000  0.210000  0.000000  0.046667  0.076667  0.497984\n",
       "993  0.961667  0.235000  0.000000  0.011667  0.145000  0.467742\n",
       "994  1.000000  0.128333  0.000000  0.065000  0.091667  0.477823\n",
       "995  0.976667  0.156667  0.000000  0.000000  0.051667  0.532258\n",
       "\n",
       "[624 rows x 6 columns]"
      ]
     },
     "execution_count": 20,
     "metadata": {},
     "output_type": "execute_result"
    }
   ],
   "source": [
    "from sklearn.preprocessing import MinMaxScaler\n",
    "\n",
    "riasec_cols = ['R', 'I', 'A', 'S', 'E', 'C']\n",
    "scaler = MinMaxScaler()\n",
    "job_profiles[riasec_cols] = scaler.fit_transform(job_profiles[riasec_cols])\n",
    "job_profiles[riasec_cols] "
   ]
  },
  {
   "cell_type": "markdown",
   "id": "25ecd6a8-1c2b-4e00-bde8-475e93e92008",
   "metadata": {},
   "source": [
    "### 3.4 Validate education values"
   ]
  },
  {
   "cell_type": "code",
   "execution_count": 21,
   "id": "9cc50280-cacb-4ebd-a505-d52dc6f318ca",
   "metadata": {},
   "outputs": [
    {
     "data": {
      "text/plain": [
       "Education Level\n",
       "Required Level of Education    624\n",
       "Name: count, dtype: int64"
      ]
     },
     "execution_count": 21,
     "metadata": {},
     "output_type": "execute_result"
    }
   ],
   "source": [
    "job_profiles['Education Level'].value_counts()"
   ]
  },
  {
   "cell_type": "markdown",
   "id": "52381a2a-3639-4f2b-a20a-62516c5edc71",
   "metadata": {},
   "source": [
    "- 624 occupations in your dataset have a valid education entry\n",
    "- All education entries are consistent (\"Required Level of Education\")"
   ]
  },
  {
   "cell_type": "markdown",
   "id": "3967e57f-033d-4c00-af19-7e0e3c7d986f",
   "metadata": {},
   "source": [
    "### 3.5 Distribution of RIASEC scores across all jobs\n",
    "To help understand education trends across jobs."
   ]
  },
  {
   "cell_type": "code",
   "execution_count": 22,
   "id": "19dc915c-29f3-47fe-a583-84501f0ce497",
   "metadata": {},
   "outputs": [
    {
     "data": {
      "image/png": "[encoded data removed]",
      "text/plain": [
       "<Figure size 640x480 with 1 Axes>"
      ]
     },
     "metadata": {},
     "output_type": "display_data"
    }
   ],
   "source": [
    "# Education Requirements Distribution\n",
    "sns.histplot(job_profiles['Data Value'], bins=15)\n",
    "plt.title(\"Distribution of Education Requirements (All Jobs)\")\n",
    "plt.xlabel(\"Percent Agreement on Required Education\")\n",
    "plt.ylabel(\"Number of Jobs\")\n",
    "plt.tight_layout()\n",
    "plt.savefig('images/education_requirements_distribution.png', dpi=300)\n",
    "plt.show()"
   ]
  },
  {
   "cell_type": "markdown",
   "id": "c4f803c4-6634-4cdc-aa37-44bb36235321",
   "metadata": {},
   "source": [
    "**Interpretation:**\n",
    "- This histogram illustrates how frequently various education requirement levels appear across all occupations in the dataset.\n",
    "\n",
    "**Key Insights:**\n",
    "- Most jobs fall in the 50–70% agreement range, meaning they commonly require some level of formal education (like a diploma or degree).\n",
    "- Few jobs require extreme levels (near 100% or below 30%), showing that strict educational prerequisites are less common than moderately flexible ones.\n",
    "- This distribution informs how realistic it is to recommend jobs based on a user’s education level."
   ]
  },
  {
   "cell_type": "markdown",
   "id": "8210bb76-b4f2-4198-9f2e-4b3728c7684b",
   "metadata": {},
   "source": [
    "## 4. DATA MODELLING: Building The Recommendation Engine (RIASEC-Based)\n",
    "\n",
    "### 4.1 RIASEC-Only Recommender (Cosine Similarity)\n",
    "Match based on user interests only.\n",
    "\n",
    "We'll:\n",
    "1. Take a user’s RIASEC scores as input\n",
    "2. Calculate cosine similarity between the user's profile and all jobs\n",
    "3. Return the top matching jobs"
   ]
  },
  {
   "cell_type": "markdown",
   "id": "52eb2a3e-06e7-40c7-9319-0e9fe5c243c1",
   "metadata": {},
   "source": [
    "### 4.1.1 Importing Libraries"
   ]
  },
  {
   "cell_type": "code",
   "execution_count": 23,
   "id": "c2c6e290-e7ad-4430-af03-08a7bf0bf382",
   "metadata": {},
   "outputs": [],
   "source": [
    "from sklearn.metrics.pairwise import cosine_similarity\n",
    "import numpy as np"
   ]
  },
  {
   "cell_type": "markdown",
   "id": "61f040f4-02d4-490d-9718-6c8a5e25830c",
   "metadata": {},
   "source": [
    "### 4.1.2 Definining User's RIASEC Scores\n",
    "Creating a test user input (we’ll later replace this with UI the user to self-rate themselves on a 1–7 scale) "
   ]
  },
  {
   "cell_type": "code",
   "execution_count": 24,
   "id": "26b2dc45-d711-47d8-be4c-fbd4ec922b74",
   "metadata": {},
   "outputs": [],
   "source": [
    "# Example RIASEC scores: [Realistic, Investigative, Artistic, Social, Enterprising, Conventional]\n",
    "user_riasec = np.array([[2.5, 4.0, 6.0, 5.5, 3.0, 1.5]])"
   ]
  },
  {
   "cell_type": "markdown",
   "id": "481a8d3d-d274-448d-a4e7-70c30ab33c3e",
   "metadata": {},
   "source": [
    "### 4.1.3 Extract job RIASEC profiles"
   ]
  },
  {
   "cell_type": "code",
   "execution_count": 25,
   "id": "8ee75e3f-8d2f-49db-ae1f-9cee118f42c1",
   "metadata": {},
   "outputs": [
    {
     "data": {
      "text/plain": [
       "array([[0.17333333, 0.63      , 0.24666667, 0.425     , 0.94666667,\n",
       "        0.49395161],\n",
       "       [0.20333333, 0.23166667, 0.05166667, 0.395     , 0.99333333,\n",
       "        0.66129032],\n",
       "       [0.01166667, 0.11833333, 0.475     , 0.35666667, 1.        ,\n",
       "        0.45564516],\n",
       "       ...,\n",
       "       [0.96166667, 0.235     , 0.        , 0.01166667, 0.145     ,\n",
       "        0.46774194],\n",
       "       [1.        , 0.12833333, 0.        , 0.065     , 0.09166667,\n",
       "        0.47782258],\n",
       "       [0.97666667, 0.15666667, 0.        , 0.        , 0.05166667,\n",
       "        0.53225806]])"
      ]
     },
     "execution_count": 25,
     "metadata": {},
     "output_type": "execute_result"
    }
   ],
   "source": [
    "# Defining columns\n",
    "riasec_cols = ['R', 'I', 'A', 'S', 'E', 'C']\n",
    "\n",
    "# Extracting job RIASEC data\n",
    "job_riasec_matrix = job_profiles[riasec_cols].values\n",
    "job_riasec_matrix"
   ]
  },
  {
   "cell_type": "markdown",
   "id": "ed7ba7bb-f03d-4cee-a73f-2404b8374158",
   "metadata": {},
   "source": [
    "### 4.1.4 Compute Cosine Similarity"
   ]
  },
  {
   "cell_type": "code",
   "execution_count": 26,
   "id": "69c9f8d0-2c75-4a30-912b-9ad6cec9344a",
   "metadata": {},
   "outputs": [
    {
     "data": {
      "text/plain": [
       "1      0.770706\n",
       "2      0.609859\n",
       "4      0.717941\n",
       "5      0.661115\n",
       "6      0.550885\n",
       "         ...   \n",
       "991    0.438420\n",
       "992    0.406629\n",
       "993    0.412000\n",
       "994    0.389535\n",
       "995    0.358109\n",
       "Name: Similarity, Length: 624, dtype: float64"
      ]
     },
     "execution_count": 26,
     "metadata": {},
     "output_type": "execute_result"
    }
   ],
   "source": [
    "# Computing similarity between user and all job profiles\n",
    "similarities = cosine_similarity(user_riasec, job_riasec_matrix)\n",
    "\n",
    "# Flatten similarity array\n",
    "job_profiles['Similarity'] = similarities.flatten()\n",
    "job_profiles['Similarity']"
   ]
  },
  {
   "cell_type": "markdown",
   "id": "daa0f9e6-9d92-47df-a4ea-aac2ead7302d",
   "metadata": {},
   "source": [
    "### 4.1.5 Cosine Similarity Distribution"
   ]
  },
  {
   "cell_type": "code",
   "execution_count": 27,
   "id": "02681d4d-d6a0-439d-ae95-3d3c9d9d7813",
   "metadata": {},
   "outputs": [
    {
     "data": {
      "image/png": "[encoded data removed]",
      "text/plain": [
       "<Figure size 640x480 with 1 Axes>"
      ]
     },
     "metadata": {},
     "output_type": "display_data"
    }
   ],
   "source": [
    "# Similarity Score Distribution \n",
    "sns.histplot(job_profiles['Similarity'].values, bins=20, color='orange')\n",
    "plt.title(\"Similarity Scores Between User and Jobs\")\n",
    "plt.xlabel(\"Cosine Similarity\")\n",
    "plt.ylabel(\"Number of Jobs\")\n",
    "plt.tight_layout()\n",
    "plt.savefig('images/similarity_scores_distribution.png', dpi=300)\n",
    "plt.show()"
   ]
  },
  {
   "cell_type": "markdown",
   "id": "dc255cdd-17d7-4ce6-aa8f-6b79f2676746",
   "metadata": {},
   "source": [
    "**Interpretation:**\n",
    "This histogram shows the distribution of cosine similarity scores between the user’s profile and different job descriptions.\n",
    "\n",
    "- X-axis: Cosine similarity score (0 to 1). Higher scores mean higher similarity.\n",
    "- Y-axis: Number of jobs within each similarity range.\n",
    "\n",
    "**Key Insights:**\n",
    "- This helps visualize how many jobs are highly relevant to the user. \n",
    "- A concentration of bars toward the higher end means many jobs closely match the user’s profile."
   ]
  },
  {
   "cell_type": "markdown",
   "id": "f4cfd40e-b319-4cd4-92da-ff531778f9ee",
   "metadata": {},
   "source": [
    "### 4.1.6 Getting Top Career Matches"
   ]
  },
  {
   "cell_type": "code",
   "execution_count": 28,
   "id": "73c26afe-ef4b-46c5-bdad-b7c13c8b9958",
   "metadata": {},
   "outputs": [
    {
     "data": {
      "text/html": [
       "<div>\n",
       "<style scoped>\n",
       "    .dataframe tbody tr th:only-of-type {\n",
       "        vertical-align: middle;\n",
       "    }\n",
       "\n",
       "    .dataframe tbody tr th {\n",
       "        vertical-align: top;\n",
       "    }\n",
       "\n",
       "    .dataframe thead th {\n",
       "        text-align: right;\n",
       "    }\n",
       "</style>\n",
       "<table border=\"1\" class=\"dataframe\">\n",
       "  <thead>\n",
       "    <tr style=\"text-align: right;\">\n",
       "      <th></th>\n",
       "      <th>Title</th>\n",
       "      <th>Description</th>\n",
       "      <th>Similarity</th>\n",
       "    </tr>\n",
       "  </thead>\n",
       "  <tbody>\n",
       "    <tr>\n",
       "      <th>433</th>\n",
       "      <td>Music Therapists</td>\n",
       "      <td>Plan, organize, direct, or assess clinical and...</td>\n",
       "      <td>0.989178</td>\n",
       "    </tr>\n",
       "    <tr>\n",
       "      <th>432</th>\n",
       "      <td>Art Therapists</td>\n",
       "      <td>Plan or conduct art therapy sessions or progra...</td>\n",
       "      <td>0.980727</td>\n",
       "    </tr>\n",
       "    <tr>\n",
       "      <th>325</th>\n",
       "      <td>Art, Drama, and Music Teachers, Postsecondary</td>\n",
       "      <td>Teach courses in drama, music, and the arts in...</td>\n",
       "      <td>0.970056</td>\n",
       "    </tr>\n",
       "    <tr>\n",
       "      <th>301</th>\n",
       "      <td>Architecture Teachers, Postsecondary</td>\n",
       "      <td>Teach courses in architecture and architectura...</td>\n",
       "      <td>0.960932</td>\n",
       "    </tr>\n",
       "    <tr>\n",
       "      <th>327</th>\n",
       "      <td>English Language and Literature Teachers, Post...</td>\n",
       "      <td>Teach courses in English language and literatu...</td>\n",
       "      <td>0.945059</td>\n",
       "    </tr>\n",
       "    <tr>\n",
       "      <th>311</th>\n",
       "      <td>Area, Ethnic, and Cultural Studies Teachers, P...</td>\n",
       "      <td>Teach courses pertaining to the culture and de...</td>\n",
       "      <td>0.944548</td>\n",
       "    </tr>\n",
       "    <tr>\n",
       "      <th>326</th>\n",
       "      <td>Communications Teachers, Postsecondary</td>\n",
       "      <td>Teach courses in communications, such as organ...</td>\n",
       "      <td>0.942476</td>\n",
       "    </tr>\n",
       "    <tr>\n",
       "      <th>329</th>\n",
       "      <td>History Teachers, Postsecondary</td>\n",
       "      <td>Teach courses in human history and historiogra...</td>\n",
       "      <td>0.938226</td>\n",
       "    </tr>\n",
       "    <tr>\n",
       "      <th>330</th>\n",
       "      <td>Philosophy and Religion Teachers, Postsecondary</td>\n",
       "      <td>Teach courses in philosophy, religion, and the...</td>\n",
       "      <td>0.937764</td>\n",
       "    </tr>\n",
       "    <tr>\n",
       "      <th>328</th>\n",
       "      <td>Foreign Language and Literature Teachers, Post...</td>\n",
       "      <td>Teach languages and literature courses in lang...</td>\n",
       "      <td>0.937614</td>\n",
       "    </tr>\n",
       "  </tbody>\n",
       "</table>\n",
       "</div>"
      ],
      "text/plain": [
       "                                                 Title  \\\n",
       "433                                   Music Therapists   \n",
       "432                                     Art Therapists   \n",
       "325      Art, Drama, and Music Teachers, Postsecondary   \n",
       "301               Architecture Teachers, Postsecondary   \n",
       "327  English Language and Literature Teachers, Post...   \n",
       "311  Area, Ethnic, and Cultural Studies Teachers, P...   \n",
       "326             Communications Teachers, Postsecondary   \n",
       "329                    History Teachers, Postsecondary   \n",
       "330    Philosophy and Religion Teachers, Postsecondary   \n",
       "328  Foreign Language and Literature Teachers, Post...   \n",
       "\n",
       "                                           Description  Similarity  \n",
       "433  Plan, organize, direct, or assess clinical and...    0.989178  \n",
       "432  Plan or conduct art therapy sessions or progra...    0.980727  \n",
       "325  Teach courses in drama, music, and the arts in...    0.970056  \n",
       "301  Teach courses in architecture and architectura...    0.960932  \n",
       "327  Teach courses in English language and literatu...    0.945059  \n",
       "311  Teach courses pertaining to the culture and de...    0.944548  \n",
       "326  Teach courses in communications, such as organ...    0.942476  \n",
       "329  Teach courses in human history and historiogra...    0.938226  \n",
       "330  Teach courses in philosophy, religion, and the...    0.937764  \n",
       "328  Teach languages and literature courses in lang...    0.937614  "
      ]
     },
     "execution_count": 28,
     "metadata": {},
     "output_type": "execute_result"
    }
   ],
   "source": [
    "# Sorting and viewing top 10 matches\n",
    "top_matches = job_profiles.sort_values(by='Similarity', ascending=False).head(10)\n",
    "\n",
    "# Show selected columns\n",
    "top_matches[['Title', 'Description', 'Similarity']]"
   ]
  },
  {
   "cell_type": "markdown",
   "id": "2d98c1fc-4e4c-468a-9f2c-f3dcaf6b9d8c",
   "metadata": {},
   "source": [
    "**Interpretation:**\n",
    "- We ranked all job profiles based on how similar they are to the user’s RIASEC personality scores, using cosine similarity.\n",
    "- Similarity = 0.99 → The user’s RIASEC profile is very closely aligned with the profile for this occupation.\n",
    "- The top jobs are:\n",
    "    - Creative, social, and teaching-oriented\n",
    "    - Strongly aligned with Artistic (A), Social (S), and Investigative (I) dimensions\n",
    "- If the user’s profile had high values for S, A, and I, this makes perfect sense.\n",
    "\n",
    "**What To Say to Users:**\n",
    "\"Based on your interests, you may enjoy careers where creativity, human connection, and education intersect. Here are the top matches for your profile!\""
   ]
  },
  {
   "cell_type": "markdown",
   "id": "b03bac77-15f7-44a4-ae85-1ba779a55db3",
   "metadata": {},
   "source": [
    "### 4.1.6 Recreating user_vector"
   ]
  },
  {
   "cell_type": "code",
   "execution_count": 29,
   "id": "3913a21c-a4d5-4517-b893-d23e6b308cf0",
   "metadata": {},
   "outputs": [],
   "source": [
    "# Defining example user input\n",
    "user_riasec = {\n",
    "    'R': 3.0,\n",
    "    'I': 4.5,\n",
    "    'A': 2.0,\n",
    "    'S': 5.0,\n",
    "    'E': 3.5,\n",
    "    'C': 1.0\n",
    "}\n",
    "\n",
    "# Converting to NumPy array for comparison\n",
    "user_vector = np.array([list(user_riasec.values())])"
   ]
  },
  {
   "cell_type": "markdown",
   "id": "ff988039-3215-4d95-b4e1-a2703b482a3f",
   "metadata": {},
   "source": [
    "### 4.1.7 RIASEC Radar Chart Comparing User vs Top Job\n",
    "Visualize the match to help explain recommendations."
   ]
  },
  {
   "cell_type": "code",
   "execution_count": 30,
   "id": "b56d27a0-e0d1-4f38-ab1e-86516012522e",
   "metadata": {},
   "outputs": [
    {
     "data": {
      "application/vnd.plotly.v1+json": {
       "config": {
        "plotlyServerURL": "https://plot.ly"
       },
       "data": [
        {
         "fill": "toself",
         "name": "User",
         "r": [
          3,
          4.5,
          2,
          5,
          3.5,
          1
         ],
         "theta": [
          "R",
          "I",
          "A",
          "S",
          "E",
          "C"
         ],
         "type": "scatterpolar"
        },
        {
         "fill": "toself",
         "name": "Top Job Match",
         "r": [
          0.19333333333333333,
          0.4766666666666667,
          0.6933333333333334,
          0.7533333333333333,
          0.26,
          0.16935483870967744
         ],
         "theta": [
          "R",
          "I",
          "A",
          "S",
          "E",
          "C"
         ],
         "type": "scatterpolar"
        }
       ],
       "layout": {
        "polar": {
         "radialaxis": {
          "visible": true
         }
        },
        "template": {
         "data": {
          "bar": [
           {
            "error_x": {
             "color": "#2a3f5f"
            },
            "error_y": {
             "color": "#2a3f5f"
            },
            "marker": {
             "line": {
              "color": "#E5ECF6",
              "width": 0.5
             },
             "pattern": {
              "fillmode": "overlay",
              "size": 10,
              "solidity": 0.2
             }
            },
            "type": "bar"
           }
          ],
          "barpolar": [
           {
            "marker": {
             "line": {
              "color": "#E5ECF6",
              "width": 0.5
             },
             "pattern": {
              "fillmode": "overlay",
              "size": 10,
              "solidity": 0.2
             }
            },
            "type": "barpolar"
           }
          ],
          "carpet": [
           {
            "aaxis": {
             "endlinecolor": "#2a3f5f",
             "gridcolor": "white",
             "linecolor": "white",
             "minorgridcolor": "white",
             "startlinecolor": "#2a3f5f"
            },
            "baxis": {
             "endlinecolor": "#2a3f5f",
             "gridcolor": "white",
             "linecolor": "white",
             "minorgridcolor": "white",
             "startlinecolor": "#2a3f5f"
            },
            "type": "carpet"
           }
          ],
          "choropleth": [
           {
            "colorbar": {
             "outlinewidth": 0,
             "ticks": ""
            },
            "type": "choropleth"
           }
          ],
          "contour": [
           {
            "colorbar": {
             "outlinewidth": 0,
             "ticks": ""
            },
            "colorscale": [
             [
              0,
              "#0d0887"
             ],
             [
              0.1111111111111111,
              "#46039f"
             ],
             [
              0.2222222222222222,
              "#7201a8"
             ],
             [
              0.3333333333333333,
              "#9c179e"
             ],
             [
              0.4444444444444444,
              "#bd3786"
             ],
             [
              0.5555555555555556,
              "#d8576b"
             ],
             [
              0.6666666666666666,
              "#ed7953"
             ],
             [
              0.7777777777777778,
              "#fb9f3a"
             ],
             [
              0.8888888888888888,
              "#fdca26"
             ],
             [
              1,
              "#f0f921"
             ]
            ],
            "type": "contour"
           }
          ],
          "contourcarpet": [
           {
            "colorbar": {
             "outlinewidth": 0,
             "ticks": ""
            },
            "type": "contourcarpet"
           }
          ],
          "heatmap": [
           {
            "colorbar": {
             "outlinewidth": 0,
             "ticks": ""
            },
            "colorscale": [
             [
              0,
              "#0d0887"
             ],
             [
              0.1111111111111111,
              "#46039f"
             ],
             [
              0.2222222222222222,
              "#7201a8"
             ],
             [
              0.3333333333333333,
              "#9c179e"
             ],
             [
              0.4444444444444444,
              "#bd3786"
             ],
             [
              0.5555555555555556,
              "#d8576b"
             ],
             [
              0.6666666666666666,
              "#ed7953"
             ],
             [
              0.7777777777777778,
              "#fb9f3a"
             ],
             [
              0.8888888888888888,
              "#fdca26"
             ],
             [
              1,
              "#f0f921"
             ]
            ],
            "type": "heatmap"
           }
          ],
          "heatmapgl": [
           {
            "colorbar": {
             "outlinewidth": 0,
             "ticks": ""
            },
            "colorscale": [
             [
              0,
              "#0d0887"
             ],
             [
              0.1111111111111111,
              "#46039f"
             ],
             [
              0.2222222222222222,
              "#7201a8"
             ],
             [
              0.3333333333333333,
              "#9c179e"
             ],
             [
              0.4444444444444444,
              "#bd3786"
             ],
             [
              0.5555555555555556,
              "#d8576b"
             ],
             [
              0.6666666666666666,
              "#ed7953"
             ],
             [
              0.7777777777777778,
              "#fb9f3a"
             ],
             [
              0.8888888888888888,
              "#fdca26"
             ],
             [
              1,
              "#f0f921"
             ]
            ],
            "type": "heatmapgl"
           }
          ],
          "histogram": [
           {
            "marker": {
             "pattern": {
              "fillmode": "overlay",
              "size": 10,
              "solidity": 0.2
             }
            },
            "type": "histogram"
           }
          ],
          "histogram2d": [
           {
            "colorbar": {
             "outlinewidth": 0,
             "ticks": ""
            },
            "colorscale": [
             [
              0,
              "#0d0887"
             ],
             [
              0.1111111111111111,
              "#46039f"
             ],
             [
              0.2222222222222222,
              "#7201a8"
             ],
             [
              0.3333333333333333,
              "#9c179e"
             ],
             [
              0.4444444444444444,
              "#bd3786"
             ],
             [
              0.5555555555555556,
              "#d8576b"
             ],
             [
              0.6666666666666666,
              "#ed7953"
             ],
             [
              0.7777777777777778,
              "#fb9f3a"
             ],
             [
              0.8888888888888888,
              "#fdca26"
             ],
             [
              1,
              "#f0f921"
             ]
            ],
            "type": "histogram2d"
           }
          ],
          "histogram2dcontour": [
           {
            "colorbar": {
             "outlinewidth": 0,
             "ticks": ""
            },
            "colorscale": [
             [
              0,
              "#0d0887"
             ],
             [
              0.1111111111111111,
              "#46039f"
             ],
             [
              0.2222222222222222,
              "#7201a8"
             ],
             [
              0.3333333333333333,
              "#9c179e"
             ],
             [
              0.4444444444444444,
              "#bd3786"
             ],
             [
              0.5555555555555556,
              "#d8576b"
             ],
             [
              0.6666666666666666,
              "#ed7953"
             ],
             [
              0.7777777777777778,
              "#fb9f3a"
             ],
             [
              0.8888888888888888,
              "#fdca26"
             ],
             [
              1,
              "#f0f921"
             ]
            ],
            "type": "histogram2dcontour"
           }
          ],
          "mesh3d": [
           {
            "colorbar": {
             "outlinewidth": 0,
             "ticks": ""
            },
            "type": "mesh3d"
           }
          ],
          "parcoords": [
           {
            "line": {
             "colorbar": {
              "outlinewidth": 0,
              "ticks": ""
             }
            },
            "type": "parcoords"
           }
          ],
          "pie": [
           {
            "automargin": true,
            "type": "pie"
           }
          ],
          "scatter": [
           {
            "fillpattern": {
             "fillmode": "overlay",
             "size": 10,
             "solidity": 0.2
            },
            "type": "scatter"
           }
          ],
          "scatter3d": [
           {
            "line": {
             "colorbar": {
              "outlinewidth": 0,
              "ticks": ""
             }
            },
            "marker": {
             "colorbar": {
              "outlinewidth": 0,
              "ticks": ""
             }
            },
            "type": "scatter3d"
           }
          ],
          "scattercarpet": [
           {
            "marker": {
             "colorbar": {
              "outlinewidth": 0,
              "ticks": ""
             }
            },
            "type": "scattercarpet"
           }
          ],
          "scattergeo": [
           {
            "marker": {
             "colorbar": {
              "outlinewidth": 0,
              "ticks": ""
             }
            },
            "type": "scattergeo"
           }
          ],
          "scattergl": [
           {
            "marker": {
             "colorbar": {
              "outlinewidth": 0,
              "ticks": ""
             }
            },
            "type": "scattergl"
           }
          ],
          "scattermapbox": [
           {
            "marker": {
             "colorbar": {
              "outlinewidth": 0,
              "ticks": ""
             }
            },
            "type": "scattermapbox"
           }
          ],
          "scatterpolar": [
           {
            "marker": {
             "colorbar": {
              "outlinewidth": 0,
              "ticks": ""
             }
            },
            "type": "scatterpolar"
           }
          ],
          "scatterpolargl": [
           {
            "marker": {
             "colorbar": {
              "outlinewidth": 0,
              "ticks": ""
             }
            },
            "type": "scatterpolargl"
           }
          ],
          "scatterternary": [
           {
            "marker": {
             "colorbar": {
              "outlinewidth": 0,
              "ticks": ""
             }
            },
            "type": "scatterternary"
           }
          ],
          "surface": [
           {
            "colorbar": {
             "outlinewidth": 0,
             "ticks": ""
            },
            "colorscale": [
             [
              0,
              "#0d0887"
             ],
             [
              0.1111111111111111,
              "#46039f"
             ],
             [
              0.2222222222222222,
              "#7201a8"
             ],
             [
              0.3333333333333333,
              "#9c179e"
             ],
             [
              0.4444444444444444,
              "#bd3786"
             ],
             [
              0.5555555555555556,
              "#d8576b"
             ],
             [
              0.6666666666666666,
              "#ed7953"
             ],
             [
              0.7777777777777778,
              "#fb9f3a"
             ],
             [
              0.8888888888888888,
              "#fdca26"
             ],
             [
              1,
              "#f0f921"
             ]
            ],
            "type": "surface"
           }
          ],
          "table": [
           {
            "cells": {
             "fill": {
              "color": "#EBF0F8"
             },
             "line": {
              "color": "white"
             }
            },
            "header": {
             "fill": {
              "color": "#C8D4E3"
             },
             "line": {
              "color": "white"
             }
            },
            "type": "table"
           }
          ]
         },
         "layout": {
          "annotationdefaults": {
           "arrowcolor": "#2a3f5f",
           "arrowhead": 0,
           "arrowwidth": 1
          },
          "autotypenumbers": "strict",
          "coloraxis": {
           "colorbar": {
            "outlinewidth": 0,
            "ticks": ""
           }
          },
          "colorscale": {
           "diverging": [
            [
             0,
             "#8e0152"
            ],
            [
             0.1,
             "#c51b7d"
            ],
            [
             0.2,
             "#de77ae"
            ],
            [
             0.3,
             "#f1b6da"
            ],
            [
             0.4,
             "#fde0ef"
            ],
            [
             0.5,
             "#f7f7f7"
            ],
            [
             0.6,
             "#e6f5d0"
            ],
            [
             0.7,
             "#b8e186"
            ],
            [
             0.8,
             "#7fbc41"
            ],
            [
             0.9,
             "#4d9221"
            ],
            [
             1,
             "#276419"
            ]
           ],
           "sequential": [
            [
             0,
             "#0d0887"
            ],
            [
             0.1111111111111111,
             "#46039f"
            ],
            [
             0.2222222222222222,
             "#7201a8"
            ],
            [
             0.3333333333333333,
             "#9c179e"
            ],
            [
             0.4444444444444444,
             "#bd3786"
            ],
            [
             0.5555555555555556,
             "#d8576b"
            ],
            [
             0.6666666666666666,
             "#ed7953"
            ],
            [
             0.7777777777777778,
             "#fb9f3a"
            ],
            [
             0.8888888888888888,
             "#fdca26"
            ],
            [
             1,
             "#f0f921"
            ]
           ],
           "sequentialminus": [
            [
             0,
             "#0d0887"
            ],
            [
             0.1111111111111111,
             "#46039f"
            ],
            [
             0.2222222222222222,
             "#7201a8"
            ],
            [
             0.3333333333333333,
             "#9c179e"
            ],
            [
             0.4444444444444444,
             "#bd3786"
            ],
            [
             0.5555555555555556,
             "#d8576b"
            ],
            [
             0.6666666666666666,
             "#ed7953"
            ],
            [
             0.7777777777777778,
             "#fb9f3a"
            ],
            [
             0.8888888888888888,
             "#fdca26"
            ],
            [
             1,
             "#f0f921"
            ]
           ]
          },
          "colorway": [
           "#636efa",
           "#EF553B",
           "#00cc96",
           "#ab63fa",
           "#FFA15A",
           "#19d3f3",
           "#FF6692",
           "#B6E880",
           "#FF97FF",
           "#FECB52"
          ],
          "font": {
           "color": "#2a3f5f"
          },
          "geo": {
           "bgcolor": "white",
           "lakecolor": "white",
           "landcolor": "#E5ECF6",
           "showlakes": true,
           "showland": true,
           "subunitcolor": "white"
          },
          "hoverlabel": {
           "align": "left"
          },
          "hovermode": "closest",
          "mapbox": {
           "style": "light"
          },
          "paper_bgcolor": "white",
          "plot_bgcolor": "#E5ECF6",
          "polar": {
           "angularaxis": {
            "gridcolor": "white",
            "linecolor": "white",
            "ticks": ""
           },
           "bgcolor": "#E5ECF6",
           "radialaxis": {
            "gridcolor": "white",
            "linecolor": "white",
            "ticks": ""
           }
          },
          "scene": {
           "xaxis": {
            "backgroundcolor": "#E5ECF6",
            "gridcolor": "white",
            "gridwidth": 2,
            "linecolor": "white",
            "showbackground": true,
            "ticks": "",
            "zerolinecolor": "white"
           },
           "yaxis": {
            "backgroundcolor": "#E5ECF6",
            "gridcolor": "white",
            "gridwidth": 2,
            "linecolor": "white",
            "showbackground": true,
            "ticks": "",
            "zerolinecolor": "white"
           },
           "zaxis": {
            "backgroundcolor": "#E5ECF6",
            "gridcolor": "white",
            "gridwidth": 2,
            "linecolor": "white",
            "showbackground": true,
            "ticks": "",
            "zerolinecolor": "white"
           }
          },
          "shapedefaults": {
           "line": {
            "color": "#2a3f5f"
           }
          },
          "ternary": {
           "aaxis": {
            "gridcolor": "white",
            "linecolor": "white",
            "ticks": ""
           },
           "baxis": {
            "gridcolor": "white",
            "linecolor": "white",
            "ticks": ""
           },
           "bgcolor": "#E5ECF6",
           "caxis": {
            "gridcolor": "white",
            "linecolor": "white",
            "ticks": ""
           }
          },
          "title": {
           "x": 0.05
          },
          "xaxis": {
           "automargin": true,
           "gridcolor": "white",
           "linecolor": "white",
           "ticks": "",
           "title": {
            "standoff": 15
           },
           "zerolinecolor": "white",
           "zerolinewidth": 2
          },
          "yaxis": {
           "automargin": true,
           "gridcolor": "white",
           "linecolor": "white",
           "ticks": "",
           "title": {
            "standoff": 15
           },
           "zerolinecolor": "white",
           "zerolinewidth": 2
          }
         }
        },
        "title": {
         "text": "RIASEC Match: User vs Top Job"
        }
       }
      }
     },
     "metadata": {},
     "output_type": "display_data"
    }
   ],
   "source": [
    "import plotly.graph_objects as go\n",
    "\n",
    "# Get RIASEC of user and top match\n",
    "categories = ['R', 'I', 'A', 'S', 'E', 'C']\n",
    "user_scores = user_vector.flatten()\n",
    "top_job_scores = top_matches.iloc[0][categories].values  # First match\n",
    "\n",
    "# Radar plot\n",
    "fig = go.Figure()\n",
    "fig.add_trace(go.Scatterpolar(r=user_scores, theta=categories, fill='toself', name='User'))\n",
    "fig.add_trace(go.Scatterpolar(r=top_job_scores, theta=categories, fill='toself', name='Top Job Match'))\n",
    "\n",
    "fig.update_layout(polar=dict(radialaxis=dict(visible=True)), title=\"RIASEC Match: User vs Top Job\")\n",
    "fig.show()"
   ]
  },
  {
   "cell_type": "markdown",
   "id": "50c544ac-1721-4644-bb18-b0712d3cdaa2",
   "metadata": {},
   "source": [
    "**Interpretation:**\n",
    "This radar chart compares the user’s RIASEC scores (Realistic, Investigative, Artistic, Social, Enterprising, Conventional) with the top-matching job’s RIASEC profile.\n",
    "\n",
    "- Blue area: The user’s RIASEC profile.\n",
    "- Red area: The top job’s RIASEC profile.\n",
    "\n",
    "**Key Insights:**\n",
    "\n",
    "The closer the shapes overlap, the better the match in terms of interests and work preferences. Large differences may suggest a mismatch even if the similarity score is high. "
   ]
  },
  {
   "cell_type": "markdown",
   "id": "927768e6-2ec7-419e-ab87-1f7db8ce43dc",
   "metadata": {},
   "source": [
    "### 4.2 RIASEC + Education-Aware Recommender (Filtered Similarity)\n",
    "Objective: Refine job recommendations by including an education-level filter alongside RIASEC similarity, ensuring users only see jobs they're qualified for.\n",
    " - Match based on user interests\n",
    " - Filter jobs by user’s education level (Bachelor’s degree, in this case).\n",
    "\n",
    "This enhancement filters out occupations that require a higher level of education than the user has attained. We still rank by RIASEC similarity, but only among jobs within the user's educational qualification range.\n",
    "We'll now:\n",
    "- Ask user for their education level\n",
    "- Filter job_profiles to remove jobs that require more education than the user has\n",
    "- Return final recommendations (sorted by RIASEC similarity)"
   ]
  },
  {
   "cell_type": "markdown",
   "id": "69427059-38a8-43fa-b9de-ea0dd4ae18cf",
   "metadata": {},
   "source": [
    "### 4.2.1 Map User’s Education to Numeric Levels\n",
    "We’ll assume a basic mapping from O*NET's common education phrases to numbers for comparison."
   ]
  },
  {
   "cell_type": "code",
   "execution_count": 31,
   "id": "7ee732fb-89fa-4219-930c-8d3fff74cbca",
   "metadata": {},
   "outputs": [],
   "source": [
    "# Mapping education to numeric levels\n",
    "education_levels = {\n",
    "    'No formal educational credential': 0,\n",
    "    'High school diploma or equivalent': 1,\n",
    "    'Some college, no degree': 2,\n",
    "    'Associate\\'s degree': 3,\n",
    "    'Bachelor\\'s degree': 4,\n",
    "    'Master\\'s degree': 5,\n",
    "    'Doctoral or professional degree': 6\n",
    "}"
   ]
  },
  {
   "cell_type": "markdown",
   "id": "6bd303ee-8dc6-428a-8b37-9480e4708610",
   "metadata": {},
   "source": [
    "### 4.2.2 Mapping Occupation Education Requirements to Numeric Scale"
   ]
  },
  {
   "cell_type": "code",
   "execution_count": 32,
   "id": "35694866-25ab-41ea-82e0-721f4eea2006",
   "metadata": {},
   "outputs": [],
   "source": [
    "# Creating a mapping manually \n",
    "edu_mapping = {\n",
    "    'No formal educational credential': 0,\n",
    "    'High school diploma or equivalent': 1,\n",
    "    'Some college, no degree': 2,\n",
    "    'Associate\\'s degree': 3,\n",
    "    'Bachelor\\'s degree': 4,\n",
    "    'Master\\'s degree': 5,\n",
    "    'Doctoral or professional degree': 6,\n",
    "    'Related Work Experience': 3,     \n",
    "    'Postsecondary non-degree award': 2,\n",
    "    'Required Level of Education': 4, \n",
    "    'Less than high school diploma': 0\n",
    "}\n",
    "\n",
    "# Applying to job_profiles\n",
    "job_profiles['Education_Level_Code'] = job_profiles['Education Level'].map(edu_mapping)"
   ]
  },
  {
   "cell_type": "markdown",
   "id": "a20f135d-b5dd-4d66-9f62-da093f4ce3c1",
   "metadata": {},
   "source": [
    "### 4.2.3 Filtering Jobs by Education"
   ]
  },
  {
   "cell_type": "code",
   "execution_count": 33,
   "id": "d8311526-7c72-43c6-acab-0249ef4f5302",
   "metadata": {},
   "outputs": [
    {
     "data": {
      "text/html": [
       "<div>\n",
       "<style scoped>\n",
       "    .dataframe tbody tr th:only-of-type {\n",
       "        vertical-align: middle;\n",
       "    }\n",
       "\n",
       "    .dataframe tbody tr th {\n",
       "        vertical-align: top;\n",
       "    }\n",
       "\n",
       "    .dataframe thead th {\n",
       "        text-align: right;\n",
       "    }\n",
       "</style>\n",
       "<table border=\"1\" class=\"dataframe\">\n",
       "  <thead>\n",
       "    <tr style=\"text-align: right;\">\n",
       "      <th></th>\n",
       "      <th>Title</th>\n",
       "      <th>Description</th>\n",
       "      <th>Similarity</th>\n",
       "      <th>Education Level</th>\n",
       "    </tr>\n",
       "  </thead>\n",
       "  <tbody>\n",
       "    <tr>\n",
       "      <th>433</th>\n",
       "      <td>Music Therapists</td>\n",
       "      <td>Plan, organize, direct, or assess clinical and...</td>\n",
       "      <td>0.989178</td>\n",
       "      <td>Required Level of Education</td>\n",
       "    </tr>\n",
       "    <tr>\n",
       "      <th>432</th>\n",
       "      <td>Art Therapists</td>\n",
       "      <td>Plan or conduct art therapy sessions or progra...</td>\n",
       "      <td>0.980727</td>\n",
       "      <td>Required Level of Education</td>\n",
       "    </tr>\n",
       "    <tr>\n",
       "      <th>325</th>\n",
       "      <td>Art, Drama, and Music Teachers, Postsecondary</td>\n",
       "      <td>Teach courses in drama, music, and the arts in...</td>\n",
       "      <td>0.970056</td>\n",
       "      <td>Required Level of Education</td>\n",
       "    </tr>\n",
       "    <tr>\n",
       "      <th>301</th>\n",
       "      <td>Architecture Teachers, Postsecondary</td>\n",
       "      <td>Teach courses in architecture and architectura...</td>\n",
       "      <td>0.960932</td>\n",
       "      <td>Required Level of Education</td>\n",
       "    </tr>\n",
       "    <tr>\n",
       "      <th>327</th>\n",
       "      <td>English Language and Literature Teachers, Post...</td>\n",
       "      <td>Teach courses in English language and literatu...</td>\n",
       "      <td>0.945059</td>\n",
       "      <td>Required Level of Education</td>\n",
       "    </tr>\n",
       "    <tr>\n",
       "      <th>311</th>\n",
       "      <td>Area, Ethnic, and Cultural Studies Teachers, P...</td>\n",
       "      <td>Teach courses pertaining to the culture and de...</td>\n",
       "      <td>0.944548</td>\n",
       "      <td>Required Level of Education</td>\n",
       "    </tr>\n",
       "    <tr>\n",
       "      <th>326</th>\n",
       "      <td>Communications Teachers, Postsecondary</td>\n",
       "      <td>Teach courses in communications, such as organ...</td>\n",
       "      <td>0.942476</td>\n",
       "      <td>Required Level of Education</td>\n",
       "    </tr>\n",
       "    <tr>\n",
       "      <th>329</th>\n",
       "      <td>History Teachers, Postsecondary</td>\n",
       "      <td>Teach courses in human history and historiogra...</td>\n",
       "      <td>0.938226</td>\n",
       "      <td>Required Level of Education</td>\n",
       "    </tr>\n",
       "    <tr>\n",
       "      <th>330</th>\n",
       "      <td>Philosophy and Religion Teachers, Postsecondary</td>\n",
       "      <td>Teach courses in philosophy, religion, and the...</td>\n",
       "      <td>0.937764</td>\n",
       "      <td>Required Level of Education</td>\n",
       "    </tr>\n",
       "    <tr>\n",
       "      <th>328</th>\n",
       "      <td>Foreign Language and Literature Teachers, Post...</td>\n",
       "      <td>Teach languages and literature courses in lang...</td>\n",
       "      <td>0.937614</td>\n",
       "      <td>Required Level of Education</td>\n",
       "    </tr>\n",
       "  </tbody>\n",
       "</table>\n",
       "</div>"
      ],
      "text/plain": [
       "                                                 Title  \\\n",
       "433                                   Music Therapists   \n",
       "432                                     Art Therapists   \n",
       "325      Art, Drama, and Music Teachers, Postsecondary   \n",
       "301               Architecture Teachers, Postsecondary   \n",
       "327  English Language and Literature Teachers, Post...   \n",
       "311  Area, Ethnic, and Cultural Studies Teachers, P...   \n",
       "326             Communications Teachers, Postsecondary   \n",
       "329                    History Teachers, Postsecondary   \n",
       "330    Philosophy and Religion Teachers, Postsecondary   \n",
       "328  Foreign Language and Literature Teachers, Post...   \n",
       "\n",
       "                                           Description  Similarity  \\\n",
       "433  Plan, organize, direct, or assess clinical and...    0.989178   \n",
       "432  Plan or conduct art therapy sessions or progra...    0.980727   \n",
       "325  Teach courses in drama, music, and the arts in...    0.970056   \n",
       "301  Teach courses in architecture and architectura...    0.960932   \n",
       "327  Teach courses in English language and literatu...    0.945059   \n",
       "311  Teach courses pertaining to the culture and de...    0.944548   \n",
       "326  Teach courses in communications, such as organ...    0.942476   \n",
       "329  Teach courses in human history and historiogra...    0.938226   \n",
       "330  Teach courses in philosophy, religion, and the...    0.937764   \n",
       "328  Teach languages and literature courses in lang...    0.937614   \n",
       "\n",
       "                 Education Level  \n",
       "433  Required Level of Education  \n",
       "432  Required Level of Education  \n",
       "325  Required Level of Education  \n",
       "301  Required Level of Education  \n",
       "327  Required Level of Education  \n",
       "311  Required Level of Education  \n",
       "326  Required Level of Education  \n",
       "329  Required Level of Education  \n",
       "330  Required Level of Education  \n",
       "328  Required Level of Education  "
      ]
     },
     "execution_count": 33,
     "metadata": {},
     "output_type": "execute_result"
    }
   ],
   "source": [
    "user_education_level = 5 \n",
    "\n",
    "# Removing jobs requiring more education than the user has\n",
    "filtered_jobs = job_profiles[job_profiles['Education_Level_Code'] <= user_education_level]\n",
    "\n",
    "# Sorting by similarity and show top 10\n",
    "top_filtered_matches = filtered_jobs.sort_values(by='Similarity', ascending=False).head(10)\n",
    "\n",
    "# Results\n",
    "top_filtered_matches[['Title', 'Description', 'Similarity', 'Education Level']]"
   ]
  },
  {
   "cell_type": "markdown",
   "id": "b2f42fc9-d5d8-4512-bb84-49afea9b1cd6",
   "metadata": {},
   "source": [
    "**Interpretation:**\n",
    "\n",
    "The top 10 recommended occupations (e.g., Music Therapists, Art Therapists, Postsecondary Teachers) are:\n",
    "- Highly aligned with the user’s RIASEC profile (cosine similarity scores above 0.93).\n",
    "- Filtered to match the user’s education level (in this case: Bachelor’s degree).\n",
    "\n",
    "Each job listed requires a \"Required Level of Education\", which—based on our mapping is aligned with or below the user’s qualification. This ensures the recommendations are both personally relevant and practically attainable.\n",
    "\n",
    "| Criteria            | Option A (RIASEC Only)                                 | Option B (RIASEC + Education Filter)                 |\n",
    "| ------------------- | ------------------------------------------------------ | ---------------------------------------------------- |\n",
    "| Personal Fit        | Based on interest similarity                           | Same interest-based similarity                     |\n",
    "| Education Relevance | Might include jobs the user is **not qualified** for   | Only includes jobs the user **is qualified** for   |\n",
    "| Example Roles       | May include CEOs, lawyers, physicians                  | Shows more accessible jobs like therapists, teachers |\n",
    "| Use Case            | Exploratory career matching                            | Realistic, action-ready suggestions                  |\n",
    "\n",
    "**Conclusion:**\n",
    "\n",
    "Option B delivers personalized and qualified career matches helping users explore realistic job opportunities while staying aligned with their interests."
   ]
  },
  {
   "cell_type": "markdown",
   "id": "81ae6c43-c011-4e69-9768-5b635470225a",
   "metadata": {},
   "source": [
    "### 4.2.4 Comparison Bar Chart for Cosine Similarity(Option A) Scores vs Filtered Similarity(Option B)\n",
    "This compares the cosine similarity scores of the top 10 jobs from Option A vs Option B"
   ]
  },
  {
   "cell_type": "code",
   "execution_count": 34,
   "id": "cf06c590-f69c-46af-8bad-f7894efd2096",
   "metadata": {},
   "outputs": [
    {
     "data": {
      "image/png": "[encoded data removed]",
      "text/plain": [
       "<Figure size 1000x500 with 1 Axes>"
      ]
     },
     "metadata": {},
     "output_type": "display_data"
    }
   ],
   "source": [
    "# Preparing data\n",
    "option_a_scores = top_matches['Similarity'].to_numpy()\n",
    "option_b_scores = top_filtered_matches['Similarity'].to_numpy()\n",
    "titles = [f'{i+1}' for i in range(len(option_a_scores))]\n",
    "\n",
    "# Plot\n",
    "plt.figure(figsize=(10, 5))\n",
    "plt.plot(titles, option_a_scores, marker='o', markersize=13, label='Option A (RIASEC Only)')\n",
    "plt.plot(titles, option_b_scores, marker='x', label='Option B (RIASEC + Education)')\n",
    "plt.title('Top 10 Job Matches: Similarity Score Comparison')\n",
    "plt.xlabel('Rank')\n",
    "plt.ylabel('Cosine Similarity')\n",
    "plt.legend()\n",
    "plt.grid(True)\n",
    "plt.tight_layout()\n",
    "plt.savefig('images/top_job_matches_comparison.png', dpi=300)\n",
    "plt.show()"
   ]
  },
  {
   "cell_type": "markdown",
   "id": "be6748f6-74e4-4588-84ad-485445b2d2b7",
   "metadata": {},
   "source": [
    "**Interpretation: Option A vs Option B:**\n",
    "- In this particular case, the user's RIASEC profile aligns most strongly with careers in education and therapy, occupations that typically require a Bachelor's degree, which is the user's stated qualification.\n",
    "- Therefore, the education filter in Option B did not exclude any of the top jobs from Option A.\n",
    "- This confirms that the initial recommendations were already realistic, but Option B ensures that no overqualified matches slip through for other users.\n",
    "\n",
    "**Recommendation:**\n",
    "All 624 occupations in the dataset have a minimum Education_Level_Code of 4, which corresponds to a Bachelor’s degree requirement. In future iterations of SmartPath, we recommend:\n",
    "- Incorporating more O*NET datasets such as Job Zones, Tasks, or Detailed Work Activities, which often include jobs requiring only a high school diploma or less.\n",
    "- Enriching the dataset with jobs from other sources (e.g., trade, gig economy, or apprenticeship programs)."
   ]
  },
  {
   "cell_type": "markdown",
   "id": "391a3007-8244-4f40-8f35-54d17c90859f",
   "metadata": {},
   "source": [
    "### 4.2.5 Count Plot: How Many Jobs Were Filtered Out"
   ]
  },
  {
   "cell_type": "code",
   "execution_count": 35,
   "id": "ceb32666-fa8d-490d-8edb-43d079016b4c",
   "metadata": {},
   "outputs": [
    {
     "data": {
      "image/png": "[encoded data removed]",
      "text/plain": [
       "<Figure size 640x480 with 1 Axes>"
      ]
     },
     "metadata": {},
     "output_type": "display_data"
    }
   ],
   "source": [
    "# Counting jobs before and after filtering\n",
    "total_jobs = len(job_profiles)\n",
    "filtered_jobs_count = len(filtered_jobs)\n",
    "\n",
    "# Bar plot\n",
    "plt.bar(['Before Filter', 'After Filter'], [total_jobs, filtered_jobs_count], color=['#3498db', '#2ecc71'])\n",
    "plt.title('Jobs Remaining After Education Filter')\n",
    "plt.ylabel('Number of Jobs')\n",
    "plt.tight_layout()\n",
    "plt.savefig('images/jobs_remaining_after_education_filter.png', dpi=300)\n",
    "plt.show()"
   ]
  },
  {
   "cell_type": "markdown",
   "id": "38a5aa3e-7c92-4431-9c6e-956ce50766d8",
   "metadata": {},
   "source": [
    "All 624 occupations in the dataset have a minimum Education_Level_Code of 4, which corresponds to a Bachelor’s degree requirement. As a result no jobs filtered out."
   ]
  },
  {
   "cell_type": "markdown",
   "id": "c164e267-0cf8-472b-b9ed-0eb47e6a9227",
   "metadata": {},
   "source": [
    "## PHASE 5: Enhance Recommendations with Top Skills per Job\n",
    "Goal: To demonstrate how key skills needed for each recommended job.\n",
    "\n",
    "We already have top_skills_df, which contains the top 10 important skills for each job (ONET_Code). Now, we’ll attach those to the top matches in both Option A and Option B."
   ]
  },
  {
   "cell_type": "code",
   "execution_count": 36,
   "id": "3a18ec65-9cc3-4f3c-9cda-e82594a9212b",
   "metadata": {},
   "outputs": [
    {
     "data": {
      "text/html": [
       "<div>\n",
       "<style scoped>\n",
       "    .dataframe tbody tr th:only-of-type {\n",
       "        vertical-align: middle;\n",
       "    }\n",
       "\n",
       "    .dataframe tbody tr th {\n",
       "        vertical-align: top;\n",
       "    }\n",
       "\n",
       "    .dataframe thead th {\n",
       "        text-align: right;\n",
       "    }\n",
       "</style>\n",
       "<table border=\"1\" class=\"dataframe\">\n",
       "  <thead>\n",
       "    <tr style=\"text-align: right;\">\n",
       "      <th></th>\n",
       "      <th>Title</th>\n",
       "      <th>Element Name</th>\n",
       "      <th>Data Value_y</th>\n",
       "    </tr>\n",
       "  </thead>\n",
       "  <tbody>\n",
       "    <tr>\n",
       "      <th>0</th>\n",
       "      <td>Music Therapists</td>\n",
       "      <td>Social Perceptiveness</td>\n",
       "      <td>4.25</td>\n",
       "    </tr>\n",
       "    <tr>\n",
       "      <th>1</th>\n",
       "      <td>Music Therapists</td>\n",
       "      <td>Active Listening</td>\n",
       "      <td>4.12</td>\n",
       "    </tr>\n",
       "    <tr>\n",
       "      <th>2</th>\n",
       "      <td>Music Therapists</td>\n",
       "      <td>Reading Comprehension</td>\n",
       "      <td>4.00</td>\n",
       "    </tr>\n",
       "    <tr>\n",
       "      <th>3</th>\n",
       "      <td>Music Therapists</td>\n",
       "      <td>Speaking</td>\n",
       "      <td>4.00</td>\n",
       "    </tr>\n",
       "    <tr>\n",
       "      <th>4</th>\n",
       "      <td>Music Therapists</td>\n",
       "      <td>Service Orientation</td>\n",
       "      <td>4.00</td>\n",
       "    </tr>\n",
       "    <tr>\n",
       "      <th>5</th>\n",
       "      <td>Music Therapists</td>\n",
       "      <td>Critical Thinking</td>\n",
       "      <td>4.00</td>\n",
       "    </tr>\n",
       "    <tr>\n",
       "      <th>6</th>\n",
       "      <td>Music Therapists</td>\n",
       "      <td>Learning Strategies</td>\n",
       "      <td>3.75</td>\n",
       "    </tr>\n",
       "    <tr>\n",
       "      <th>7</th>\n",
       "      <td>Music Therapists</td>\n",
       "      <td>Judgment and Decision Making</td>\n",
       "      <td>3.75</td>\n",
       "    </tr>\n",
       "    <tr>\n",
       "      <th>8</th>\n",
       "      <td>Music Therapists</td>\n",
       "      <td>Monitoring</td>\n",
       "      <td>3.75</td>\n",
       "    </tr>\n",
       "    <tr>\n",
       "      <th>9</th>\n",
       "      <td>Music Therapists</td>\n",
       "      <td>Active Learning</td>\n",
       "      <td>3.25</td>\n",
       "    </tr>\n",
       "    <tr>\n",
       "      <th>10</th>\n",
       "      <td>Art Therapists</td>\n",
       "      <td>Social Perceptiveness</td>\n",
       "      <td>4.25</td>\n",
       "    </tr>\n",
       "    <tr>\n",
       "      <th>11</th>\n",
       "      <td>Art Therapists</td>\n",
       "      <td>Active Listening</td>\n",
       "      <td>4.00</td>\n",
       "    </tr>\n",
       "    <tr>\n",
       "      <th>12</th>\n",
       "      <td>Art Therapists</td>\n",
       "      <td>Speaking</td>\n",
       "      <td>4.00</td>\n",
       "    </tr>\n",
       "    <tr>\n",
       "      <th>13</th>\n",
       "      <td>Art Therapists</td>\n",
       "      <td>Critical Thinking</td>\n",
       "      <td>3.88</td>\n",
       "    </tr>\n",
       "    <tr>\n",
       "      <th>14</th>\n",
       "      <td>Art Therapists</td>\n",
       "      <td>Judgment and Decision Making</td>\n",
       "      <td>3.88</td>\n",
       "    </tr>\n",
       "  </tbody>\n",
       "</table>\n",
       "</div>"
      ],
      "text/plain": [
       "               Title                  Element Name  Data Value_y\n",
       "0   Music Therapists         Social Perceptiveness          4.25\n",
       "1   Music Therapists              Active Listening          4.12\n",
       "2   Music Therapists         Reading Comprehension          4.00\n",
       "3   Music Therapists                      Speaking          4.00\n",
       "4   Music Therapists           Service Orientation          4.00\n",
       "5   Music Therapists             Critical Thinking          4.00\n",
       "6   Music Therapists           Learning Strategies          3.75\n",
       "7   Music Therapists  Judgment and Decision Making          3.75\n",
       "8   Music Therapists                    Monitoring          3.75\n",
       "9   Music Therapists               Active Learning          3.25\n",
       "10    Art Therapists         Social Perceptiveness          4.25\n",
       "11    Art Therapists              Active Listening          4.00\n",
       "12    Art Therapists                      Speaking          4.00\n",
       "13    Art Therapists             Critical Thinking          3.88\n",
       "14    Art Therapists  Judgment and Decision Making          3.88"
      ]
     },
     "execution_count": 36,
     "metadata": {},
     "output_type": "execute_result"
    }
   ],
   "source": [
    "# Merging top 10 job matches (Option A or B) with top skills\n",
    "def attach_skills(top_jobs, skills_df):\n",
    "    skill_info = skills_df[['ONET_Code', 'Element Name', 'Data Value']]\n",
    "    merged = top_jobs.merge(skill_info, on='ONET_Code', how='left')\n",
    "    return merged\n",
    "\n",
    "# Example with Option B\n",
    "top_b_with_skills = attach_skills(top_filtered_matches, top_skills_df)\n",
    "\n",
    "# Preview(Show job, skill, and importance score)\n",
    "top_b_with_skills[['Title', 'Element Name', 'Data Value_y']].head(15)"
   ]
  },
  {
   "cell_type": "markdown",
   "id": "a9a089b0-49d0-4377-a202-59f68e6ac734",
   "metadata": {},
   "source": [
    "We have now successfully added skill insights to each recommended job (Option B). This helps users understand what skills to focus on or upskill in if they’re considering a specific role."
   ]
  },
  {
   "cell_type": "code",
   "execution_count": 37,
   "id": "815feb00-bf56-412c-a18f-a1e2244b5053",
   "metadata": {},
   "outputs": [
    {
     "data": {
      "text/html": [
       "<div>\n",
       "<style scoped>\n",
       "    .dataframe tbody tr th:only-of-type {\n",
       "        vertical-align: middle;\n",
       "    }\n",
       "\n",
       "    .dataframe tbody tr th {\n",
       "        vertical-align: top;\n",
       "    }\n",
       "\n",
       "    .dataframe thead th {\n",
       "        text-align: right;\n",
       "    }\n",
       "</style>\n",
       "<table border=\"1\" class=\"dataframe\">\n",
       "  <thead>\n",
       "    <tr style=\"text-align: right;\">\n",
       "      <th></th>\n",
       "      <th>Title</th>\n",
       "      <th>Element Name</th>\n",
       "      <th>Skill Importance</th>\n",
       "    </tr>\n",
       "  </thead>\n",
       "  <tbody>\n",
       "    <tr>\n",
       "      <th>0</th>\n",
       "      <td>Music Therapists</td>\n",
       "      <td>Social Perceptiveness</td>\n",
       "      <td>4.25</td>\n",
       "    </tr>\n",
       "    <tr>\n",
       "      <th>1</th>\n",
       "      <td>Music Therapists</td>\n",
       "      <td>Active Listening</td>\n",
       "      <td>4.12</td>\n",
       "    </tr>\n",
       "    <tr>\n",
       "      <th>2</th>\n",
       "      <td>Music Therapists</td>\n",
       "      <td>Reading Comprehension</td>\n",
       "      <td>4.00</td>\n",
       "    </tr>\n",
       "    <tr>\n",
       "      <th>3</th>\n",
       "      <td>Music Therapists</td>\n",
       "      <td>Speaking</td>\n",
       "      <td>4.00</td>\n",
       "    </tr>\n",
       "    <tr>\n",
       "      <th>4</th>\n",
       "      <td>Music Therapists</td>\n",
       "      <td>Service Orientation</td>\n",
       "      <td>4.00</td>\n",
       "    </tr>\n",
       "    <tr>\n",
       "      <th>5</th>\n",
       "      <td>Music Therapists</td>\n",
       "      <td>Critical Thinking</td>\n",
       "      <td>4.00</td>\n",
       "    </tr>\n",
       "    <tr>\n",
       "      <th>6</th>\n",
       "      <td>Music Therapists</td>\n",
       "      <td>Learning Strategies</td>\n",
       "      <td>3.75</td>\n",
       "    </tr>\n",
       "    <tr>\n",
       "      <th>7</th>\n",
       "      <td>Music Therapists</td>\n",
       "      <td>Judgment and Decision Making</td>\n",
       "      <td>3.75</td>\n",
       "    </tr>\n",
       "    <tr>\n",
       "      <th>8</th>\n",
       "      <td>Music Therapists</td>\n",
       "      <td>Monitoring</td>\n",
       "      <td>3.75</td>\n",
       "    </tr>\n",
       "    <tr>\n",
       "      <th>9</th>\n",
       "      <td>Music Therapists</td>\n",
       "      <td>Active Learning</td>\n",
       "      <td>3.25</td>\n",
       "    </tr>\n",
       "    <tr>\n",
       "      <th>10</th>\n",
       "      <td>Art Therapists</td>\n",
       "      <td>Social Perceptiveness</td>\n",
       "      <td>4.25</td>\n",
       "    </tr>\n",
       "    <tr>\n",
       "      <th>11</th>\n",
       "      <td>Art Therapists</td>\n",
       "      <td>Active Listening</td>\n",
       "      <td>4.00</td>\n",
       "    </tr>\n",
       "    <tr>\n",
       "      <th>12</th>\n",
       "      <td>Art Therapists</td>\n",
       "      <td>Speaking</td>\n",
       "      <td>4.00</td>\n",
       "    </tr>\n",
       "    <tr>\n",
       "      <th>13</th>\n",
       "      <td>Art Therapists</td>\n",
       "      <td>Critical Thinking</td>\n",
       "      <td>3.88</td>\n",
       "    </tr>\n",
       "    <tr>\n",
       "      <th>14</th>\n",
       "      <td>Art Therapists</td>\n",
       "      <td>Judgment and Decision Making</td>\n",
       "      <td>3.88</td>\n",
       "    </tr>\n",
       "  </tbody>\n",
       "</table>\n",
       "</div>"
      ],
      "text/plain": [
       "               Title                  Element Name  Skill Importance\n",
       "0   Music Therapists         Social Perceptiveness              4.25\n",
       "1   Music Therapists              Active Listening              4.12\n",
       "2   Music Therapists         Reading Comprehension              4.00\n",
       "3   Music Therapists                      Speaking              4.00\n",
       "4   Music Therapists           Service Orientation              4.00\n",
       "5   Music Therapists             Critical Thinking              4.00\n",
       "6   Music Therapists           Learning Strategies              3.75\n",
       "7   Music Therapists  Judgment and Decision Making              3.75\n",
       "8   Music Therapists                    Monitoring              3.75\n",
       "9   Music Therapists               Active Learning              3.25\n",
       "10    Art Therapists         Social Perceptiveness              4.25\n",
       "11    Art Therapists              Active Listening              4.00\n",
       "12    Art Therapists                      Speaking              4.00\n",
       "13    Art Therapists             Critical Thinking              3.88\n",
       "14    Art Therapists  Judgment and Decision Making              3.88"
      ]
     },
     "execution_count": 37,
     "metadata": {},
     "output_type": "execute_result"
    }
   ],
   "source": [
    "# Renaming Data Value_y  to \"Skill Importance\" for clarity \n",
    "top_b_with_skills.rename(columns={'Data Value_y': 'Skill Importance'}, inplace=True)\n",
    "top_b_with_skills[['Title', 'Element Name', 'Skill Importance']].head(15)"
   ]
  },
  {
   "cell_type": "markdown",
   "id": "6733257c-726d-443b-914b-5215bb3a0b77",
   "metadata": {},
   "source": [
    "### 5. Enhancing Job Matches with Abilities, Tasks & Education"
   ]
  },
  {
   "cell_type": "code",
   "execution_count": 38,
   "id": "e4226d5e-a8ca-4185-818c-d2839f8b3a3c",
   "metadata": {},
   "outputs": [],
   "source": [
    "# Attaching top skills to top jobs\n",
    "def attach_skills(top_jobs, skills_df):\n",
    "    skill_info = skills_df[['ONET_Code', 'Element Name', 'Data Value']]\n",
    "    merged = top_jobs.merge(skill_info, on='ONET_Code', how='left')\n",
    "    merged.rename(columns={'Element Name': 'Skill'}, inplace=True)\n",
    "    return merged\n",
    "\n",
    "# Attaching top abilities\n",
    "def attach_abilities(top_jobs, abilities_df):\n",
    "    ability_info = abilities_df[['ONET_Code', 'Ability', 'Data Value']].copy()\n",
    "    merged = top_jobs.merge(ability_info, on='ONET_Code', how='left')\n",
    "    return merged\n",
    "\n",
    "# Attaching emerging tasks\n",
    "def attach_emerging_tasks(top_jobs, tasks_df):\n",
    "    task_info = tasks_df[['ONET_Code', 'Task']].drop_duplicates()\n",
    "    merged = top_jobs.merge(task_info, on='ONET_Code', how='left')\n",
    "    return merged\n",
    "\n",
    "# Attaching Education, Training & Experience Categories\n",
    "def attach_edu_categories(top_jobs, edu_cat_df):\n",
    "    cat_info = edu_cat_df[['ONET_Code', 'Category']].drop_duplicates()\n",
    "    merged = top_jobs.merge(cat_info, on='ONET_Code', how='left')\n",
    "    return merged"
   ]
  },
  {
   "cell_type": "code",
   "execution_count": 39,
   "id": "d13f5011-9967-4955-9e84-918ccfd05a96",
   "metadata": {},
   "outputs": [
    {
     "data": {
      "text/html": [
       "<div>\n",
       "<style scoped>\n",
       "    .dataframe tbody tr th:only-of-type {\n",
       "        vertical-align: middle;\n",
       "    }\n",
       "\n",
       "    .dataframe tbody tr th {\n",
       "        vertical-align: top;\n",
       "    }\n",
       "\n",
       "    .dataframe thead th {\n",
       "        text-align: right;\n",
       "    }\n",
       "</style>\n",
       "<table border=\"1\" class=\"dataframe\">\n",
       "  <thead>\n",
       "    <tr style=\"text-align: right;\">\n",
       "      <th></th>\n",
       "      <th>Title</th>\n",
       "      <th>Skill</th>\n",
       "      <th>Skill Score</th>\n",
       "      <th>Ability</th>\n",
       "      <th>Task</th>\n",
       "      <th>Top Education Level</th>\n",
       "      <th>Education Category</th>\n",
       "    </tr>\n",
       "  </thead>\n",
       "  <tbody>\n",
       "    <tr>\n",
       "      <th>0</th>\n",
       "      <td>Music Therapists</td>\n",
       "      <td>Social Perceptiveness</td>\n",
       "      <td>4.25</td>\n",
       "      <td>Oral Comprehension</td>\n",
       "      <td>NaN</td>\n",
       "      <td>Required Level of Education</td>\n",
       "      <td>6.0</td>\n",
       "    </tr>\n",
       "    <tr>\n",
       "      <th>1</th>\n",
       "      <td>Music Therapists</td>\n",
       "      <td>Social Perceptiveness</td>\n",
       "      <td>4.25</td>\n",
       "      <td>Written Comprehension</td>\n",
       "      <td>NaN</td>\n",
       "      <td>Required Level of Education</td>\n",
       "      <td>6.0</td>\n",
       "    </tr>\n",
       "    <tr>\n",
       "      <th>2</th>\n",
       "      <td>Music Therapists</td>\n",
       "      <td>Social Perceptiveness</td>\n",
       "      <td>4.25</td>\n",
       "      <td>Oral Expression</td>\n",
       "      <td>NaN</td>\n",
       "      <td>Required Level of Education</td>\n",
       "      <td>6.0</td>\n",
       "    </tr>\n",
       "    <tr>\n",
       "      <th>3</th>\n",
       "      <td>Music Therapists</td>\n",
       "      <td>Social Perceptiveness</td>\n",
       "      <td>4.25</td>\n",
       "      <td>Written Expression</td>\n",
       "      <td>NaN</td>\n",
       "      <td>Required Level of Education</td>\n",
       "      <td>6.0</td>\n",
       "    </tr>\n",
       "    <tr>\n",
       "      <th>4</th>\n",
       "      <td>Music Therapists</td>\n",
       "      <td>Social Perceptiveness</td>\n",
       "      <td>4.25</td>\n",
       "      <td>Fluency of Ideas</td>\n",
       "      <td>NaN</td>\n",
       "      <td>Required Level of Education</td>\n",
       "      <td>6.0</td>\n",
       "    </tr>\n",
       "    <tr>\n",
       "      <th>5</th>\n",
       "      <td>Music Therapists</td>\n",
       "      <td>Social Perceptiveness</td>\n",
       "      <td>4.25</td>\n",
       "      <td>Originality</td>\n",
       "      <td>NaN</td>\n",
       "      <td>Required Level of Education</td>\n",
       "      <td>6.0</td>\n",
       "    </tr>\n",
       "    <tr>\n",
       "      <th>6</th>\n",
       "      <td>Music Therapists</td>\n",
       "      <td>Social Perceptiveness</td>\n",
       "      <td>4.25</td>\n",
       "      <td>Problem Sensitivity</td>\n",
       "      <td>NaN</td>\n",
       "      <td>Required Level of Education</td>\n",
       "      <td>6.0</td>\n",
       "    </tr>\n",
       "    <tr>\n",
       "      <th>7</th>\n",
       "      <td>Music Therapists</td>\n",
       "      <td>Social Perceptiveness</td>\n",
       "      <td>4.25</td>\n",
       "      <td>Deductive Reasoning</td>\n",
       "      <td>NaN</td>\n",
       "      <td>Required Level of Education</td>\n",
       "      <td>6.0</td>\n",
       "    </tr>\n",
       "    <tr>\n",
       "      <th>8</th>\n",
       "      <td>Music Therapists</td>\n",
       "      <td>Social Perceptiveness</td>\n",
       "      <td>4.25</td>\n",
       "      <td>Inductive Reasoning</td>\n",
       "      <td>NaN</td>\n",
       "      <td>Required Level of Education</td>\n",
       "      <td>6.0</td>\n",
       "    </tr>\n",
       "    <tr>\n",
       "      <th>9</th>\n",
       "      <td>Music Therapists</td>\n",
       "      <td>Social Perceptiveness</td>\n",
       "      <td>4.25</td>\n",
       "      <td>Information Ordering</td>\n",
       "      <td>NaN</td>\n",
       "      <td>Required Level of Education</td>\n",
       "      <td>6.0</td>\n",
       "    </tr>\n",
       "  </tbody>\n",
       "</table>\n",
       "</div>"
      ],
      "text/plain": [
       "              Title                  Skill  Skill Score  \\\n",
       "0  Music Therapists  Social Perceptiveness         4.25   \n",
       "1  Music Therapists  Social Perceptiveness         4.25   \n",
       "2  Music Therapists  Social Perceptiveness         4.25   \n",
       "3  Music Therapists  Social Perceptiveness         4.25   \n",
       "4  Music Therapists  Social Perceptiveness         4.25   \n",
       "5  Music Therapists  Social Perceptiveness         4.25   \n",
       "6  Music Therapists  Social Perceptiveness         4.25   \n",
       "7  Music Therapists  Social Perceptiveness         4.25   \n",
       "8  Music Therapists  Social Perceptiveness         4.25   \n",
       "9  Music Therapists  Social Perceptiveness         4.25   \n",
       "\n",
       "                 Ability Task          Top Education Level  Education Category  \n",
       "0     Oral Comprehension  NaN  Required Level of Education                 6.0  \n",
       "1  Written Comprehension  NaN  Required Level of Education                 6.0  \n",
       "2        Oral Expression  NaN  Required Level of Education                 6.0  \n",
       "3     Written Expression  NaN  Required Level of Education                 6.0  \n",
       "4       Fluency of Ideas  NaN  Required Level of Education                 6.0  \n",
       "5            Originality  NaN  Required Level of Education                 6.0  \n",
       "6    Problem Sensitivity  NaN  Required Level of Education                 6.0  \n",
       "7    Deductive Reasoning  NaN  Required Level of Education                 6.0  \n",
       "8    Inductive Reasoning  NaN  Required Level of Education                 6.0  \n",
       "9   Information Ordering  NaN  Required Level of Education                 6.0  "
      ]
     },
     "execution_count": 39,
     "metadata": {},
     "output_type": "execute_result"
    }
   ],
   "source": [
    "# Attaching Skills\n",
    "top_b_with_skills = attach_skills(top_filtered_matches, top_skills_df)\n",
    "\n",
    "# Attaching Abilities\n",
    "top_b_with_abilities = attach_abilities(top_b_with_skills, abilities_df)\n",
    "\n",
    "# Attaching Emerging Tasks\n",
    "top_b_with_tasks = attach_emerging_tasks(top_b_with_abilities, emerging_tasks_df)\n",
    "\n",
    "# Merging education info into top_b_with_tasks to create top_b_enhanced\n",
    "top_b_enhanced = top_b_with_tasks.merge(\n",
    "    edu_df_with_cat[['ONET_Code', 'Education Level', 'Education Category']],\n",
    "    on='ONET_Code',\n",
    "    how='left'\n",
    ")\n",
    "\n",
    "top_b_enhanced.rename(columns={\n",
    "    'Data Value_y': 'Skill Score',\n",
    "    'Education Level_y': 'Top Education Level',\n",
    "    'Education Category_y': 'Education Category'\n",
    "}, inplace=True)\n",
    "\n",
    "# Result\n",
    "top_b_enhanced[['Title', 'Skill', 'Skill Score', 'Ability', 'Task', 'Top Education Level', 'Education Category']].head(10)"
   ]
  },
  {
   "cell_type": "code",
   "execution_count": 40,
   "id": "413cc839-24c6-4cd8-8019-491247859da8",
   "metadata": {},
   "outputs": [
    {
     "name": "stdout",
     "output_type": "stream",
     "text": [
      "4160 of 5720 top job matches have no emerging tasks listed.\n"
     ]
    }
   ],
   "source": [
    "missing_tasks = top_b_enhanced['Task'].isna().sum()\n",
    "print(f\"{missing_tasks} of {len(top_b_enhanced)} top job matches have no emerging tasks listed.\")"
   ]
  },
  {
   "cell_type": "markdown",
   "id": "e5d4786b-be4c-478d-b7c6-1b694b6d9b3c",
   "metadata": {},
   "source": [
    "4160 out of 5720 top job matches have no emerging tasks listed, which means over 72% of our top job matches have no emerging task data which is quite significant.\n",
    "\n",
    "This Means: The emerging_tasks_df dataset doesn't cover most job codes We are working with. This may be due to:\n",
    "- It only includes new or evolving occupations\n",
    "- It is a subset of all ONET roles\n",
    "- Some job codes do not match exactly\n",
    "\n",
    "**Next Action:**\n",
    "We will the placeholder strategy to keep the dataset complete but transparent"
   ]
  },
  {
   "cell_type": "code",
   "execution_count": 41,
   "id": "590b91d4-2216-4bee-84a4-636b05e0d44b",
   "metadata": {},
   "outputs": [
    {
     "data": {
      "text/html": [
       "<div>\n",
       "<style scoped>\n",
       "    .dataframe tbody tr th:only-of-type {\n",
       "        vertical-align: middle;\n",
       "    }\n",
       "\n",
       "    .dataframe tbody tr th {\n",
       "        vertical-align: top;\n",
       "    }\n",
       "\n",
       "    .dataframe thead th {\n",
       "        text-align: right;\n",
       "    }\n",
       "</style>\n",
       "<table border=\"1\" class=\"dataframe\">\n",
       "  <thead>\n",
       "    <tr style=\"text-align: right;\">\n",
       "      <th></th>\n",
       "      <th>Title</th>\n",
       "      <th>Skill</th>\n",
       "      <th>Skill Score</th>\n",
       "      <th>Ability</th>\n",
       "      <th>Task</th>\n",
       "      <th>Top Education Level</th>\n",
       "      <th>Education Category</th>\n",
       "    </tr>\n",
       "  </thead>\n",
       "  <tbody>\n",
       "    <tr>\n",
       "      <th>0</th>\n",
       "      <td>Music Therapists</td>\n",
       "      <td>Social Perceptiveness</td>\n",
       "      <td>4.25</td>\n",
       "      <td>Oral Comprehension</td>\n",
       "      <td>No Emerging Task Listed</td>\n",
       "      <td>Required Level of Education</td>\n",
       "      <td>6.0</td>\n",
       "    </tr>\n",
       "    <tr>\n",
       "      <th>1</th>\n",
       "      <td>Music Therapists</td>\n",
       "      <td>Social Perceptiveness</td>\n",
       "      <td>4.25</td>\n",
       "      <td>Written Comprehension</td>\n",
       "      <td>No Emerging Task Listed</td>\n",
       "      <td>Required Level of Education</td>\n",
       "      <td>6.0</td>\n",
       "    </tr>\n",
       "    <tr>\n",
       "      <th>2</th>\n",
       "      <td>Music Therapists</td>\n",
       "      <td>Social Perceptiveness</td>\n",
       "      <td>4.25</td>\n",
       "      <td>Oral Expression</td>\n",
       "      <td>No Emerging Task Listed</td>\n",
       "      <td>Required Level of Education</td>\n",
       "      <td>6.0</td>\n",
       "    </tr>\n",
       "    <tr>\n",
       "      <th>3</th>\n",
       "      <td>Music Therapists</td>\n",
       "      <td>Social Perceptiveness</td>\n",
       "      <td>4.25</td>\n",
       "      <td>Written Expression</td>\n",
       "      <td>No Emerging Task Listed</td>\n",
       "      <td>Required Level of Education</td>\n",
       "      <td>6.0</td>\n",
       "    </tr>\n",
       "    <tr>\n",
       "      <th>4</th>\n",
       "      <td>Music Therapists</td>\n",
       "      <td>Social Perceptiveness</td>\n",
       "      <td>4.25</td>\n",
       "      <td>Fluency of Ideas</td>\n",
       "      <td>No Emerging Task Listed</td>\n",
       "      <td>Required Level of Education</td>\n",
       "      <td>6.0</td>\n",
       "    </tr>\n",
       "    <tr>\n",
       "      <th>5</th>\n",
       "      <td>Music Therapists</td>\n",
       "      <td>Social Perceptiveness</td>\n",
       "      <td>4.25</td>\n",
       "      <td>Originality</td>\n",
       "      <td>No Emerging Task Listed</td>\n",
       "      <td>Required Level of Education</td>\n",
       "      <td>6.0</td>\n",
       "    </tr>\n",
       "    <tr>\n",
       "      <th>6</th>\n",
       "      <td>Music Therapists</td>\n",
       "      <td>Social Perceptiveness</td>\n",
       "      <td>4.25</td>\n",
       "      <td>Problem Sensitivity</td>\n",
       "      <td>No Emerging Task Listed</td>\n",
       "      <td>Required Level of Education</td>\n",
       "      <td>6.0</td>\n",
       "    </tr>\n",
       "    <tr>\n",
       "      <th>7</th>\n",
       "      <td>Music Therapists</td>\n",
       "      <td>Social Perceptiveness</td>\n",
       "      <td>4.25</td>\n",
       "      <td>Deductive Reasoning</td>\n",
       "      <td>No Emerging Task Listed</td>\n",
       "      <td>Required Level of Education</td>\n",
       "      <td>6.0</td>\n",
       "    </tr>\n",
       "    <tr>\n",
       "      <th>8</th>\n",
       "      <td>Music Therapists</td>\n",
       "      <td>Social Perceptiveness</td>\n",
       "      <td>4.25</td>\n",
       "      <td>Inductive Reasoning</td>\n",
       "      <td>No Emerging Task Listed</td>\n",
       "      <td>Required Level of Education</td>\n",
       "      <td>6.0</td>\n",
       "    </tr>\n",
       "    <tr>\n",
       "      <th>9</th>\n",
       "      <td>Music Therapists</td>\n",
       "      <td>Social Perceptiveness</td>\n",
       "      <td>4.25</td>\n",
       "      <td>Information Ordering</td>\n",
       "      <td>No Emerging Task Listed</td>\n",
       "      <td>Required Level of Education</td>\n",
       "      <td>6.0</td>\n",
       "    </tr>\n",
       "  </tbody>\n",
       "</table>\n",
       "</div>"
      ],
      "text/plain": [
       "              Title                  Skill  Skill Score  \\\n",
       "0  Music Therapists  Social Perceptiveness         4.25   \n",
       "1  Music Therapists  Social Perceptiveness         4.25   \n",
       "2  Music Therapists  Social Perceptiveness         4.25   \n",
       "3  Music Therapists  Social Perceptiveness         4.25   \n",
       "4  Music Therapists  Social Perceptiveness         4.25   \n",
       "5  Music Therapists  Social Perceptiveness         4.25   \n",
       "6  Music Therapists  Social Perceptiveness         4.25   \n",
       "7  Music Therapists  Social Perceptiveness         4.25   \n",
       "8  Music Therapists  Social Perceptiveness         4.25   \n",
       "9  Music Therapists  Social Perceptiveness         4.25   \n",
       "\n",
       "                 Ability                     Task  \\\n",
       "0     Oral Comprehension  No Emerging Task Listed   \n",
       "1  Written Comprehension  No Emerging Task Listed   \n",
       "2        Oral Expression  No Emerging Task Listed   \n",
       "3     Written Expression  No Emerging Task Listed   \n",
       "4       Fluency of Ideas  No Emerging Task Listed   \n",
       "5            Originality  No Emerging Task Listed   \n",
       "6    Problem Sensitivity  No Emerging Task Listed   \n",
       "7    Deductive Reasoning  No Emerging Task Listed   \n",
       "8    Inductive Reasoning  No Emerging Task Listed   \n",
       "9   Information Ordering  No Emerging Task Listed   \n",
       "\n",
       "           Top Education Level  Education Category  \n",
       "0  Required Level of Education                 6.0  \n",
       "1  Required Level of Education                 6.0  \n",
       "2  Required Level of Education                 6.0  \n",
       "3  Required Level of Education                 6.0  \n",
       "4  Required Level of Education                 6.0  \n",
       "5  Required Level of Education                 6.0  \n",
       "6  Required Level of Education                 6.0  \n",
       "7  Required Level of Education                 6.0  \n",
       "8  Required Level of Education                 6.0  \n",
       "9  Required Level of Education                 6.0  "
      ]
     },
     "execution_count": 41,
     "metadata": {},
     "output_type": "execute_result"
    }
   ],
   "source": [
    "top_b_enhanced['Task'] = top_b_enhanced['Task'].fillna('No Emerging Task Listed')\n",
    "top_b_enhanced[['Title', 'Skill', 'Skill Score', 'Ability', 'Task', 'Top Education Level', 'Education Category']].head(10)"
   ]
  },
  {
   "cell_type": "markdown",
   "id": "8cc0455d",
   "metadata": {},
   "source": [
    "### 5.2 Using the suprise model to recommend jobs based on RIASEC scores and education level\n",
    "- We will use the Surprise library to build a collaborative filtering model that recommends jobs based on user\n",
    "RIASEC scores and education level.\n"
   ]
  },
  {
   "cell_type": "code",
   "execution_count": 57,
   "id": "19ef8170",
   "metadata": {},
   "outputs": [
    {
     "data": {
      "text/html": [
       "<div>\n",
       "<style scoped>\n",
       "    .dataframe tbody tr th:only-of-type {\n",
       "        vertical-align: middle;\n",
       "    }\n",
       "\n",
       "    .dataframe tbody tr th {\n",
       "        vertical-align: top;\n",
       "    }\n",
       "\n",
       "    .dataframe thead th {\n",
       "        text-align: right;\n",
       "    }\n",
       "</style>\n",
       "<table border=\"1\" class=\"dataframe\">\n",
       "  <thead>\n",
       "    <tr style=\"text-align: right;\">\n",
       "      <th></th>\n",
       "      <th>ONET_Code</th>\n",
       "      <th>Title</th>\n",
       "      <th>Description</th>\n",
       "      <th>A</th>\n",
       "      <th>C</th>\n",
       "      <th>E</th>\n",
       "      <th>First Interest High-Point</th>\n",
       "      <th>I</th>\n",
       "      <th>R</th>\n",
       "      <th>Second Interest High-Point</th>\n",
       "      <th>S</th>\n",
       "      <th>Third Interest High-Point</th>\n",
       "      <th>Education Level</th>\n",
       "      <th>Data Value</th>\n",
       "      <th>Education Category</th>\n",
       "      <th>Similarity</th>\n",
       "      <th>Education_Level_Code</th>\n",
       "    </tr>\n",
       "  </thead>\n",
       "  <tbody>\n",
       "    <tr>\n",
       "      <th>1</th>\n",
       "      <td>11-1011.03</td>\n",
       "      <td>Chief Sustainability Officers</td>\n",
       "      <td>Communicate and coordinate with management, sh...</td>\n",
       "      <td>0.246667</td>\n",
       "      <td>0.493952</td>\n",
       "      <td>0.946667</td>\n",
       "      <td>5.0</td>\n",
       "      <td>0.630000</td>\n",
       "      <td>0.173333</td>\n",
       "      <td>2.0</td>\n",
       "      <td>0.425000</td>\n",
       "      <td>6.0</td>\n",
       "      <td>Required Level of Education</td>\n",
       "      <td>74.07</td>\n",
       "      <td>11.0</td>\n",
       "      <td>0.770706</td>\n",
       "      <td>4</td>\n",
       "    </tr>\n",
       "    <tr>\n",
       "      <th>2</th>\n",
       "      <td>11-1021.00</td>\n",
       "      <td>General and Operations Managers</td>\n",
       "      <td>Plan, direct, or coordinate the operations of ...</td>\n",
       "      <td>0.051667</td>\n",
       "      <td>0.661290</td>\n",
       "      <td>0.993333</td>\n",
       "      <td>5.0</td>\n",
       "      <td>0.231667</td>\n",
       "      <td>0.203333</td>\n",
       "      <td>6.0</td>\n",
       "      <td>0.395000</td>\n",
       "      <td>0.0</td>\n",
       "      <td>Required Level of Education</td>\n",
       "      <td>28.76</td>\n",
       "      <td>10.0</td>\n",
       "      <td>0.609859</td>\n",
       "      <td>4</td>\n",
       "    </tr>\n",
       "    <tr>\n",
       "      <th>4</th>\n",
       "      <td>11-2011.00</td>\n",
       "      <td>Advertising and Promotions Managers</td>\n",
       "      <td>Plan, direct, or coordinate advertising polici...</td>\n",
       "      <td>0.475000</td>\n",
       "      <td>0.455645</td>\n",
       "      <td>1.000000</td>\n",
       "      <td>5.0</td>\n",
       "      <td>0.118333</td>\n",
       "      <td>0.011667</td>\n",
       "      <td>6.0</td>\n",
       "      <td>0.356667</td>\n",
       "      <td>3.0</td>\n",
       "      <td>Required Level of Education</td>\n",
       "      <td>60.02</td>\n",
       "      <td>1.0</td>\n",
       "      <td>0.717941</td>\n",
       "      <td>4</td>\n",
       "    </tr>\n",
       "    <tr>\n",
       "      <th>5</th>\n",
       "      <td>11-2021.00</td>\n",
       "      <td>Marketing Managers</td>\n",
       "      <td>Plan, direct, or coordinate marketing policies...</td>\n",
       "      <td>0.241667</td>\n",
       "      <td>0.536290</td>\n",
       "      <td>1.000000</td>\n",
       "      <td>5.0</td>\n",
       "      <td>0.316667</td>\n",
       "      <td>0.000000</td>\n",
       "      <td>6.0</td>\n",
       "      <td>0.303333</td>\n",
       "      <td>0.0</td>\n",
       "      <td>Required Level of Education</td>\n",
       "      <td>55.76</td>\n",
       "      <td>7.0</td>\n",
       "      <td>0.661115</td>\n",
       "      <td>4</td>\n",
       "    </tr>\n",
       "    <tr>\n",
       "      <th>6</th>\n",
       "      <td>11-2022.00</td>\n",
       "      <td>Sales Managers</td>\n",
       "      <td>Plan, direct, or coordinate the actual distrib...</td>\n",
       "      <td>0.051667</td>\n",
       "      <td>0.713710</td>\n",
       "      <td>1.000000</td>\n",
       "      <td>5.0</td>\n",
       "      <td>0.110000</td>\n",
       "      <td>0.081667</td>\n",
       "      <td>6.0</td>\n",
       "      <td>0.381667</td>\n",
       "      <td>0.0</td>\n",
       "      <td>Required Level of Education</td>\n",
       "      <td>65.22</td>\n",
       "      <td>11.0</td>\n",
       "      <td>0.550885</td>\n",
       "      <td>4</td>\n",
       "    </tr>\n",
       "  </tbody>\n",
       "</table>\n",
       "</div>"
      ],
      "text/plain": [
       "    ONET_Code                                Title  \\\n",
       "1  11-1011.03        Chief Sustainability Officers   \n",
       "2  11-1021.00      General and Operations Managers   \n",
       "4  11-2011.00  Advertising and Promotions Managers   \n",
       "5  11-2021.00                   Marketing Managers   \n",
       "6  11-2022.00                       Sales Managers   \n",
       "\n",
       "                                         Description         A         C  \\\n",
       "1  Communicate and coordinate with management, sh...  0.246667  0.493952   \n",
       "2  Plan, direct, or coordinate the operations of ...  0.051667  0.661290   \n",
       "4  Plan, direct, or coordinate advertising polici...  0.475000  0.455645   \n",
       "5  Plan, direct, or coordinate marketing policies...  0.241667  0.536290   \n",
       "6  Plan, direct, or coordinate the actual distrib...  0.051667  0.713710   \n",
       "\n",
       "          E  First Interest High-Point         I         R  \\\n",
       "1  0.946667                        5.0  0.630000  0.173333   \n",
       "2  0.993333                        5.0  0.231667  0.203333   \n",
       "4  1.000000                        5.0  0.118333  0.011667   \n",
       "5  1.000000                        5.0  0.316667  0.000000   \n",
       "6  1.000000                        5.0  0.110000  0.081667   \n",
       "\n",
       "   Second Interest High-Point         S  Third Interest High-Point  \\\n",
       "1                         2.0  0.425000                        6.0   \n",
       "2                         6.0  0.395000                        0.0   \n",
       "4                         6.0  0.356667                        3.0   \n",
       "5                         6.0  0.303333                        0.0   \n",
       "6                         6.0  0.381667                        0.0   \n",
       "\n",
       "               Education Level  Data Value  Education Category  Similarity  \\\n",
       "1  Required Level of Education       74.07                11.0    0.770706   \n",
       "2  Required Level of Education       28.76                10.0    0.609859   \n",
       "4  Required Level of Education       60.02                 1.0    0.717941   \n",
       "5  Required Level of Education       55.76                 7.0    0.661115   \n",
       "6  Required Level of Education       65.22                11.0    0.550885   \n",
       "\n",
       "   Education_Level_Code  \n",
       "1                     4  \n",
       "2                     4  \n",
       "4                     4  \n",
       "5                     4  \n",
       "6                     4  "
      ]
     },
     "execution_count": 57,
     "metadata": {},
     "output_type": "execute_result"
    }
   ],
   "source": [
    "job_profiles.head()"
   ]
  },
  {
   "cell_type": "code",
   "execution_count": 61,
   "id": "629c9236",
   "metadata": {},
   "outputs": [],
   "source": [
    "# Importing Surprise library for collaborative filtering\n",
    "from surprise import Dataset, Reader\n",
    "from surprise import KNNBasic, accuracy\n",
    "from surprise.model_selection import train_test_split\n",
    "from surprise import SVD, NormalPredictor\n"
   ]
  },
  {
   "cell_type": "code",
   "execution_count": null,
   "id": "15edb212",
   "metadata": {},
   "outputs": [
    {
     "name": "stdout",
     "output_type": "stream",
     "text": [
      "Computing the cosine similarity matrix...\n",
      "Done computing similarity matrix.\n",
      "RMSE: 0.1682\n"
     ]
    }
   ],
   "source": [
    "# Loading the job profiles into Surprise format\n",
    "\n",
    "surprise_df = job_profiles[['ONET_Code', 'Title', 'Similarity']]\n",
    "\n",
    "reader = Reader(rating_scale=(0, 1))  # Assuming similarity scores are between 0 and 1\n",
    "data = Dataset.load_from_df(surprise_df, reader)\n",
    "\n",
    "# Splitting the dataset into training and testing sets\n",
    "trainset, testset = train_test_split(data, test_size=0.2, random_state=42)\n",
    "\n",
    "# Building a collaborative filtering model using KNN\n",
    "knn_model = KNNBasic(sim_options={'name': 'cosine', 'user_based': False})\n",
    "knn_model.fit(trainset)\n",
    "# Making predictions on the test set\n",
    "predictions = knn_model.test(testset)\n",
    "# Calculating RMSE to evaluate the model\n",
    "rmse = accuracy.rmse(predictions)"
   ]
  },
  {
   "cell_type": "code",
   "execution_count": 66,
   "id": "ab0f7abf",
   "metadata": {},
   "outputs": [
    {
     "name": "stdout",
     "output_type": "stream",
     "text": [
      "Computing the cosine similarity matrix...\n",
      "Done computing similarity matrix.\n",
      "Computing the cosine similarity matrix...\n",
      "Done computing similarity matrix.\n",
      "Computing the cosine similarity matrix...\n",
      "Done computing similarity matrix.\n",
      "Computing the pearson similarity matrix...\n",
      "Done computing similarity matrix.\n",
      "Computing the pearson similarity matrix...\n",
      "Done computing similarity matrix.\n",
      "Computing the pearson similarity matrix...\n",
      "Done computing similarity matrix.\n",
      "Computing the cosine similarity matrix...\n",
      "Done computing similarity matrix.\n",
      "Computing the cosine similarity matrix...\n",
      "Done computing similarity matrix.\n",
      "Computing the cosine similarity matrix...\n",
      "Done computing similarity matrix.\n",
      "Computing the pearson similarity matrix...\n",
      "Done computing similarity matrix.\n",
      "Computing the pearson similarity matrix...\n",
      "Done computing similarity matrix.\n",
      "Computing the pearson similarity matrix...\n",
      "Done computing similarity matrix.\n",
      "Computing the cosine similarity matrix...\n",
      "Done computing similarity matrix.\n",
      "Computing the cosine similarity matrix...\n",
      "Done computing similarity matrix.\n",
      "Computing the cosine similarity matrix...\n",
      "Done computing similarity matrix.\n",
      "Computing the pearson similarity matrix...\n",
      "Done computing similarity matrix.\n",
      "Computing the pearson similarity matrix...\n",
      "Done computing similarity matrix.\n",
      "Computing the pearson similarity matrix...\n",
      "Done computing similarity matrix.\n",
      "Best parameters: {'k': 5, 'sim_options': {'name': 'cosine', 'user_based': False}}\n",
      "Best RMSE: 0.17027777504461025\n"
     ]
    }
   ],
   "source": [
    "# Implementing a grid search for hyperparameter tuning(Using KNNBasic)\n",
    "from surprise.model_selection import GridSearchCV\n",
    "\n",
    "param_grid = {\n",
    "    'k': [5, 10, 15],\n",
    "    'sim_options': {\n",
    "        'name': ['cosine', 'pearson'],\n",
    "        'user_based': [False]  # Item-based collaborative filtering\n",
    "    }\n",
    "}\n",
    "\n",
    "grid_search = GridSearchCV(KNNBasic, param_grid, measures=['rmse'], cv=3)\n",
    "grid_search.fit(data)\n",
    "\n",
    "# Best parameters from grid search\n",
    "best_params = grid_search.best_params['rmse']\n",
    "print(f\"Best parameters: {best_params}\")\n",
    "# Best RMSE score\n",
    "best_rmse = grid_search.best_score['rmse']\n",
    "print(f\"Best RMSE: {best_rmse}\")\n"
   ]
  },
  {
   "cell_type": "code",
   "execution_count": 65,
   "id": "dd5fd324",
   "metadata": {},
   "outputs": [
    {
     "name": "stdout",
     "output_type": "stream",
     "text": [
      "Best parameters for SVD: {'n_factors': 50, 'n_epochs': 20, 'lr_all': 0.005, 'reg_all': 0.02}\n",
      "Best RMSE for SVD: 0.17004317344399622\n"
     ]
    }
   ],
   "source": [
    "# Implementing a grid search for SVD model\n",
    "\n",
    "svd_param_grid = {'n_factors': [50, 100, 150],\n",
    "              'n_epochs': [20, 30, 40],\n",
    "              'lr_all': [0.005, 0.01, 0.02],\n",
    "              'reg_all': [0.02, 0.1, 0.2]}\n",
    "\n",
    "grid_search_svd = GridSearchCV(SVD, svd_param_grid, measures=['rmse'], cv=3)\n",
    "grid_search_svd.fit(data)\n",
    "# Best parameters from grid search\n",
    "best_params_svd = grid_search_svd.best_params['rmse']\n",
    "print(f\"Best parameters for SVD: {best_params_svd}\")\n",
    "print(f\"Best RMSE for SVD: {grid_search_svd.best_score['rmse']}\")"
   ]
  },
  {
   "cell_type": "code",
   "execution_count": 69,
   "id": "e7f49935",
   "metadata": {},
   "outputs": [
    {
     "name": "stdout",
     "output_type": "stream",
     "text": [
      "RMSE: 0.1682\n",
      "SVD Model RMSE: 0.16821972172103833\n"
     ]
    }
   ],
   "source": [
    "# Creating and evaluating the final SVD model with best parameters\n",
    "from surprise import SVD\n",
    "\n",
    "# Instantiate SVD with best parameters\n",
    "final_svd = SVD(\n",
    "    n_factors=best_params_svd['n_factors'],\n",
    "    n_epochs=best_params_svd['n_epochs'],\n",
    "    lr_all=best_params_svd['lr_all'],\n",
    "    reg_all=best_params_svd['reg_all']\n",
    ")\n",
    "\n",
    "# Fit on the training set\n",
    "final_svd.fit(trainset)\n",
    "\n",
    "# Make predictions on the test set\n",
    "svd_predictions = final_svd.test(testset)\n",
    "\n",
    "# Calculate RMSE for the SVD model\n",
    "svd_rmse = accuracy.rmse(svd_predictions)\n",
    "print(f\"SVD Model RMSE: {svd_rmse}\")\n"
   ]
  },
  {
   "cell_type": "code",
   "execution_count": 87,
   "id": "801fe0c1",
   "metadata": {},
   "outputs": [],
   "source": [
    "# We can now build a reccommendation system using the SVD model\n",
    "def recommend_jobs(user_vector=None, top_n=10, education_level=None):\n",
    "    \"\"\"\n",
    "    Recommend jobs based on user RIASEC scores and education level using SVD model.\n",
    "    \n",
    "    Parameters:\n",
    "    - user_vector: np.array, shape (1, 6) containing RIASEC scores\n",
    "    - top_n: int, number of top job recommendations to return\n",
    "    - education_level: int, optional, user's education level code (0-6)\n",
    "    \n",
    "    Returns:\n",
    "    - DataFrame with recommended jobs\n",
    "    \"\"\"\n",
    "    # Prompt user for RIASEC scores if not provided\n",
    "    if user_vector is None:\n",
    "        print(\"Please enter your RIASEC scores (values between 1 and 7):\")\n",
    "        r = float(input(\"R (Realistic): \"))\n",
    "        i = float(input(\"I (Investigative): \"))\n",
    "        a = float(input(\"A (Artistic): \"))\n",
    "        s = float(input(\"S (Social): \"))\n",
    "        e = float(input(\"E (Enterprising): \"))\n",
    "        c = float(input(\"C (Conventional): \"))\n",
    "        user_vector = np.array([[r, i, a, s, e, c]])\n",
    "    else:\n",
    "        user_vector = np.array(user_vector).reshape(1, -1)\n",
    "        \n",
    "    # Predict ratings for all jobs\n",
    "    job_codes = job_profiles['ONET_Code'].unique()\n",
    "    predictions = []\n",
    "\n",
    "    # If education level is provided, filter jobs accordingly\n",
    "    if education_level is not None:\n",
    "        job_codes = job_profiles[job_profiles['Education_Level_Code'] <= education_level]['ONET_Code'].unique()\n",
    "\n",
    "    # Predict similarity for each job code\n",
    "    for code in job_codes:\n",
    "        pred = final_svd.predict(uid=code, iid=code, r_ui=None)\n",
    "        predictions.append((code, pred.est))\n",
    "    \n",
    "    # Create DataFrame of predictions\n",
    "    pred_df = pd.DataFrame(predictions, columns=['ONET_Code', 'Estimated_Similarity'])\n",
    "    \n",
    "    # Merge with job profiles to get titles and descriptions\n",
    "    recommended_jobs = pred_df.merge(job_profiles[['ONET_Code', 'Title', 'Description']], on='ONET_Code')\n",
    "    \n",
    "    # Sort by estimated similarity and return top N jobs\n",
    "    recommended_jobs = recommended_jobs.sort_values(by='Estimated_Similarity', ascending=False).head(top_n)\n",
    "    \n",
    "    return recommended_jobs[['Title', 'Description', 'Estimated_Similarity']]\n",
    "\n"
   ]
  },
  {
   "cell_type": "code",
   "execution_count": 89,
   "id": "d663a4f4",
   "metadata": {},
   "outputs": [
    {
     "name": "stdout",
     "output_type": "stream",
     "text": [
      "Please enter your RIASEC scores (values between 1 and 7):\n"
     ]
    },
    {
     "data": {
      "text/html": [
       "<div>\n",
       "<style scoped>\n",
       "    .dataframe tbody tr th:only-of-type {\n",
       "        vertical-align: middle;\n",
       "    }\n",
       "\n",
       "    .dataframe tbody tr th {\n",
       "        vertical-align: top;\n",
       "    }\n",
       "\n",
       "    .dataframe thead th {\n",
       "        text-align: right;\n",
       "    }\n",
       "</style>\n",
       "<table border=\"1\" class=\"dataframe\">\n",
       "  <thead>\n",
       "    <tr style=\"text-align: right;\">\n",
       "      <th></th>\n",
       "      <th>Title</th>\n",
       "      <th>Description</th>\n",
       "      <th>Estimated_Similarity</th>\n",
       "    </tr>\n",
       "  </thead>\n",
       "  <tbody>\n",
       "    <tr>\n",
       "      <th>220</th>\n",
       "      <td>Career/Technical Education Teachers, Postsecon...</td>\n",
       "      <td>Teach vocational courses intended to provide o...</td>\n",
       "      <td>0.660393</td>\n",
       "    </tr>\n",
       "    <tr>\n",
       "      <th>226</th>\n",
       "      <td>Career/Technical Education Teachers, Secondary...</td>\n",
       "      <td>Teach occupational, vocational, career, or tec...</td>\n",
       "      <td>0.656719</td>\n",
       "    </tr>\n",
       "    <tr>\n",
       "      <th>213</th>\n",
       "      <td>Communications Teachers, Postsecondary</td>\n",
       "      <td>Teach courses in communications, such as organ...</td>\n",
       "      <td>0.655843</td>\n",
       "    </tr>\n",
       "    <tr>\n",
       "      <th>194</th>\n",
       "      <td>Business Teachers, Postsecondary</td>\n",
       "      <td>Teach courses in business administration and m...</td>\n",
       "      <td>0.654083</td>\n",
       "    </tr>\n",
       "    <tr>\n",
       "      <th>228</th>\n",
       "      <td>Special Education Teachers, Secondary School</td>\n",
       "      <td>Teach academic, social, and life skills to sec...</td>\n",
       "      <td>0.654031</td>\n",
       "    </tr>\n",
       "    <tr>\n",
       "      <th>265</th>\n",
       "      <td>Low Vision Therapists, Orientation and Mobilit...</td>\n",
       "      <td>Provide therapy to patients with visual impair...</td>\n",
       "      <td>0.653453</td>\n",
       "    </tr>\n",
       "    <tr>\n",
       "      <th>196</th>\n",
       "      <td>Architecture Teachers, Postsecondary</td>\n",
       "      <td>Teach courses in architecture and architectura...</td>\n",
       "      <td>0.653190</td>\n",
       "    </tr>\n",
       "    <tr>\n",
       "      <th>267</th>\n",
       "      <td>Recreational Therapists</td>\n",
       "      <td>Plan, direct, or coordinate medically-approved...</td>\n",
       "      <td>0.652618</td>\n",
       "    </tr>\n",
       "    <tr>\n",
       "      <th>59</th>\n",
       "      <td>Training and Development Specialists</td>\n",
       "      <td>Design or conduct work-related training and de...</td>\n",
       "      <td>0.652453</td>\n",
       "    </tr>\n",
       "    <tr>\n",
       "      <th>234</th>\n",
       "      <td>Farm and Home Management Educators</td>\n",
       "      <td>Instruct and advise individuals and families e...</td>\n",
       "      <td>0.652361</td>\n",
       "    </tr>\n",
       "  </tbody>\n",
       "</table>\n",
       "</div>"
      ],
      "text/plain": [
       "                                                 Title  \\\n",
       "220  Career/Technical Education Teachers, Postsecon...   \n",
       "226  Career/Technical Education Teachers, Secondary...   \n",
       "213             Communications Teachers, Postsecondary   \n",
       "194                   Business Teachers, Postsecondary   \n",
       "228       Special Education Teachers, Secondary School   \n",
       "265  Low Vision Therapists, Orientation and Mobilit...   \n",
       "196               Architecture Teachers, Postsecondary   \n",
       "267                            Recreational Therapists   \n",
       "59                Training and Development Specialists   \n",
       "234                 Farm and Home Management Educators   \n",
       "\n",
       "                                           Description  Estimated_Similarity  \n",
       "220  Teach vocational courses intended to provide o...              0.660393  \n",
       "226  Teach occupational, vocational, career, or tec...              0.656719  \n",
       "213  Teach courses in communications, such as organ...              0.655843  \n",
       "194  Teach courses in business administration and m...              0.654083  \n",
       "228  Teach academic, social, and life skills to sec...              0.654031  \n",
       "265  Provide therapy to patients with visual impair...              0.653453  \n",
       "196  Teach courses in architecture and architectura...              0.653190  \n",
       "267  Plan, direct, or coordinate medically-approved...              0.652618  \n",
       "59   Design or conduct work-related training and de...              0.652453  \n",
       "234  Instruct and advise individuals and families e...              0.652361  "
      ]
     },
     "execution_count": 89,
     "metadata": {},
     "output_type": "execute_result"
    }
   ],
   "source": [
    "# Testing the recommendation system with a sample user vector\n",
    "# Example RIASEC scores\n",
    "recommended_jobs = recommend_jobs(top_n=10, education_level=5)  # Assuming user has a Master's degree\n",
    "# Display recommended jobs\n",
    "recommended_jobs "
   ]
  },
  {
   "cell_type": "markdown",
   "id": "7c91c8db",
   "metadata": {},
   "source": [
    "### PHASE 6: IMPLEMENTING UNSUPERVISED METHODS(K-MEANS CLUSTERING)"
   ]
  },
  {
   "cell_type": "markdown",
   "id": "827bf699",
   "metadata": {
    "vscode": {
     "languageId": "markdown"
    }
   },
   "source": [
    "### 6.1: We can attempt to use a kmeans clustering model to assigh the user to certain cluster based on the RIASEC scores and the education level required for the job."
   ]
  },
  {
   "cell_type": "code",
   "execution_count": 43,
   "id": "2c2c050a",
   "metadata": {},
   "outputs": [],
   "source": [
    "# Importing clustering libraries\n",
    "from sklearn.cluster import KMeans\n",
    "from sklearn.cluster import AgglomerativeClustering\n",
    "from sklearn.decomposition import PCA"
   ]
  },
  {
   "cell_type": "code",
   "execution_count": 71,
   "id": "4486fb4a",
   "metadata": {},
   "outputs": [
    {
     "name": "stderr",
     "output_type": "stream",
     "text": [
      "c:\\Users\\eugene.maina\\AppData\\Local\\anaconda3\\Lib\\site-packages\\sklearn\\cluster\\_kmeans.py:1419: UserWarning:\n",
      "\n",
      "KMeans is known to have a memory leak on Windows with MKL, when there are less chunks than available threads. You can avoid it by setting the environment variable OMP_NUM_THREADS=3.\n",
      "\n"
     ]
    },
    {
     "data": {
      "text/html": [
       "<div>\n",
       "<style scoped>\n",
       "    .dataframe tbody tr th:only-of-type {\n",
       "        vertical-align: middle;\n",
       "    }\n",
       "\n",
       "    .dataframe tbody tr th {\n",
       "        vertical-align: top;\n",
       "    }\n",
       "\n",
       "    .dataframe thead th {\n",
       "        text-align: right;\n",
       "    }\n",
       "</style>\n",
       "<table border=\"1\" class=\"dataframe\">\n",
       "  <thead>\n",
       "    <tr style=\"text-align: right;\">\n",
       "      <th></th>\n",
       "      <th>Title</th>\n",
       "      <th>Cluster</th>\n",
       "    </tr>\n",
       "  </thead>\n",
       "  <tbody>\n",
       "    <tr>\n",
       "      <th>433</th>\n",
       "      <td>Music Therapists</td>\n",
       "      <td>0</td>\n",
       "    </tr>\n",
       "    <tr>\n",
       "      <th>432</th>\n",
       "      <td>Art Therapists</td>\n",
       "      <td>0</td>\n",
       "    </tr>\n",
       "    <tr>\n",
       "      <th>325</th>\n",
       "      <td>Art, Drama, and Music Teachers, Postsecondary</td>\n",
       "      <td>0</td>\n",
       "    </tr>\n",
       "    <tr>\n",
       "      <th>301</th>\n",
       "      <td>Architecture Teachers, Postsecondary</td>\n",
       "      <td>0</td>\n",
       "    </tr>\n",
       "    <tr>\n",
       "      <th>327</th>\n",
       "      <td>English Language and Literature Teachers, Post...</td>\n",
       "      <td>0</td>\n",
       "    </tr>\n",
       "    <tr>\n",
       "      <th>311</th>\n",
       "      <td>Area, Ethnic, and Cultural Studies Teachers, P...</td>\n",
       "      <td>0</td>\n",
       "    </tr>\n",
       "    <tr>\n",
       "      <th>326</th>\n",
       "      <td>Communications Teachers, Postsecondary</td>\n",
       "      <td>0</td>\n",
       "    </tr>\n",
       "    <tr>\n",
       "      <th>329</th>\n",
       "      <td>History Teachers, Postsecondary</td>\n",
       "      <td>0</td>\n",
       "    </tr>\n",
       "    <tr>\n",
       "      <th>330</th>\n",
       "      <td>Philosophy and Religion Teachers, Postsecondary</td>\n",
       "      <td>0</td>\n",
       "    </tr>\n",
       "    <tr>\n",
       "      <th>328</th>\n",
       "      <td>Foreign Language and Literature Teachers, Post...</td>\n",
       "      <td>0</td>\n",
       "    </tr>\n",
       "  </tbody>\n",
       "</table>\n",
       "</div>"
      ],
      "text/plain": [
       "                                                 Title  Cluster\n",
       "433                                   Music Therapists        0\n",
       "432                                     Art Therapists        0\n",
       "325      Art, Drama, and Music Teachers, Postsecondary        0\n",
       "301               Architecture Teachers, Postsecondary        0\n",
       "327  English Language and Literature Teachers, Post...        0\n",
       "311  Area, Ethnic, and Cultural Studies Teachers, P...        0\n",
       "326             Communications Teachers, Postsecondary        0\n",
       "329                    History Teachers, Postsecondary        0\n",
       "330    Philosophy and Religion Teachers, Postsecondary        0\n",
       "328  Foreign Language and Literature Teachers, Post...        0"
      ]
     },
     "execution_count": 71,
     "metadata": {},
     "output_type": "execute_result"
    }
   ],
   "source": [
    "# Using KMeans clustering to group jobs based on RIASEC scores\n",
    "\n",
    "# Select RIASEC columns for clustering\n",
    "riasec_cols = ['R', 'I', 'A', 'S', 'E', 'C']\n",
    "X = job_profiles[riasec_cols]\n",
    "\n",
    "# Choose number of clusters (e.g., 3)\n",
    "kmeans = KMeans(n_clusters=3, random_state=42)\n",
    "job_profiles['Cluster'] = kmeans.fit_predict(X)\n",
    "\n",
    "# Map cluster assignments to top_filtered_matches using ONET_Code\n",
    "top_filtered_matches = top_filtered_matches.copy()\n",
    "top_filtered_matches['Cluster'] = top_filtered_matches['ONET_Code'].map(\n",
    "\tjob_profiles.set_index('ONET_Code')['Cluster']\n",
    ")\n",
    "\n",
    "# Show cluster assignments\n",
    "top_filtered_matches[['Title', 'Cluster']]"
   ]
  },
  {
   "cell_type": "code",
   "execution_count": 72,
   "id": "4210ccdc",
   "metadata": {},
   "outputs": [
    {
     "name": "stderr",
     "output_type": "stream",
     "text": [
      "c:\\Users\\eugene.maina\\AppData\\Local\\anaconda3\\Lib\\site-packages\\sklearn\\cluster\\_kmeans.py:1419: UserWarning:\n",
      "\n",
      "KMeans is known to have a memory leak on Windows with MKL, when there are less chunks than available threads. You can avoid it by setting the environment variable OMP_NUM_THREADS=3.\n",
      "\n",
      "c:\\Users\\eugene.maina\\AppData\\Local\\anaconda3\\Lib\\site-packages\\sklearn\\cluster\\_kmeans.py:1419: UserWarning:\n",
      "\n",
      "KMeans is known to have a memory leak on Windows with MKL, when there are less chunks than available threads. You can avoid it by setting the environment variable OMP_NUM_THREADS=3.\n",
      "\n",
      "c:\\Users\\eugene.maina\\AppData\\Local\\anaconda3\\Lib\\site-packages\\sklearn\\cluster\\_kmeans.py:1419: UserWarning:\n",
      "\n",
      "KMeans is known to have a memory leak on Windows with MKL, when there are less chunks than available threads. You can avoid it by setting the environment variable OMP_NUM_THREADS=3.\n",
      "\n",
      "c:\\Users\\eugene.maina\\AppData\\Local\\anaconda3\\Lib\\site-packages\\sklearn\\cluster\\_kmeans.py:1419: UserWarning:\n",
      "\n",
      "KMeans is known to have a memory leak on Windows with MKL, when there are less chunks than available threads. You can avoid it by setting the environment variable OMP_NUM_THREADS=3.\n",
      "\n",
      "c:\\Users\\eugene.maina\\AppData\\Local\\anaconda3\\Lib\\site-packages\\sklearn\\cluster\\_kmeans.py:1419: UserWarning:\n",
      "\n",
      "KMeans is known to have a memory leak on Windows with MKL, when there are less chunks than available threads. You can avoid it by setting the environment variable OMP_NUM_THREADS=3.\n",
      "\n",
      "c:\\Users\\eugene.maina\\AppData\\Local\\anaconda3\\Lib\\site-packages\\sklearn\\cluster\\_kmeans.py:1419: UserWarning:\n",
      "\n",
      "KMeans is known to have a memory leak on Windows with MKL, when there are less chunks than available threads. You can avoid it by setting the environment variable OMP_NUM_THREADS=3.\n",
      "\n",
      "c:\\Users\\eugene.maina\\AppData\\Local\\anaconda3\\Lib\\site-packages\\sklearn\\cluster\\_kmeans.py:1419: UserWarning:\n",
      "\n",
      "KMeans is known to have a memory leak on Windows with MKL, when there are less chunks than available threads. You can avoid it by setting the environment variable OMP_NUM_THREADS=3.\n",
      "\n",
      "c:\\Users\\eugene.maina\\AppData\\Local\\anaconda3\\Lib\\site-packages\\sklearn\\cluster\\_kmeans.py:1419: UserWarning:\n",
      "\n",
      "KMeans is known to have a memory leak on Windows with MKL, when there are less chunks than available threads. You can avoid it by setting the environment variable OMP_NUM_THREADS=3.\n",
      "\n",
      "c:\\Users\\eugene.maina\\AppData\\Local\\anaconda3\\Lib\\site-packages\\sklearn\\cluster\\_kmeans.py:1419: UserWarning:\n",
      "\n",
      "KMeans is known to have a memory leak on Windows with MKL, when there are less chunks than available threads. You can avoid it by setting the environment variable OMP_NUM_THREADS=3.\n",
      "\n",
      "c:\\Users\\eugene.maina\\AppData\\Local\\anaconda3\\Lib\\site-packages\\sklearn\\cluster\\_kmeans.py:1419: UserWarning:\n",
      "\n",
      "KMeans is known to have a memory leak on Windows with MKL, when there are less chunks than available threads. You can avoid it by setting the environment variable OMP_NUM_THREADS=3.\n",
      "\n"
     ]
    },
    {
     "data": {
      "image/png": "[encoded data removed]",
      "text/plain": [
       "<Figure size 1000x600 with 1 Axes>"
      ]
     },
     "metadata": {},
     "output_type": "display_data"
    }
   ],
   "source": [
    "# Finding optimal number of clusters using Elbow Method\n",
    "inertia = []\n",
    "for k in range(1, 11):\n",
    "    kmeans = KMeans(n_clusters=k, random_state=42)\n",
    "    kmeans.fit(X)\n",
    "    inertia.append(kmeans.inertia_)\n",
    "# Plotting the Elbow Method\n",
    "plt.figure(figsize=(10, 6))\n",
    "plt.plot(range(1, 11), inertia, marker='o')\n",
    "plt.title('Elbow Method for Optimal K')\n",
    "plt.xlabel('Number of Clusters (K)')\n",
    "plt.ylabel('Inertia')\n",
    "plt.xticks(range(1, 11))\n",
    "plt.grid(True)\n",
    "plt.tight_layout()\n",
    "plt.show()"
   ]
  },
  {
   "cell_type": "markdown",
   "id": "bfca848b",
   "metadata": {},
   "source": [
    "* Implementing the optimal number of clusters to the model. i.e  k=4"
   ]
  },
  {
   "cell_type": "code",
   "execution_count": 74,
   "id": "b38ee022",
   "metadata": {},
   "outputs": [
    {
     "name": "stderr",
     "output_type": "stream",
     "text": [
      "c:\\Users\\eugene.maina\\AppData\\Local\\anaconda3\\Lib\\site-packages\\sklearn\\cluster\\_kmeans.py:1419: UserWarning:\n",
      "\n",
      "KMeans is known to have a memory leak on Windows with MKL, when there are less chunks than available threads. You can avoid it by setting the environment variable OMP_NUM_THREADS=1.\n",
      "\n"
     ]
    },
    {
     "data": {
      "text/html": [
       "<div>\n",
       "<style scoped>\n",
       "    .dataframe tbody tr th:only-of-type {\n",
       "        vertical-align: middle;\n",
       "    }\n",
       "\n",
       "    .dataframe tbody tr th {\n",
       "        vertical-align: top;\n",
       "    }\n",
       "\n",
       "    .dataframe thead th {\n",
       "        text-align: right;\n",
       "    }\n",
       "</style>\n",
       "<table border=\"1\" class=\"dataframe\">\n",
       "  <thead>\n",
       "    <tr style=\"text-align: right;\">\n",
       "      <th></th>\n",
       "      <th>Title</th>\n",
       "      <th>Cluster</th>\n",
       "    </tr>\n",
       "  </thead>\n",
       "  <tbody>\n",
       "    <tr>\n",
       "      <th>433</th>\n",
       "      <td>Music Therapists</td>\n",
       "      <td>2</td>\n",
       "    </tr>\n",
       "    <tr>\n",
       "      <th>432</th>\n",
       "      <td>Art Therapists</td>\n",
       "      <td>2</td>\n",
       "    </tr>\n",
       "    <tr>\n",
       "      <th>325</th>\n",
       "      <td>Art, Drama, and Music Teachers, Postsecondary</td>\n",
       "      <td>1</td>\n",
       "    </tr>\n",
       "    <tr>\n",
       "      <th>301</th>\n",
       "      <td>Architecture Teachers, Postsecondary</td>\n",
       "      <td>0</td>\n",
       "    </tr>\n",
       "    <tr>\n",
       "      <th>327</th>\n",
       "      <td>English Language and Literature Teachers, Post...</td>\n",
       "      <td>3</td>\n",
       "    </tr>\n",
       "    <tr>\n",
       "      <th>311</th>\n",
       "      <td>Area, Ethnic, and Cultural Studies Teachers, P...</td>\n",
       "      <td>3</td>\n",
       "    </tr>\n",
       "    <tr>\n",
       "      <th>326</th>\n",
       "      <td>Communications Teachers, Postsecondary</td>\n",
       "      <td>3</td>\n",
       "    </tr>\n",
       "    <tr>\n",
       "      <th>329</th>\n",
       "      <td>History Teachers, Postsecondary</td>\n",
       "      <td>3</td>\n",
       "    </tr>\n",
       "    <tr>\n",
       "      <th>330</th>\n",
       "      <td>Philosophy and Religion Teachers, Postsecondary</td>\n",
       "      <td>3</td>\n",
       "    </tr>\n",
       "    <tr>\n",
       "      <th>328</th>\n",
       "      <td>Foreign Language and Literature Teachers, Post...</td>\n",
       "      <td>3</td>\n",
       "    </tr>\n",
       "  </tbody>\n",
       "</table>\n",
       "</div>"
      ],
      "text/plain": [
       "                                                 Title  Cluster\n",
       "433                                   Music Therapists        2\n",
       "432                                     Art Therapists        2\n",
       "325      Art, Drama, and Music Teachers, Postsecondary        1\n",
       "301               Architecture Teachers, Postsecondary        0\n",
       "327  English Language and Literature Teachers, Post...        3\n",
       "311  Area, Ethnic, and Cultural Studies Teachers, P...        3\n",
       "326             Communications Teachers, Postsecondary        3\n",
       "329                    History Teachers, Postsecondary        3\n",
       "330    Philosophy and Religion Teachers, Postsecondary        3\n",
       "328  Foreign Language and Literature Teachers, Post...        3"
      ]
     },
     "execution_count": 74,
     "metadata": {},
     "output_type": "execute_result"
    }
   ],
   "source": [
    "optimal_k = 4\n",
    "\n",
    "# Using the optimal number of clusters on the filtered matches\n",
    "riasec_cols = ['R', 'I', 'A', 'S', 'E', 'C']\n",
    "kmeans = KMeans(n_clusters=optimal_k, random_state=42)\n",
    "top_filtered_matches['Cluster'] = kmeans.fit_predict(top_filtered_matches[riasec_cols])\n",
    "# Show cluster assignments\n",
    "top_filtered_matches[['Title', 'Cluster']].head(10)"
   ]
  },
  {
   "cell_type": "code",
   "execution_count": 75,
   "id": "e5abbd2f",
   "metadata": {},
   "outputs": [
    {
     "data": {
      "image/png": "[encoded data removed]",
      "text/plain": [
       "<Figure size 1000x600 with 2 Axes>"
      ]
     },
     "metadata": {},
     "output_type": "display_data"
    }
   ],
   "source": [
    "# Plotting the clusters with optimal K\n",
    "plt.figure(figsize=(10, 6))\n",
    "plt.scatter(top_filtered_matches['R'], top_filtered_matches['I'], c=top_filtered_matches['Cluster'], cmap='viridis', alpha=0.9) \n",
    "plt.title('K-Means Clustering of Jobs by RIASEC Scores')\n",
    "plt.xlabel('Realistic (R)')\n",
    "plt.ylabel('Investigative (I)')\n",
    "plt.colorbar(label='Cluster')\n",
    "plt.tight_layout()\n",
    "plt.show()"
   ]
  },
  {
   "cell_type": "markdown",
   "id": "6b66a1ff",
   "metadata": {},
   "source": []
  },
  {
   "cell_type": "code",
   "execution_count": 77,
   "id": "9e64aa8b",
   "metadata": {},
   "outputs": [
    {
     "name": "stdout",
     "output_type": "stream",
     "text": [
      "                                                 Title      PCA1      PCA2  \\\n",
      "433                                   Music Therapists  0.216335 -0.145658   \n",
      "432                                     Art Therapists  0.362726 -0.014236   \n",
      "325      Art, Drama, and Music Teachers, Postsecondary  0.262755  0.137396   \n",
      "301               Architecture Teachers, Postsecondary -0.048240  0.123986   \n",
      "327  English Language and Literature Teachers, Post... -0.094090 -0.031891   \n",
      "311  Area, Ethnic, and Cultural Studies Teachers, P... -0.134358  0.084273   \n",
      "326             Communications Teachers, Postsecondary -0.124787 -0.107334   \n",
      "329                    History Teachers, Postsecondary -0.169868  0.062501   \n",
      "330    Philosophy and Religion Teachers, Postsecondary -0.161822 -0.004750   \n",
      "328  Foreign Language and Literature Teachers, Post... -0.108652 -0.104287   \n",
      "\n",
      "     Cluster  \n",
      "433        2  \n",
      "432        2  \n",
      "325        1  \n",
      "301        0  \n",
      "327        3  \n",
      "311        3  \n",
      "326        3  \n",
      "329        3  \n",
      "330        3  \n",
      "328        3  \n"
     ]
    },
    {
     "data": {
      "image/png": "[encoded data removed]",
      "text/plain": [
       "<Figure size 1000x600 with 2 Axes>"
      ]
     },
     "metadata": {},
     "output_type": "display_data"
    }
   ],
   "source": [
    "# Using PCA for dimensionality reduction on the filtered matches only\n",
    "pca = PCA(n_components=2)\n",
    "X_pca = pca.fit_transform(top_filtered_matches[riasec_cols])\n",
    "# Adding PCA components to DataFrame\n",
    "top_filtered_matches['PCA1'] = X_pca[:, 0]\n",
    "top_filtered_matches['PCA2'] = X_pca[:, 1]\n",
    "# Show PCA results\n",
    "print(top_filtered_matches[['Title', 'PCA1', 'PCA2', 'Cluster']].head(10))\n",
    "\n",
    "\n",
    "# Plotting PCA results with clusters\n",
    "plt.figure(figsize=(10, 6))\n",
    "plt.scatter(\n",
    "    top_filtered_matches['PCA1'],\n",
    "    top_filtered_matches['PCA2'],\n",
    "    c=top_filtered_matches['Cluster'],\n",
    "    cmap='viridis',\n",
    "    alpha=0.9,\n",
    "    edgecolors='w',\n",
    "    s=100\n",
    ")\n",
    "plt.title('PCA of Top Job Matches with K-Means Clustering')\n",
    "plt.xlabel('PCA Component 1')\n",
    "plt.ylabel('PCA Component 2')\n",
    "plt.colorbar(label='Cluster')\n",
    "plt.tight_layout()\n",
    "plt.show()"
   ]
  },
  {
   "cell_type": "markdown",
   "id": "9be22268-6e67-43c1-98ef-defa89b25777",
   "metadata": {},
   "source": [
    "### Visualization"
   ]
  },
  {
   "cell_type": "markdown",
   "id": "511884a3-0fae-4adb-a8e0-7f859989cfee",
   "metadata": {},
   "source": [
    "#### A. Top Skills by Frequency"
   ]
  },
  {
   "cell_type": "code",
   "execution_count": 49,
   "id": "24a3d319-857d-4deb-909e-6917a11b80cd",
   "metadata": {},
   "outputs": [
    {
     "data": {
      "image/png": "[encoded data removed]",
      "text/plain": [
       "<Figure size 1000x600 with 1 Axes>"
      ]
     },
     "metadata": {},
     "output_type": "display_data"
    }
   ],
   "source": [
    "top_skills_plot = (\n",
    "    top_b_enhanced['Skill']\n",
    "    .value_counts()\n",
    "    .nlargest(10)\n",
    "    .sort_values()\n",
    ")\n",
    "\n",
    "plt.figure(figsize=(10, 6))\n",
    "sns.barplot(\n",
    "    x=top_skills_plot.values,\n",
    "    y=top_skills_plot.index,\n",
    "    hue=top_skills_plot.index,  # Set hue to match the y-axis variable\n",
    "    dodge=False,\n",
    "    palette='viridis',\n",
    "    legend=False  # Optional: Hides legend since it's redundant\n",
    ")\n",
    "plt.title('Top 10 Most Common Skills Across Top Jobs')\n",
    "plt.xlabel('Count')\n",
    "plt.ylabel('Skill')\n",
    "plt.tight_layout()\n",
    "plt.savefig('images/top_skills_across_jobs.png', dpi=300)\n",
    "plt.show()"
   ]
  },
  {
   "cell_type": "markdown",
   "id": "448703ce-b224-4280-8f87-d45401623876",
   "metadata": {},
   "source": [
    "### B. Top Abilities Bar Plot"
   ]
  },
  {
   "cell_type": "code",
   "execution_count": 50,
   "id": "653d10ff-d794-4a98-b63d-dd157055378d",
   "metadata": {},
   "outputs": [
    {
     "data": {
      "image/png": "[encoded data removed]",
      "text/plain": [
       "<Figure size 1000x600 with 1 Axes>"
      ]
     },
     "metadata": {},
     "output_type": "display_data"
    }
   ],
   "source": [
    "top_abilities_plot = (\n",
    "    top_b_enhanced['Ability']\n",
    "    .value_counts()\n",
    "    .nlargest(10)\n",
    "    .sort_values()\n",
    ")\n",
    "\n",
    "plt.figure(figsize=(10, 6))\n",
    "sns.barplot(\n",
    "    x=top_abilities_plot.values,\n",
    "    y=top_abilities_plot.index,\n",
    "    hue=top_abilities_plot.index,\n",
    "    palette='coolwarm',\n",
    "    legend=False\n",
    ")\n",
    "plt.title('Top 10 Most Common Abilities Across Top Jobs')\n",
    "plt.xlabel('Count')\n",
    "plt.ylabel('Ability')\n",
    "plt.tight_layout()\n",
    "plt.savefig('images/top_abilities_across_jobs.png', dpi=300)\n",
    "plt.show()"
   ]
  },
  {
   "cell_type": "markdown",
   "id": "1c42de0d-e0c0-4186-9dcf-bcfdc44a2c29",
   "metadata": {},
   "source": [
    "### C. Top Education Levels"
   ]
  },
  {
   "cell_type": "code",
   "execution_count": 51,
   "id": "d41d0a8a-889f-4181-827c-3216120c1f94",
   "metadata": {},
   "outputs": [
    {
     "data": {
      "image/png": "[encoded data removed]",
      "text/plain": [
       "<Figure size 1000x600 with 1 Axes>"
      ]
     },
     "metadata": {},
     "output_type": "display_data"
    }
   ],
   "source": [
    "# Plotting the most common education levels in top jobs\n",
    "\n",
    "plt.figure(figsize=(10, 6))\n",
    "\n",
    "\n",
    "edu_counts = edu_df_with_cat['Education Level'].value_counts().sort_values()\n",
    "\n",
    "sns.barplot(\n",
    "    x=edu_counts.values,\n",
    "    y=edu_counts.index,\n",
    "    palette='Set2',\n",
    "    hue=edu_counts.index,  # Set hue to match the y-axis variable\n",
    "    dodge=False\n",
    ")\n",
    "plt.title('Most Common Education Levels in Top Jobs')\n",
    "plt.xlabel('Count')\n",
    "plt.ylabel('Education Level')\n",
    "plt.tight_layout()\n",
    "plt.savefig('images/top_education_levels_in_jobs.png', dpi=300)\n",
    "plt.show()"
   ]
  },
  {
   "cell_type": "code",
   "execution_count": 52,
   "id": "4790e473-a5cd-4cb4-b324-95bd7ac5b1e1",
   "metadata": {},
   "outputs": [],
   "source": [
    "# "
   ]
  },
  {
   "cell_type": "code",
   "execution_count": null,
   "id": "abb37519-dad7-4889-8e41-bf8fcd9e2bbc",
   "metadata": {},
   "outputs": [],
   "source": []
  },
  {
   "cell_type": "code",
   "execution_count": null,
   "id": "fa108b51-1b26-434a-ab18-a05c576be0c2",
   "metadata": {},
   "outputs": [],
   "source": []
  },
  {
   "cell_type": "markdown",
   "id": "4a4aa287-4a7f-4772-b548-ec9a59b4a66a",
   "metadata": {},
   "source": [
    "### Radar Chart Update (Add Abilities)"
   ]
  },
  {
   "cell_type": "code",
   "execution_count": 53,
   "id": "0387ca50-2e01-477b-be42-f8ecd72d7ea0",
   "metadata": {},
   "outputs": [
    {
     "data": {
      "application/vnd.plotly.v1+json": {
       "config": {
        "plotlyServerURL": "https://plot.ly"
       },
       "data": [
        {
         "fill": "toself",
         "name": "Top Job Abilities",
         "r": [
          4.12,
          4.12,
          4.12,
          4.12,
          4.12
         ],
         "theta": [
          "Oral Expression",
          "Problem Sensitivity",
          "Oral Expression",
          "Problem Sensitivity",
          "Oral Expression"
         ],
         "type": "scatterpolar"
        }
       ],
       "layout": {
        "polar": {
         "radialaxis": {
          "range": [
           0,
           5
          ],
          "visible": true
         }
        },
        "template": {
         "data": {
          "bar": [
           {
            "error_x": {
             "color": "#2a3f5f"
            },
            "error_y": {
             "color": "#2a3f5f"
            },
            "marker": {
             "line": {
              "color": "#E5ECF6",
              "width": 0.5
             },
             "pattern": {
              "fillmode": "overlay",
              "size": 10,
              "solidity": 0.2
             }
            },
            "type": "bar"
           }
          ],
          "barpolar": [
           {
            "marker": {
             "line": {
              "color": "#E5ECF6",
              "width": 0.5
             },
             "pattern": {
              "fillmode": "overlay",
              "size": 10,
              "solidity": 0.2
             }
            },
            "type": "barpolar"
           }
          ],
          "carpet": [
           {
            "aaxis": {
             "endlinecolor": "#2a3f5f",
             "gridcolor": "white",
             "linecolor": "white",
             "minorgridcolor": "white",
             "startlinecolor": "#2a3f5f"
            },
            "baxis": {
             "endlinecolor": "#2a3f5f",
             "gridcolor": "white",
             "linecolor": "white",
             "minorgridcolor": "white",
             "startlinecolor": "#2a3f5f"
            },
            "type": "carpet"
           }
          ],
          "choropleth": [
           {
            "colorbar": {
             "outlinewidth": 0,
             "ticks": ""
            },
            "type": "choropleth"
           }
          ],
          "contour": [
           {
            "colorbar": {
             "outlinewidth": 0,
             "ticks": ""
            },
            "colorscale": [
             [
              0,
              "#0d0887"
             ],
             [
              0.1111111111111111,
              "#46039f"
             ],
             [
              0.2222222222222222,
              "#7201a8"
             ],
             [
              0.3333333333333333,
              "#9c179e"
             ],
             [
              0.4444444444444444,
              "#bd3786"
             ],
             [
              0.5555555555555556,
              "#d8576b"
             ],
             [
              0.6666666666666666,
              "#ed7953"
             ],
             [
              0.7777777777777778,
              "#fb9f3a"
             ],
             [
              0.8888888888888888,
              "#fdca26"
             ],
             [
              1,
              "#f0f921"
             ]
            ],
            "type": "contour"
           }
          ],
          "contourcarpet": [
           {
            "colorbar": {
             "outlinewidth": 0,
             "ticks": ""
            },
            "type": "contourcarpet"
           }
          ],
          "heatmap": [
           {
            "colorbar": {
             "outlinewidth": 0,
             "ticks": ""
            },
            "colorscale": [
             [
              0,
              "#0d0887"
             ],
             [
              0.1111111111111111,
              "#46039f"
             ],
             [
              0.2222222222222222,
              "#7201a8"
             ],
             [
              0.3333333333333333,
              "#9c179e"
             ],
             [
              0.4444444444444444,
              "#bd3786"
             ],
             [
              0.5555555555555556,
              "#d8576b"
             ],
             [
              0.6666666666666666,
              "#ed7953"
             ],
             [
              0.7777777777777778,
              "#fb9f3a"
             ],
             [
              0.8888888888888888,
              "#fdca26"
             ],
             [
              1,
              "#f0f921"
             ]
            ],
            "type": "heatmap"
           }
          ],
          "heatmapgl": [
           {
            "colorbar": {
             "outlinewidth": 0,
             "ticks": ""
            },
            "colorscale": [
             [
              0,
              "#0d0887"
             ],
             [
              0.1111111111111111,
              "#46039f"
             ],
             [
              0.2222222222222222,
              "#7201a8"
             ],
             [
              0.3333333333333333,
              "#9c179e"
             ],
             [
              0.4444444444444444,
              "#bd3786"
             ],
             [
              0.5555555555555556,
              "#d8576b"
             ],
             [
              0.6666666666666666,
              "#ed7953"
             ],
             [
              0.7777777777777778,
              "#fb9f3a"
             ],
             [
              0.8888888888888888,
              "#fdca26"
             ],
             [
              1,
              "#f0f921"
             ]
            ],
            "type": "heatmapgl"
           }
          ],
          "histogram": [
           {
            "marker": {
             "pattern": {
              "fillmode": "overlay",
              "size": 10,
              "solidity": 0.2
             }
            },
            "type": "histogram"
           }
          ],
          "histogram2d": [
           {
            "colorbar": {
             "outlinewidth": 0,
             "ticks": ""
            },
            "colorscale": [
             [
              0,
              "#0d0887"
             ],
             [
              0.1111111111111111,
              "#46039f"
             ],
             [
              0.2222222222222222,
              "#7201a8"
             ],
             [
              0.3333333333333333,
              "#9c179e"
             ],
             [
              0.4444444444444444,
              "#bd3786"
             ],
             [
              0.5555555555555556,
              "#d8576b"
             ],
             [
              0.6666666666666666,
              "#ed7953"
             ],
             [
              0.7777777777777778,
              "#fb9f3a"
             ],
             [
              0.8888888888888888,
              "#fdca26"
             ],
             [
              1,
              "#f0f921"
             ]
            ],
            "type": "histogram2d"
           }
          ],
          "histogram2dcontour": [
           {
            "colorbar": {
             "outlinewidth": 0,
             "ticks": ""
            },
            "colorscale": [
             [
              0,
              "#0d0887"
             ],
             [
              0.1111111111111111,
              "#46039f"
             ],
             [
              0.2222222222222222,
              "#7201a8"
             ],
             [
              0.3333333333333333,
              "#9c179e"
             ],
             [
              0.4444444444444444,
              "#bd3786"
             ],
             [
              0.5555555555555556,
              "#d8576b"
             ],
             [
              0.6666666666666666,
              "#ed7953"
             ],
             [
              0.7777777777777778,
              "#fb9f3a"
             ],
             [
              0.8888888888888888,
              "#fdca26"
             ],
             [
              1,
              "#f0f921"
             ]
            ],
            "type": "histogram2dcontour"
           }
          ],
          "mesh3d": [
           {
            "colorbar": {
             "outlinewidth": 0,
             "ticks": ""
            },
            "type": "mesh3d"
           }
          ],
          "parcoords": [
           {
            "line": {
             "colorbar": {
              "outlinewidth": 0,
              "ticks": ""
             }
            },
            "type": "parcoords"
           }
          ],
          "pie": [
           {
            "automargin": true,
            "type": "pie"
           }
          ],
          "scatter": [
           {
            "fillpattern": {
             "fillmode": "overlay",
             "size": 10,
             "solidity": 0.2
            },
            "type": "scatter"
           }
          ],
          "scatter3d": [
           {
            "line": {
             "colorbar": {
              "outlinewidth": 0,
              "ticks": ""
             }
            },
            "marker": {
             "colorbar": {
              "outlinewidth": 0,
              "ticks": ""
             }
            },
            "type": "scatter3d"
           }
          ],
          "scattercarpet": [
           {
            "marker": {
             "colorbar": {
              "outlinewidth": 0,
              "ticks": ""
             }
            },
            "type": "scattercarpet"
           }
          ],
          "scattergeo": [
           {
            "marker": {
             "colorbar": {
              "outlinewidth": 0,
              "ticks": ""
             }
            },
            "type": "scattergeo"
           }
          ],
          "scattergl": [
           {
            "marker": {
             "colorbar": {
              "outlinewidth": 0,
              "ticks": ""
             }
            },
            "type": "scattergl"
           }
          ],
          "scattermapbox": [
           {
            "marker": {
             "colorbar": {
              "outlinewidth": 0,
              "ticks": ""
             }
            },
            "type": "scattermapbox"
           }
          ],
          "scatterpolar": [
           {
            "marker": {
             "colorbar": {
              "outlinewidth": 0,
              "ticks": ""
             }
            },
            "type": "scatterpolar"
           }
          ],
          "scatterpolargl": [
           {
            "marker": {
             "colorbar": {
              "outlinewidth": 0,
              "ticks": ""
             }
            },
            "type": "scatterpolargl"
           }
          ],
          "scatterternary": [
           {
            "marker": {
             "colorbar": {
              "outlinewidth": 0,
              "ticks": ""
             }
            },
            "type": "scatterternary"
           }
          ],
          "surface": [
           {
            "colorbar": {
             "outlinewidth": 0,
             "ticks": ""
            },
            "colorscale": [
             [
              0,
              "#0d0887"
             ],
             [
              0.1111111111111111,
              "#46039f"
             ],
             [
              0.2222222222222222,
              "#7201a8"
             ],
             [
              0.3333333333333333,
              "#9c179e"
             ],
             [
              0.4444444444444444,
              "#bd3786"
             ],
             [
              0.5555555555555556,
              "#d8576b"
             ],
             [
              0.6666666666666666,
              "#ed7953"
             ],
             [
              0.7777777777777778,
              "#fb9f3a"
             ],
             [
              0.8888888888888888,
              "#fdca26"
             ],
             [
              1,
              "#f0f921"
             ]
            ],
            "type": "surface"
           }
          ],
          "table": [
           {
            "cells": {
             "fill": {
              "color": "#EBF0F8"
             },
             "line": {
              "color": "white"
             }
            },
            "header": {
             "fill": {
              "color": "#C8D4E3"
             },
             "line": {
              "color": "white"
             }
            },
            "type": "table"
           }
          ]
         },
         "layout": {
          "annotationdefaults": {
           "arrowcolor": "#2a3f5f",
           "arrowhead": 0,
           "arrowwidth": 1
          },
          "autotypenumbers": "strict",
          "coloraxis": {
           "colorbar": {
            "outlinewidth": 0,
            "ticks": ""
           }
          },
          "colorscale": {
           "diverging": [
            [
             0,
             "#8e0152"
            ],
            [
             0.1,
             "#c51b7d"
            ],
            [
             0.2,
             "#de77ae"
            ],
            [
             0.3,
             "#f1b6da"
            ],
            [
             0.4,
             "#fde0ef"
            ],
            [
             0.5,
             "#f7f7f7"
            ],
            [
             0.6,
             "#e6f5d0"
            ],
            [
             0.7,
             "#b8e186"
            ],
            [
             0.8,
             "#7fbc41"
            ],
            [
             0.9,
             "#4d9221"
            ],
            [
             1,
             "#276419"
            ]
           ],
           "sequential": [
            [
             0,
             "#0d0887"
            ],
            [
             0.1111111111111111,
             "#46039f"
            ],
            [
             0.2222222222222222,
             "#7201a8"
            ],
            [
             0.3333333333333333,
             "#9c179e"
            ],
            [
             0.4444444444444444,
             "#bd3786"
            ],
            [
             0.5555555555555556,
             "#d8576b"
            ],
            [
             0.6666666666666666,
             "#ed7953"
            ],
            [
             0.7777777777777778,
             "#fb9f3a"
            ],
            [
             0.8888888888888888,
             "#fdca26"
            ],
            [
             1,
             "#f0f921"
            ]
           ],
           "sequentialminus": [
            [
             0,
             "#0d0887"
            ],
            [
             0.1111111111111111,
             "#46039f"
            ],
            [
             0.2222222222222222,
             "#7201a8"
            ],
            [
             0.3333333333333333,
             "#9c179e"
            ],
            [
             0.4444444444444444,
             "#bd3786"
            ],
            [
             0.5555555555555556,
             "#d8576b"
            ],
            [
             0.6666666666666666,
             "#ed7953"
            ],
            [
             0.7777777777777778,
             "#fb9f3a"
            ],
            [
             0.8888888888888888,
             "#fdca26"
            ],
            [
             1,
             "#f0f921"
            ]
           ]
          },
          "colorway": [
           "#636efa",
           "#EF553B",
           "#00cc96",
           "#ab63fa",
           "#FFA15A",
           "#19d3f3",
           "#FF6692",
           "#B6E880",
           "#FF97FF",
           "#FECB52"
          ],
          "font": {
           "color": "#2a3f5f"
          },
          "geo": {
           "bgcolor": "white",
           "lakecolor": "white",
           "landcolor": "#E5ECF6",
           "showlakes": true,
           "showland": true,
           "subunitcolor": "white"
          },
          "hoverlabel": {
           "align": "left"
          },
          "hovermode": "closest",
          "mapbox": {
           "style": "light"
          },
          "paper_bgcolor": "white",
          "plot_bgcolor": "#E5ECF6",
          "polar": {
           "angularaxis": {
            "gridcolor": "white",
            "linecolor": "white",
            "ticks": ""
           },
           "bgcolor": "#E5ECF6",
           "radialaxis": {
            "gridcolor": "white",
            "linecolor": "white",
            "ticks": ""
           }
          },
          "scene": {
           "xaxis": {
            "backgroundcolor": "#E5ECF6",
            "gridcolor": "white",
            "gridwidth": 2,
            "linecolor": "white",
            "showbackground": true,
            "ticks": "",
            "zerolinecolor": "white"
           },
           "yaxis": {
            "backgroundcolor": "#E5ECF6",
            "gridcolor": "white",
            "gridwidth": 2,
            "linecolor": "white",
            "showbackground": true,
            "ticks": "",
            "zerolinecolor": "white"
           },
           "zaxis": {
            "backgroundcolor": "#E5ECF6",
            "gridcolor": "white",
            "gridwidth": 2,
            "linecolor": "white",
            "showbackground": true,
            "ticks": "",
            "zerolinecolor": "white"
           }
          },
          "shapedefaults": {
           "line": {
            "color": "#2a3f5f"
           }
          },
          "ternary": {
           "aaxis": {
            "gridcolor": "white",
            "linecolor": "white",
            "ticks": ""
           },
           "baxis": {
            "gridcolor": "white",
            "linecolor": "white",
            "ticks": ""
           },
           "bgcolor": "#E5ECF6",
           "caxis": {
            "gridcolor": "white",
            "linecolor": "white",
            "ticks": ""
           }
          },
          "title": {
           "x": 0.05
          },
          "xaxis": {
           "automargin": true,
           "gridcolor": "white",
           "linecolor": "white",
           "ticks": "",
           "title": {
            "standoff": 15
           },
           "zerolinecolor": "white",
           "zerolinewidth": 2
          },
          "yaxis": {
           "automargin": true,
           "gridcolor": "white",
           "linecolor": "white",
           "ticks": "",
           "title": {
            "standoff": 15
           },
           "zerolinecolor": "white",
           "zerolinewidth": 2
          }
         }
        },
        "title": {
         "text": "Top 5 Abilities for 'Music Therapists'"
        }
       }
      }
     },
     "metadata": {},
     "output_type": "display_data"
    }
   ],
   "source": [
    "# Radar chart for top 5 abilities of the top job match\n",
    "top_job_title = top_b_enhanced.iloc[0]['Title']\n",
    "top_abilities = top_b_enhanced[top_b_enhanced['Title'] == top_job_title].nlargest(5, 'Data Value')\n",
    "\n",
    "categories = top_abilities['Ability'].tolist()\n",
    "values = top_abilities['Data Value'].tolist()\n",
    "\n",
    "fig = go.Figure()\n",
    "fig.add_trace(go.Scatterpolar(\n",
    "    r=values,\n",
    "    theta=categories,\n",
    "    fill='toself',\n",
    "    name='Top Job Abilities'\n",
    "))\n",
    "fig.update_layout(\n",
    "    polar=dict(radialaxis=dict(visible=True, range=[0, 5])),\n",
    "    title=f\"Top 5 Abilities for '{top_job_title}'\"\n",
    ")\n",
    "fig.show()"
   ]
  },
  {
   "cell_type": "code",
   "execution_count": null,
   "id": "fc38b47c-f2ff-4f5a-9b11-8129e1d6ae0c",
   "metadata": {},
   "outputs": [],
   "source": []
  }
 ],
 "metadata": {
  "kernelspec": {
   "display_name": "base",
   "language": "python",
   "name": "python3"
  },
  "language_info": {
   "codemirror_mode": {
    "name": "ipython",
    "version": 3
   },
   "file_extension": ".py",
   "mimetype": "text/x-python",
   "name": "python",
   "nbconvert_exporter": "python",
   "pygments_lexer": "ipython3",
   "version": "3.12.7"
  }
 },
 "nbformat": 4,
 "nbformat_minor": 5
}
